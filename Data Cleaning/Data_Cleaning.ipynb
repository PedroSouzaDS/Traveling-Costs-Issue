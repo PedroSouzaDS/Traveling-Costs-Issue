{
 "cells": [
  {
   "cell_type": "markdown",
   "metadata": {},
   "source": [
    "# Pre-processamento e transformação\n",
    "A ideia principal é gerer um insight em relação aos custos das passagens e diárias solicitadas pelos funcionários da instituição, no entanto, precisa-se realizar algumas transformações nos dados, bem como uma análise prévia para que as informações sejam extraídas corretamente."
   ]
  },
  {
   "cell_type": "markdown",
   "metadata": {},
   "source": [
    "# Importando dados"
   ]
  },
  {
   "cell_type": "code",
   "execution_count": 1,
   "metadata": {},
   "outputs": [],
   "source": [
    "import pandas as pd\n",
    "import numpy as np\n",
    "\n",
    "df_ad17 = pd.read_excel('C:/Users/Pedro Fernandes/Desktop/Github/Traveling-Costs-Issue/Datasets/dados2017_adm.xlsx')\n",
    "df_ac17 = pd.read_excel('C:/Users/Pedro Fernandes/Desktop/Github/Traveling-Costs-Issue/Datasets/dados2017_acd.xlsx')\n",
    "df_18 = pd.read_excel('C:/Users/Pedro Fernandes/Desktop/Github/Traveling-Costs-Issue/Datasets/dados2018.xlsx')\n",
    "df_19 = pd.read_excel('C:/Users/Pedro Fernandes/Desktop/Github/Traveling-Costs-Issue/Datasets/dados2019.xlsx')"
   ]
  },
  {
   "cell_type": "markdown",
   "metadata": {},
   "source": [
    "# Analisando dados"
   ]
  },
  {
   "cell_type": "code",
   "execution_count": 2,
   "metadata": {},
   "outputs": [
    {
     "name": "stdout",
     "output_type": "stream",
     "text": [
      "<class 'pandas.core.frame.DataFrame'>\n",
      "RangeIndex: 966 entries, 0 to 965\n",
      "Data columns (total 8 columns):\n",
      " #   Column                         Non-Null Count  Dtype         \n",
      "---  ------                         --------------  -----         \n",
      " 0   Orgao Solicitante              966 non-null    object        \n",
      " 1   Nome do Proposto               966 non-null    object        \n",
      " 2   Numero da PCDP                 966 non-null    object        \n",
      " 3   Data da Solicitacao da Viagem  966 non-null    datetime64[ns]\n",
      " 4   Data Inicio da Viagem          966 non-null    datetime64[ns]\n",
      " 5   Vr. Diaria                     964 non-null    float64       \n",
      " 6   Vr. Passagem                   964 non-null    float64       \n",
      " 7   Vr. Viagem                     964 non-null    float64       \n",
      "dtypes: datetime64[ns](2), float64(3), object(3)\n",
      "memory usage: 60.5+ KB\n"
     ]
    }
   ],
   "source": [
    "df_ad17.info()"
   ]
  },
  {
   "cell_type": "code",
   "execution_count": 3,
   "metadata": {},
   "outputs": [
    {
     "name": "stdout",
     "output_type": "stream",
     "text": [
      "<class 'pandas.core.frame.DataFrame'>\n",
      "RangeIndex: 424 entries, 0 to 423\n",
      "Data columns (total 8 columns):\n",
      " #   Column                         Non-Null Count  Dtype         \n",
      "---  ------                         --------------  -----         \n",
      " 0   Orgao Solicitante              424 non-null    object        \n",
      " 1   Nome do Proposto               424 non-null    object        \n",
      " 2   Numero da PCDP                 424 non-null    object        \n",
      " 3   Data de Solicitacao da Viagem  424 non-null    datetime64[ns]\n",
      " 4   Data Inicio da Viagem          424 non-null    datetime64[ns]\n",
      " 5   Vr. Diaria                     424 non-null    float64       \n",
      " 6   Vr. Passagem                   424 non-null    float64       \n",
      " 7   Vr. Viagem                     424 non-null    float64       \n",
      "dtypes: datetime64[ns](2), float64(3), object(3)\n",
      "memory usage: 26.6+ KB\n"
     ]
    }
   ],
   "source": [
    "df_ac17.info()"
   ]
  },
  {
   "cell_type": "code",
   "execution_count": 4,
   "metadata": {},
   "outputs": [
    {
     "name": "stdout",
     "output_type": "stream",
     "text": [
      "<class 'pandas.core.frame.DataFrame'>\n",
      "RangeIndex: 2688 entries, 0 to 2687\n",
      "Data columns (total 8 columns):\n",
      " #   Column                      Non-Null Count  Dtype         \n",
      "---  ------                      --------------  -----         \n",
      " 0   Unidade (Viagem)            2688 non-null   object        \n",
      " 1   Nome do Passageiro          2688 non-null   object        \n",
      " 2   Número da PCDP              2688 non-null   object        \n",
      " 3   Data Solicitação da Viagem  2688 non-null   datetime64[ns]\n",
      " 4   Data Início da Viagem       2688 non-null   datetime64[ns]\n",
      " 5   Valor das Diárias           2688 non-null   float64       \n",
      " 6   Valor da Passagem           2688 non-null   float64       \n",
      " 7   Valor da Viagem             2688 non-null   float64       \n",
      "dtypes: datetime64[ns](2), float64(3), object(3)\n",
      "memory usage: 168.1+ KB\n"
     ]
    }
   ],
   "source": [
    "df_18.info()"
   ]
  },
  {
   "cell_type": "code",
   "execution_count": 5,
   "metadata": {},
   "outputs": [
    {
     "name": "stdout",
     "output_type": "stream",
     "text": [
      "<class 'pandas.core.frame.DataFrame'>\n",
      "RangeIndex: 2366 entries, 0 to 2365\n",
      "Data columns (total 8 columns):\n",
      " #   Column                      Non-Null Count  Dtype         \n",
      "---  ------                      --------------  -----         \n",
      " 0   Unidade (Viagem)            2366 non-null   object        \n",
      " 1   Nome do Passageiro          2366 non-null   object        \n",
      " 2   Número da PCDP              2366 non-null   object        \n",
      " 3   Data Solicitação da Viagem  2366 non-null   datetime64[ns]\n",
      " 4   Data Início da Viagem       2366 non-null   datetime64[ns]\n",
      " 5   Valor das Diárias           2366 non-null   float64       \n",
      " 6   Valor da Passagem           2366 non-null   float64       \n",
      " 7   Valor da Viagem             2366 non-null   float64       \n",
      "dtypes: datetime64[ns](2), float64(3), object(3)\n",
      "memory usage: 148.0+ KB\n"
     ]
    }
   ],
   "source": [
    "df_19.info()"
   ]
  },
  {
   "cell_type": "markdown",
   "metadata": {},
   "source": [
    "Tipos de dados se encontram dentro do esperado, a princípio não havendo a necessidade de convertê-los. A primeira tabela se encontra 2 dados faltantes para \"Valor Passagem\", \"Valor Diária\" e \"Valor Viagem\". No entanto, neste caso, não apenas os valores faltantes acusados pela análise podem ser considerados valores faltantes, os dados de \"Valor da Viagem\" iguais a zero também devem ser considerados dados faltantes, pois se há registro na tabela é porque houve solicitação e se houve solicitação teóricamente houveram compras/reservas ou ambos. Portanto, estes dados devem ser tratados também mais adiante. "
   ]
  },
  {
   "cell_type": "code",
   "execution_count": 6,
   "metadata": {},
   "outputs": [
    {
     "data": {
      "text/html": [
       "<div>\n",
       "<style scoped>\n",
       "    .dataframe tbody tr th:only-of-type {\n",
       "        vertical-align: middle;\n",
       "    }\n",
       "\n",
       "    .dataframe tbody tr th {\n",
       "        vertical-align: top;\n",
       "    }\n",
       "\n",
       "    .dataframe thead th {\n",
       "        text-align: right;\n",
       "    }\n",
       "</style>\n",
       "<table border=\"1\" class=\"dataframe\">\n",
       "  <thead>\n",
       "    <tr style=\"text-align: right;\">\n",
       "      <th></th>\n",
       "      <th>Orgao Solicitante</th>\n",
       "      <th>Nome do Proposto</th>\n",
       "      <th>Numero da PCDP</th>\n",
       "      <th>Data da Solicitacao da Viagem</th>\n",
       "      <th>Data Inicio da Viagem</th>\n",
       "      <th>Vr. Diaria</th>\n",
       "      <th>Vr. Passagem</th>\n",
       "      <th>Vr. Viagem</th>\n",
       "    </tr>\n",
       "  </thead>\n",
       "  <tbody>\n",
       "    <tr>\n",
       "      <th>0</th>\n",
       "      <td>Assessoria de Comunicacao Institucional</td>\n",
       "      <td>ADRIANO MEDEIROS DA ROCHA</td>\n",
       "      <td>000223/17</td>\n",
       "      <td>2017-02-10</td>\n",
       "      <td>2017-02-15</td>\n",
       "      <td>330.77</td>\n",
       "      <td>0.00</td>\n",
       "      <td>330.77</td>\n",
       "    </tr>\n",
       "    <tr>\n",
       "      <th>1</th>\n",
       "      <td>Assessoria de Comunicacao Institucional</td>\n",
       "      <td>FRANCISCO JOSE DAHER JUNIOR</td>\n",
       "      <td>001051/17</td>\n",
       "      <td>2017-05-17</td>\n",
       "      <td>2017-05-24</td>\n",
       "      <td>186.28</td>\n",
       "      <td>1288.54</td>\n",
       "      <td>1474.82</td>\n",
       "    </tr>\n",
       "    <tr>\n",
       "      <th>2</th>\n",
       "      <td>Centro Desportivo</td>\n",
       "      <td>HEBER EUSTAQUIO DE PAULA</td>\n",
       "      <td>000480/17</td>\n",
       "      <td>2017-03-10</td>\n",
       "      <td>2017-03-20</td>\n",
       "      <td>12.49</td>\n",
       "      <td>0.00</td>\n",
       "      <td>12.49</td>\n",
       "    </tr>\n",
       "    <tr>\n",
       "      <th>3</th>\n",
       "      <td>Centro Desportivo</td>\n",
       "      <td>HEBER EUSTAQUIO DE PAULA</td>\n",
       "      <td>001040/17</td>\n",
       "      <td>2017-05-17</td>\n",
       "      <td>2017-06-28</td>\n",
       "      <td>125.93</td>\n",
       "      <td>396.32</td>\n",
       "      <td>522.25</td>\n",
       "    </tr>\n",
       "    <tr>\n",
       "      <th>4</th>\n",
       "      <td>Gabinete do Reitor</td>\n",
       "      <td>ALESSANDRA RODRIGUES KOZOVITS</td>\n",
       "      <td>001265/17</td>\n",
       "      <td>2017-06-12</td>\n",
       "      <td>2017-06-14</td>\n",
       "      <td>101.89</td>\n",
       "      <td>0.00</td>\n",
       "      <td>101.89</td>\n",
       "    </tr>\n",
       "  </tbody>\n",
       "</table>\n",
       "</div>"
      ],
      "text/plain": [
       "                         Orgao Solicitante               Nome do Proposto  \\\n",
       "0  Assessoria de Comunicacao Institucional      ADRIANO MEDEIROS DA ROCHA   \n",
       "1  Assessoria de Comunicacao Institucional    FRANCISCO JOSE DAHER JUNIOR   \n",
       "2                        Centro Desportivo       HEBER EUSTAQUIO DE PAULA   \n",
       "3                        Centro Desportivo       HEBER EUSTAQUIO DE PAULA   \n",
       "4                       Gabinete do Reitor  ALESSANDRA RODRIGUES KOZOVITS   \n",
       "\n",
       "  Numero da PCDP Data da Solicitacao da Viagem Data Inicio da Viagem  \\\n",
       "0      000223/17                    2017-02-10            2017-02-15   \n",
       "1      001051/17                    2017-05-17            2017-05-24   \n",
       "2      000480/17                    2017-03-10            2017-03-20   \n",
       "3      001040/17                    2017-05-17            2017-06-28   \n",
       "4      001265/17                    2017-06-12            2017-06-14   \n",
       "\n",
       "   Vr. Diaria  Vr. Passagem  Vr. Viagem  \n",
       "0      330.77          0.00      330.77  \n",
       "1      186.28       1288.54     1474.82  \n",
       "2       12.49          0.00       12.49  \n",
       "3      125.93        396.32      522.25  \n",
       "4      101.89          0.00      101.89  "
      ]
     },
     "execution_count": 6,
     "metadata": {},
     "output_type": "execute_result"
    }
   ],
   "source": [
    "df_ad17.head()"
   ]
  },
  {
   "cell_type": "code",
   "execution_count": 7,
   "metadata": {},
   "outputs": [
    {
     "data": {
      "text/html": [
       "<div>\n",
       "<style scoped>\n",
       "    .dataframe tbody tr th:only-of-type {\n",
       "        vertical-align: middle;\n",
       "    }\n",
       "\n",
       "    .dataframe tbody tr th {\n",
       "        vertical-align: top;\n",
       "    }\n",
       "\n",
       "    .dataframe thead th {\n",
       "        text-align: right;\n",
       "    }\n",
       "</style>\n",
       "<table border=\"1\" class=\"dataframe\">\n",
       "  <thead>\n",
       "    <tr style=\"text-align: right;\">\n",
       "      <th></th>\n",
       "      <th>Orgao Solicitante</th>\n",
       "      <th>Nome do Proposto</th>\n",
       "      <th>Numero da PCDP</th>\n",
       "      <th>Data de Solicitacao da Viagem</th>\n",
       "      <th>Data Inicio da Viagem</th>\n",
       "      <th>Vr. Diaria</th>\n",
       "      <th>Vr. Passagem</th>\n",
       "      <th>Vr. Viagem</th>\n",
       "    </tr>\n",
       "  </thead>\n",
       "  <tbody>\n",
       "    <tr>\n",
       "      <th>0</th>\n",
       "      <td>Centro de Educacao Aberta e a Dist?ncia</td>\n",
       "      <td>ADRIANO SERGIO LOPES DA GAMA CERQUEIRA</td>\n",
       "      <td>000631/17</td>\n",
       "      <td>2017-03-24</td>\n",
       "      <td>2017-03-29</td>\n",
       "      <td>283.11</td>\n",
       "      <td>0.0</td>\n",
       "      <td>283.11</td>\n",
       "    </tr>\n",
       "    <tr>\n",
       "      <th>1</th>\n",
       "      <td>Centro de Educacao Aberta e a Dist?ncia</td>\n",
       "      <td>ADRIANO SERGIO LOPES DA GAMA CERQUEIRA</td>\n",
       "      <td>000632/17</td>\n",
       "      <td>2017-03-24</td>\n",
       "      <td>2017-04-01</td>\n",
       "      <td>360.50</td>\n",
       "      <td>0.0</td>\n",
       "      <td>360.50</td>\n",
       "    </tr>\n",
       "    <tr>\n",
       "      <th>2</th>\n",
       "      <td>Centro de Educacao Aberta e a Dist?ncia</td>\n",
       "      <td>ADRIANO SERGIO LOPES DA GAMA CERQUEIRA</td>\n",
       "      <td>000664/17</td>\n",
       "      <td>2017-03-29</td>\n",
       "      <td>2017-04-07</td>\n",
       "      <td>389.37</td>\n",
       "      <td>0.0</td>\n",
       "      <td>389.37</td>\n",
       "    </tr>\n",
       "    <tr>\n",
       "      <th>3</th>\n",
       "      <td>Centro de Educacao Aberta e a Dist?ncia</td>\n",
       "      <td>ADRIANO SERGIO LOPES DA GAMA CERQUEIRA</td>\n",
       "      <td>000830/17</td>\n",
       "      <td>2017-04-20</td>\n",
       "      <td>2017-04-26</td>\n",
       "      <td>274.11</td>\n",
       "      <td>0.0</td>\n",
       "      <td>274.11</td>\n",
       "    </tr>\n",
       "    <tr>\n",
       "      <th>4</th>\n",
       "      <td>Centro de Educacao Aberta e a Dist?ncia</td>\n",
       "      <td>ADRIANO SERGIO LOPES DA GAMA CERQUEIRA</td>\n",
       "      <td>000868/17</td>\n",
       "      <td>2017-05-03</td>\n",
       "      <td>2017-05-09</td>\n",
       "      <td>394.98</td>\n",
       "      <td>0.0</td>\n",
       "      <td>394.98</td>\n",
       "    </tr>\n",
       "  </tbody>\n",
       "</table>\n",
       "</div>"
      ],
      "text/plain": [
       "                         Orgao Solicitante  \\\n",
       "0  Centro de Educacao Aberta e a Dist?ncia   \n",
       "1  Centro de Educacao Aberta e a Dist?ncia   \n",
       "2  Centro de Educacao Aberta e a Dist?ncia   \n",
       "3  Centro de Educacao Aberta e a Dist?ncia   \n",
       "4  Centro de Educacao Aberta e a Dist?ncia   \n",
       "\n",
       "                         Nome do Proposto Numero da PCDP  \\\n",
       "0  ADRIANO SERGIO LOPES DA GAMA CERQUEIRA      000631/17   \n",
       "1  ADRIANO SERGIO LOPES DA GAMA CERQUEIRA      000632/17   \n",
       "2  ADRIANO SERGIO LOPES DA GAMA CERQUEIRA      000664/17   \n",
       "3  ADRIANO SERGIO LOPES DA GAMA CERQUEIRA      000830/17   \n",
       "4  ADRIANO SERGIO LOPES DA GAMA CERQUEIRA      000868/17   \n",
       "\n",
       "  Data de Solicitacao da Viagem Data Inicio da Viagem  Vr. Diaria  \\\n",
       "0                    2017-03-24            2017-03-29      283.11   \n",
       "1                    2017-03-24            2017-04-01      360.50   \n",
       "2                    2017-03-29            2017-04-07      389.37   \n",
       "3                    2017-04-20            2017-04-26      274.11   \n",
       "4                    2017-05-03            2017-05-09      394.98   \n",
       "\n",
       "   Vr. Passagem  Vr. Viagem  \n",
       "0           0.0      283.11  \n",
       "1           0.0      360.50  \n",
       "2           0.0      389.37  \n",
       "3           0.0      274.11  \n",
       "4           0.0      394.98  "
      ]
     },
     "execution_count": 7,
     "metadata": {},
     "output_type": "execute_result"
    }
   ],
   "source": [
    "df_ac17.head()"
   ]
  },
  {
   "cell_type": "code",
   "execution_count": 8,
   "metadata": {},
   "outputs": [
    {
     "data": {
      "text/html": [
       "<div>\n",
       "<style scoped>\n",
       "    .dataframe tbody tr th:only-of-type {\n",
       "        vertical-align: middle;\n",
       "    }\n",
       "\n",
       "    .dataframe tbody tr th {\n",
       "        vertical-align: top;\n",
       "    }\n",
       "\n",
       "    .dataframe thead th {\n",
       "        text-align: right;\n",
       "    }\n",
       "</style>\n",
       "<table border=\"1\" class=\"dataframe\">\n",
       "  <thead>\n",
       "    <tr style=\"text-align: right;\">\n",
       "      <th></th>\n",
       "      <th>Unidade (Viagem)</th>\n",
       "      <th>Nome do Passageiro</th>\n",
       "      <th>Número da PCDP</th>\n",
       "      <th>Data Solicitação da Viagem</th>\n",
       "      <th>Data Início da Viagem</th>\n",
       "      <th>Valor das Diárias</th>\n",
       "      <th>Valor da Passagem</th>\n",
       "      <th>Valor da Viagem</th>\n",
       "    </tr>\n",
       "  </thead>\n",
       "  <tbody>\n",
       "    <tr>\n",
       "      <th>0</th>\n",
       "      <td>REITORIA</td>\n",
       "      <td>SERGIO FRANCISCO DE AQUINO</td>\n",
       "      <td>001415/18-1C</td>\n",
       "      <td>2018-07-10</td>\n",
       "      <td>2018-09-22</td>\n",
       "      <td>7709.84</td>\n",
       "      <td>5817.79</td>\n",
       "      <td>13630.55</td>\n",
       "    </tr>\n",
       "    <tr>\n",
       "      <th>1</th>\n",
       "      <td>REITORIA</td>\n",
       "      <td>ANDERSON ANTONIO GAMARANO</td>\n",
       "      <td>002135/18</td>\n",
       "      <td>2018-10-02</td>\n",
       "      <td>2018-11-10</td>\n",
       "      <td>9149.32</td>\n",
       "      <td>3507.28</td>\n",
       "      <td>12749.85</td>\n",
       "    </tr>\n",
       "    <tr>\n",
       "      <th>2</th>\n",
       "      <td>REITORIA</td>\n",
       "      <td>CLAUDIA APARECIDA MARLIERE DE LIMA</td>\n",
       "      <td>000977/18</td>\n",
       "      <td>2018-06-04</td>\n",
       "      <td>2018-06-10</td>\n",
       "      <td>6928.56</td>\n",
       "      <td>5536.08</td>\n",
       "      <td>12464.64</td>\n",
       "    </tr>\n",
       "    <tr>\n",
       "      <th>3</th>\n",
       "      <td>REITORIA</td>\n",
       "      <td>CLAUDIA APARECIDA MARLIERE DE LIMA</td>\n",
       "      <td>000335/18</td>\n",
       "      <td>2018-03-14</td>\n",
       "      <td>2018-05-19</td>\n",
       "      <td>3005.88</td>\n",
       "      <td>4582.94</td>\n",
       "      <td>7588.82</td>\n",
       "    </tr>\n",
       "    <tr>\n",
       "      <th>4</th>\n",
       "      <td>REITORIA</td>\n",
       "      <td>CLAUDIA APARECIDA MARLIERE DE LIMA</td>\n",
       "      <td>000195/18</td>\n",
       "      <td>2018-02-20</td>\n",
       "      <td>2018-02-21</td>\n",
       "      <td>4487.67</td>\n",
       "      <td>0.00</td>\n",
       "      <td>4487.67</td>\n",
       "    </tr>\n",
       "  </tbody>\n",
       "</table>\n",
       "</div>"
      ],
      "text/plain": [
       "  Unidade (Viagem)                  Nome do Passageiro Número da PCDP  \\\n",
       "0         REITORIA          SERGIO FRANCISCO DE AQUINO   001415/18-1C   \n",
       "1         REITORIA           ANDERSON ANTONIO GAMARANO      002135/18   \n",
       "2         REITORIA  CLAUDIA APARECIDA MARLIERE DE LIMA      000977/18   \n",
       "3         REITORIA  CLAUDIA APARECIDA MARLIERE DE LIMA      000335/18   \n",
       "4         REITORIA  CLAUDIA APARECIDA MARLIERE DE LIMA      000195/18   \n",
       "\n",
       "  Data Solicitação da Viagem Data Início da Viagem  Valor das Diárias  \\\n",
       "0                 2018-07-10            2018-09-22            7709.84   \n",
       "1                 2018-10-02            2018-11-10            9149.32   \n",
       "2                 2018-06-04            2018-06-10            6928.56   \n",
       "3                 2018-03-14            2018-05-19            3005.88   \n",
       "4                 2018-02-20            2018-02-21            4487.67   \n",
       "\n",
       "   Valor da Passagem  Valor da Viagem  \n",
       "0            5817.79         13630.55  \n",
       "1            3507.28         12749.85  \n",
       "2            5536.08         12464.64  \n",
       "3            4582.94          7588.82  \n",
       "4               0.00          4487.67  "
      ]
     },
     "execution_count": 8,
     "metadata": {},
     "output_type": "execute_result"
    }
   ],
   "source": [
    "df_18.head()"
   ]
  },
  {
   "cell_type": "code",
   "execution_count": 9,
   "metadata": {},
   "outputs": [
    {
     "data": {
      "text/html": [
       "<div>\n",
       "<style scoped>\n",
       "    .dataframe tbody tr th:only-of-type {\n",
       "        vertical-align: middle;\n",
       "    }\n",
       "\n",
       "    .dataframe tbody tr th {\n",
       "        vertical-align: top;\n",
       "    }\n",
       "\n",
       "    .dataframe thead th {\n",
       "        text-align: right;\n",
       "    }\n",
       "</style>\n",
       "<table border=\"1\" class=\"dataframe\">\n",
       "  <thead>\n",
       "    <tr style=\"text-align: right;\">\n",
       "      <th></th>\n",
       "      <th>Unidade (Viagem)</th>\n",
       "      <th>Nome do Passageiro</th>\n",
       "      <th>Número da PCDP</th>\n",
       "      <th>Data Solicitação da Viagem</th>\n",
       "      <th>Data Início da Viagem</th>\n",
       "      <th>Valor das Diárias</th>\n",
       "      <th>Valor da Passagem</th>\n",
       "      <th>Valor da Viagem</th>\n",
       "    </tr>\n",
       "  </thead>\n",
       "  <tbody>\n",
       "    <tr>\n",
       "      <th>0</th>\n",
       "      <td>REITORIA</td>\n",
       "      <td>NITIS MUKHOPADHYAY</td>\n",
       "      <td>000024/19</td>\n",
       "      <td>2019-01-21</td>\n",
       "      <td>2019-03-14</td>\n",
       "      <td>0.00</td>\n",
       "      <td>15088.39</td>\n",
       "      <td>15088.39</td>\n",
       "    </tr>\n",
       "    <tr>\n",
       "      <th>1</th>\n",
       "      <td>ESCOLA DE MINAS</td>\n",
       "      <td>HERNANI MOTA DE LIMA</td>\n",
       "      <td>000547/19-1C</td>\n",
       "      <td>2019-04-10</td>\n",
       "      <td>2019-04-22</td>\n",
       "      <td>860.18</td>\n",
       "      <td>7390.03</td>\n",
       "      <td>8392.17</td>\n",
       "    </tr>\n",
       "    <tr>\n",
       "      <th>2</th>\n",
       "      <td>REITORIA</td>\n",
       "      <td>WILLIAM DE CASTRO BORGES</td>\n",
       "      <td>001529/19</td>\n",
       "      <td>2019-08-30</td>\n",
       "      <td>2019-10-07</td>\n",
       "      <td>1247.95</td>\n",
       "      <td>4715.86</td>\n",
       "      <td>5963.81</td>\n",
       "    </tr>\n",
       "    <tr>\n",
       "      <th>3</th>\n",
       "      <td>ESCOLA DE NUTRIÇÃO</td>\n",
       "      <td>JULICRISTIE MACHADO DE OLIVEIRA</td>\n",
       "      <td>001848/19-1C</td>\n",
       "      <td>2019-10-02</td>\n",
       "      <td>2019-10-13</td>\n",
       "      <td>1506.02</td>\n",
       "      <td>3178.90</td>\n",
       "      <td>4684.92</td>\n",
       "    </tr>\n",
       "    <tr>\n",
       "      <th>4</th>\n",
       "      <td>ESCOLA DE FARMÁCIA</td>\n",
       "      <td>ROSARIO DOMINGUEZ CRESPO HIRATA</td>\n",
       "      <td>001922/19-1C</td>\n",
       "      <td>2019-10-10</td>\n",
       "      <td>2019-10-20</td>\n",
       "      <td>1776.50</td>\n",
       "      <td>2560.21</td>\n",
       "      <td>4336.71</td>\n",
       "    </tr>\n",
       "  </tbody>\n",
       "</table>\n",
       "</div>"
      ],
      "text/plain": [
       "     Unidade (Viagem)               Nome do Passageiro Número da PCDP  \\\n",
       "0            REITORIA               NITIS MUKHOPADHYAY      000024/19   \n",
       "1     ESCOLA DE MINAS             HERNANI MOTA DE LIMA   000547/19-1C   \n",
       "2            REITORIA         WILLIAM DE CASTRO BORGES      001529/19   \n",
       "3  ESCOLA DE NUTRIÇÃO  JULICRISTIE MACHADO DE OLIVEIRA   001848/19-1C   \n",
       "4  ESCOLA DE FARMÁCIA  ROSARIO DOMINGUEZ CRESPO HIRATA   001922/19-1C   \n",
       "\n",
       "  Data Solicitação da Viagem Data Início da Viagem  Valor das Diárias  \\\n",
       "0                 2019-01-21            2019-03-14               0.00   \n",
       "1                 2019-04-10            2019-04-22             860.18   \n",
       "2                 2019-08-30            2019-10-07            1247.95   \n",
       "3                 2019-10-02            2019-10-13            1506.02   \n",
       "4                 2019-10-10            2019-10-20            1776.50   \n",
       "\n",
       "   Valor da Passagem  Valor da Viagem  \n",
       "0           15088.39         15088.39  \n",
       "1            7390.03          8392.17  \n",
       "2            4715.86          5963.81  \n",
       "3            3178.90          4684.92  \n",
       "4            2560.21          4336.71  "
      ]
     },
     "execution_count": 9,
     "metadata": {},
     "output_type": "execute_result"
    }
   ],
   "source": [
    "df_19.head()"
   ]
  },
  {
   "cell_type": "markdown",
   "metadata": {},
   "source": [
    "Há diferenças entre as tabelas que podem atrapalhar na hora de concatená-las e gerar duplicidade de dados, como por exemplo as duas primeiras tabelas referentes a 2017 não obedecem acentuações gráficas e, inclusive, apresentam problemas de encoding. As demais tabelas já obedecem a acentuação e estão todos em \"upper\". Tais problemas podem acarretar em duplicidade de dados depois da concatenação.\n",
    "\n",
    "Outro problema é a diferença dos títulos das colunas, devem ter o mesmo título para o Pandas conseguir concatená-los"
   ]
  },
  {
   "cell_type": "markdown",
   "metadata": {},
   "source": [
    "# Tratando tabelas individualmente\n",
    "\n",
    "As tabelas serão tratadas individualmente pois é muito mais fácil analisá-las mais a fundo assim, como por exemplo usando método \"value_counts\""
   ]
  },
  {
   "cell_type": "markdown",
   "metadata": {},
   "source": [
    "### Padronizando índices colunas"
   ]
  },
  {
   "cell_type": "markdown",
   "metadata": {},
   "source": [
    "Administrativo de 2017"
   ]
  },
  {
   "cell_type": "code",
   "execution_count": 10,
   "metadata": {},
   "outputs": [
    {
     "data": {
      "text/plain": [
       "Index(['Orgao Solicitante', 'Nome do Proposto', 'Numero da PCDP',\n",
       "       'Data da Solicitacao da Viagem', 'Data Inicio da Viagem', 'Vr. Diaria',\n",
       "       'Vr. Passagem', 'Vr. Viagem'],\n",
       "      dtype='object')"
      ]
     },
     "execution_count": 10,
     "metadata": {},
     "output_type": "execute_result"
    }
   ],
   "source": [
    "df_ad17.columns"
   ]
  },
  {
   "cell_type": "code",
   "execution_count": 11,
   "metadata": {},
   "outputs": [],
   "source": [
    "df_ad17.columns = ['Orgao_Solicitante', 'Nome_Solicitante', 'Numero_PCDP',\n",
    "       'Solicitacao_Viagem', 'Inicio_Viagem', 'Vr_Diaria',\n",
    "       'Vr_Passagem', 'Vr_Viagem']"
   ]
  },
  {
   "cell_type": "code",
   "execution_count": 12,
   "metadata": {},
   "outputs": [
    {
     "name": "stdout",
     "output_type": "stream",
     "text": [
      "<class 'pandas.core.frame.DataFrame'>\n",
      "RangeIndex: 966 entries, 0 to 965\n",
      "Data columns (total 8 columns):\n",
      " #   Column              Non-Null Count  Dtype         \n",
      "---  ------              --------------  -----         \n",
      " 0   Orgao_Solicitante   966 non-null    object        \n",
      " 1   Nome_Solicitante    966 non-null    object        \n",
      " 2   Numero_PCDP         966 non-null    object        \n",
      " 3   Solicitacao_Viagem  966 non-null    datetime64[ns]\n",
      " 4   Inicio_Viagem       966 non-null    datetime64[ns]\n",
      " 5   Vr_Diaria           964 non-null    float64       \n",
      " 6   Vr_Passagem         964 non-null    float64       \n",
      " 7   Vr_Viagem           964 non-null    float64       \n",
      "dtypes: datetime64[ns](2), float64(3), object(3)\n",
      "memory usage: 60.5+ KB\n"
     ]
    }
   ],
   "source": [
    "df_ad17.info()"
   ]
  },
  {
   "cell_type": "markdown",
   "metadata": {},
   "source": [
    "Acadêmico de 2017"
   ]
  },
  {
   "cell_type": "code",
   "execution_count": 13,
   "metadata": {},
   "outputs": [
    {
     "data": {
      "text/plain": [
       "Index(['Orgao Solicitante', 'Nome do Proposto', 'Numero da PCDP',\n",
       "       'Data de Solicitacao da Viagem', 'Data Inicio da Viagem', 'Vr. Diaria',\n",
       "       'Vr. Passagem', 'Vr. Viagem'],\n",
       "      dtype='object')"
      ]
     },
     "execution_count": 13,
     "metadata": {},
     "output_type": "execute_result"
    }
   ],
   "source": [
    "df_ac17.columns"
   ]
  },
  {
   "cell_type": "code",
   "execution_count": 14,
   "metadata": {},
   "outputs": [],
   "source": [
    "df_ac17.columns = ['Orgao_Solicitante', 'Nome_Solicitante', 'Numero_PCDP',\n",
    "       'Solicitacao_Viagem', 'Inicio_Viagem', 'Vr_Diaria',\n",
    "       'Vr_Passagem', 'Vr_Viagem']"
   ]
  },
  {
   "cell_type": "code",
   "execution_count": 15,
   "metadata": {},
   "outputs": [
    {
     "name": "stdout",
     "output_type": "stream",
     "text": [
      "<class 'pandas.core.frame.DataFrame'>\n",
      "RangeIndex: 424 entries, 0 to 423\n",
      "Data columns (total 8 columns):\n",
      " #   Column              Non-Null Count  Dtype         \n",
      "---  ------              --------------  -----         \n",
      " 0   Orgao_Solicitante   424 non-null    object        \n",
      " 1   Nome_Solicitante    424 non-null    object        \n",
      " 2   Numero_PCDP         424 non-null    object        \n",
      " 3   Solicitacao_Viagem  424 non-null    datetime64[ns]\n",
      " 4   Inicio_Viagem       424 non-null    datetime64[ns]\n",
      " 5   Vr_Diaria           424 non-null    float64       \n",
      " 6   Vr_Passagem         424 non-null    float64       \n",
      " 7   Vr_Viagem           424 non-null    float64       \n",
      "dtypes: datetime64[ns](2), float64(3), object(3)\n",
      "memory usage: 26.6+ KB\n"
     ]
    }
   ],
   "source": [
    "df_ac17.info()"
   ]
  },
  {
   "cell_type": "markdown",
   "metadata": {},
   "source": [
    "Tabela de 2018"
   ]
  },
  {
   "cell_type": "code",
   "execution_count": 16,
   "metadata": {},
   "outputs": [],
   "source": [
    "df_18.columns = ['Orgao_Solicitante', 'Nome_Solicitante', 'Numero_PCDP',\n",
    "       'Solicitacao_Viagem', 'Inicio_Viagem', 'Vr_Diaria',\n",
    "       'Vr_Passagem', 'Vr_Viagem']"
   ]
  },
  {
   "cell_type": "code",
   "execution_count": 17,
   "metadata": {},
   "outputs": [
    {
     "name": "stdout",
     "output_type": "stream",
     "text": [
      "<class 'pandas.core.frame.DataFrame'>\n",
      "RangeIndex: 2688 entries, 0 to 2687\n",
      "Data columns (total 8 columns):\n",
      " #   Column              Non-Null Count  Dtype         \n",
      "---  ------              --------------  -----         \n",
      " 0   Orgao_Solicitante   2688 non-null   object        \n",
      " 1   Nome_Solicitante    2688 non-null   object        \n",
      " 2   Numero_PCDP         2688 non-null   object        \n",
      " 3   Solicitacao_Viagem  2688 non-null   datetime64[ns]\n",
      " 4   Inicio_Viagem       2688 non-null   datetime64[ns]\n",
      " 5   Vr_Diaria           2688 non-null   float64       \n",
      " 6   Vr_Passagem         2688 non-null   float64       \n",
      " 7   Vr_Viagem           2688 non-null   float64       \n",
      "dtypes: datetime64[ns](2), float64(3), object(3)\n",
      "memory usage: 168.1+ KB\n"
     ]
    }
   ],
   "source": [
    "df_18.info()"
   ]
  },
  {
   "cell_type": "markdown",
   "metadata": {},
   "source": [
    "Tabela de 2019"
   ]
  },
  {
   "cell_type": "code",
   "execution_count": 18,
   "metadata": {
    "scrolled": true
   },
   "outputs": [
    {
     "data": {
      "text/plain": [
       "Index(['Unidade (Viagem)', 'Nome do Passageiro', 'Número da PCDP',\n",
       "       'Data Solicitação da Viagem', 'Data Início da Viagem',\n",
       "       'Valor das Diárias', 'Valor da Passagem', 'Valor da Viagem'],\n",
       "      dtype='object')"
      ]
     },
     "execution_count": 18,
     "metadata": {},
     "output_type": "execute_result"
    }
   ],
   "source": [
    "df_19.columns"
   ]
  },
  {
   "cell_type": "code",
   "execution_count": 19,
   "metadata": {},
   "outputs": [],
   "source": [
    "df_19.columns = ['Orgao_Solicitante', 'Nome_Solicitante', 'Numero_PCDP',\n",
    "       'Solicitacao_Viagem', 'Inicio_Viagem', 'Vr_Diaria',\n",
    "       'Vr_Passagem', 'Vr_Viagem']"
   ]
  },
  {
   "cell_type": "code",
   "execution_count": 20,
   "metadata": {},
   "outputs": [
    {
     "name": "stdout",
     "output_type": "stream",
     "text": [
      "<class 'pandas.core.frame.DataFrame'>\n",
      "RangeIndex: 2366 entries, 0 to 2365\n",
      "Data columns (total 8 columns):\n",
      " #   Column              Non-Null Count  Dtype         \n",
      "---  ------              --------------  -----         \n",
      " 0   Orgao_Solicitante   2366 non-null   object        \n",
      " 1   Nome_Solicitante    2366 non-null   object        \n",
      " 2   Numero_PCDP         2366 non-null   object        \n",
      " 3   Solicitacao_Viagem  2366 non-null   datetime64[ns]\n",
      " 4   Inicio_Viagem       2366 non-null   datetime64[ns]\n",
      " 5   Vr_Diaria           2366 non-null   float64       \n",
      " 6   Vr_Passagem         2366 non-null   float64       \n",
      " 7   Vr_Viagem           2366 non-null   float64       \n",
      "dtypes: datetime64[ns](2), float64(3), object(3)\n",
      "memory usage: 148.0+ KB\n"
     ]
    }
   ],
   "source": [
    "df_19.info()"
   ]
  },
  {
   "cell_type": "markdown",
   "metadata": {},
   "source": [
    "### Corrigindo Ortografia e padronizando dados de texto"
   ]
  },
  {
   "cell_type": "markdown",
   "metadata": {},
   "source": [
    "Acadêmico de 2017"
   ]
  },
  {
   "cell_type": "code",
   "execution_count": 21,
   "metadata": {},
   "outputs": [
    {
     "data": {
      "text/html": [
       "<div>\n",
       "<style scoped>\n",
       "    .dataframe tbody tr th:only-of-type {\n",
       "        vertical-align: middle;\n",
       "    }\n",
       "\n",
       "    .dataframe tbody tr th {\n",
       "        vertical-align: top;\n",
       "    }\n",
       "\n",
       "    .dataframe thead th {\n",
       "        text-align: right;\n",
       "    }\n",
       "</style>\n",
       "<table border=\"1\" class=\"dataframe\">\n",
       "  <thead>\n",
       "    <tr style=\"text-align: right;\">\n",
       "      <th></th>\n",
       "      <th>Orgao_Solicitante</th>\n",
       "      <th>Nome_Solicitante</th>\n",
       "      <th>Numero_PCDP</th>\n",
       "      <th>Solicitacao_Viagem</th>\n",
       "      <th>Inicio_Viagem</th>\n",
       "      <th>Vr_Diaria</th>\n",
       "      <th>Vr_Passagem</th>\n",
       "      <th>Vr_Viagem</th>\n",
       "    </tr>\n",
       "  </thead>\n",
       "  <tbody>\n",
       "    <tr>\n",
       "      <th>0</th>\n",
       "      <td>Centro de Educacao Aberta e a Dist?ncia</td>\n",
       "      <td>ADRIANO SERGIO LOPES DA GAMA CERQUEIRA</td>\n",
       "      <td>000631/17</td>\n",
       "      <td>2017-03-24</td>\n",
       "      <td>2017-03-29</td>\n",
       "      <td>283.11</td>\n",
       "      <td>0.0</td>\n",
       "      <td>283.11</td>\n",
       "    </tr>\n",
       "    <tr>\n",
       "      <th>1</th>\n",
       "      <td>Centro de Educacao Aberta e a Dist?ncia</td>\n",
       "      <td>ADRIANO SERGIO LOPES DA GAMA CERQUEIRA</td>\n",
       "      <td>000632/17</td>\n",
       "      <td>2017-03-24</td>\n",
       "      <td>2017-04-01</td>\n",
       "      <td>360.50</td>\n",
       "      <td>0.0</td>\n",
       "      <td>360.50</td>\n",
       "    </tr>\n",
       "    <tr>\n",
       "      <th>2</th>\n",
       "      <td>Centro de Educacao Aberta e a Dist?ncia</td>\n",
       "      <td>ADRIANO SERGIO LOPES DA GAMA CERQUEIRA</td>\n",
       "      <td>000664/17</td>\n",
       "      <td>2017-03-29</td>\n",
       "      <td>2017-04-07</td>\n",
       "      <td>389.37</td>\n",
       "      <td>0.0</td>\n",
       "      <td>389.37</td>\n",
       "    </tr>\n",
       "    <tr>\n",
       "      <th>3</th>\n",
       "      <td>Centro de Educacao Aberta e a Dist?ncia</td>\n",
       "      <td>ADRIANO SERGIO LOPES DA GAMA CERQUEIRA</td>\n",
       "      <td>000830/17</td>\n",
       "      <td>2017-04-20</td>\n",
       "      <td>2017-04-26</td>\n",
       "      <td>274.11</td>\n",
       "      <td>0.0</td>\n",
       "      <td>274.11</td>\n",
       "    </tr>\n",
       "    <tr>\n",
       "      <th>4</th>\n",
       "      <td>Centro de Educacao Aberta e a Dist?ncia</td>\n",
       "      <td>ADRIANO SERGIO LOPES DA GAMA CERQUEIRA</td>\n",
       "      <td>000868/17</td>\n",
       "      <td>2017-05-03</td>\n",
       "      <td>2017-05-09</td>\n",
       "      <td>394.98</td>\n",
       "      <td>0.0</td>\n",
       "      <td>394.98</td>\n",
       "    </tr>\n",
       "  </tbody>\n",
       "</table>\n",
       "</div>"
      ],
      "text/plain": [
       "                         Orgao_Solicitante  \\\n",
       "0  Centro de Educacao Aberta e a Dist?ncia   \n",
       "1  Centro de Educacao Aberta e a Dist?ncia   \n",
       "2  Centro de Educacao Aberta e a Dist?ncia   \n",
       "3  Centro de Educacao Aberta e a Dist?ncia   \n",
       "4  Centro de Educacao Aberta e a Dist?ncia   \n",
       "\n",
       "                         Nome_Solicitante Numero_PCDP Solicitacao_Viagem  \\\n",
       "0  ADRIANO SERGIO LOPES DA GAMA CERQUEIRA   000631/17         2017-03-24   \n",
       "1  ADRIANO SERGIO LOPES DA GAMA CERQUEIRA   000632/17         2017-03-24   \n",
       "2  ADRIANO SERGIO LOPES DA GAMA CERQUEIRA   000664/17         2017-03-29   \n",
       "3  ADRIANO SERGIO LOPES DA GAMA CERQUEIRA   000830/17         2017-04-20   \n",
       "4  ADRIANO SERGIO LOPES DA GAMA CERQUEIRA   000868/17         2017-05-03   \n",
       "\n",
       "  Inicio_Viagem  Vr_Diaria  Vr_Passagem  Vr_Viagem  \n",
       "0    2017-03-29     283.11          0.0     283.11  \n",
       "1    2017-04-01     360.50          0.0     360.50  \n",
       "2    2017-04-07     389.37          0.0     389.37  \n",
       "3    2017-04-26     274.11          0.0     274.11  \n",
       "4    2017-05-09     394.98          0.0     394.98  "
      ]
     },
     "execution_count": 21,
     "metadata": {},
     "output_type": "execute_result"
    }
   ],
   "source": [
    "df_ac17.head()"
   ]
  },
  {
   "cell_type": "code",
   "execution_count": 22,
   "metadata": {
    "collapsed": true
   },
   "outputs": [
    {
     "name": "stderr",
     "output_type": "stream",
     "text": [
      "<ipython-input-22-778ef3e82535>:3: SettingWithCopyWarning: \n",
      "A value is trying to be set on a copy of a slice from a DataFrame\n",
      "\n",
      "See the caveats in the documentation: https://pandas.pydata.org/pandas-docs/stable/user_guide/indexing.html#returning-a-view-versus-a-copy\n",
      "  df_ac17.Orgao_Solicitante[pos] = df_ac17.Orgao_Solicitante[pos].replace('Dist?ncia','Distância')\n",
      "<ipython-input-22-778ef3e82535>:4: SettingWithCopyWarning: \n",
      "A value is trying to be set on a copy of a slice from a DataFrame\n",
      "\n",
      "See the caveats in the documentation: https://pandas.pydata.org/pandas-docs/stable/user_guide/indexing.html#returning-a-view-versus-a-copy\n",
      "  df_ac17.Orgao_Solicitante[pos] = df_ac17.Orgao_Solicitante[pos].replace('Metal?rgica','Metalúrgica')\n",
      "<ipython-input-22-778ef3e82535>:5: SettingWithCopyWarning: \n",
      "A value is trying to be set on a copy of a slice from a DataFrame\n",
      "\n",
      "See the caveats in the documentation: https://pandas.pydata.org/pandas-docs/stable/user_guide/indexing.html#returning-a-view-versus-a-copy\n",
      "  df_ac17.Orgao_Solicitante[pos] = df_ac17.Orgao_Solicitante[pos].replace('Departamento de Engenharia de Controle e Automacao e e Fundamentais',\n"
     ]
    }
   ],
   "source": [
    "pos = 0\n",
    "while pos < len(df_ac17):\n",
    "    df_ac17.Orgao_Solicitante[pos] = df_ac17.Orgao_Solicitante[pos].replace('Dist?ncia','Distância')\n",
    "    df_ac17.Orgao_Solicitante[pos] = df_ac17.Orgao_Solicitante[pos].replace('Metal?rgica','Metalúrgica')\n",
    "    df_ac17.Orgao_Solicitante[pos] = df_ac17.Orgao_Solicitante[pos].replace('Departamento de Engenharia de Controle e Automacao e e Fundamentais',\n",
    "                                                                            'Departamento de Engenharia de Controle e Automação')\n",
    "    pos+=1"
   ]
  },
  {
   "cell_type": "code",
   "execution_count": 23,
   "metadata": {},
   "outputs": [],
   "source": [
    "df_ac17.Orgao_Solicitante.replace({'Educacao':'EDUCAÇÃO','Ciencias':'CIÊNCIAS','Joao':'JOÃO','Nutricao':'NUTRIÇÃO','Clinica':'CLÍNICA',\n",
    "                      'Computacao':'COMPUTAÇÃO','Quimica':'QUÍMICA','Farm˜cia':'FARMÁCIA','Historia':'HISTÓRIA','Producao':'PRODUÇÃO',\n",
    "                      'Administracao':'ADMINISTRAÇÃO','Matem˜tica':'MATEMÁTICA','Matematica':'MATEMÁTICA'}, regex=True, inplace=True)"
   ]
  },
  {
   "cell_type": "code",
   "execution_count": 24,
   "metadata": {},
   "outputs": [
    {
     "data": {
      "text/html": [
       "<div>\n",
       "<style scoped>\n",
       "    .dataframe tbody tr th:only-of-type {\n",
       "        vertical-align: middle;\n",
       "    }\n",
       "\n",
       "    .dataframe tbody tr th {\n",
       "        vertical-align: top;\n",
       "    }\n",
       "\n",
       "    .dataframe thead th {\n",
       "        text-align: right;\n",
       "    }\n",
       "</style>\n",
       "<table border=\"1\" class=\"dataframe\">\n",
       "  <thead>\n",
       "    <tr style=\"text-align: right;\">\n",
       "      <th></th>\n",
       "      <th>Orgao_Solicitante</th>\n",
       "      <th>Nome_Solicitante</th>\n",
       "      <th>Numero_PCDP</th>\n",
       "      <th>Solicitacao_Viagem</th>\n",
       "      <th>Inicio_Viagem</th>\n",
       "      <th>Vr_Diaria</th>\n",
       "      <th>Vr_Passagem</th>\n",
       "      <th>Vr_Viagem</th>\n",
       "    </tr>\n",
       "  </thead>\n",
       "  <tbody>\n",
       "    <tr>\n",
       "      <th>0</th>\n",
       "      <td>Centro de EDUCAÇÃO Aberta e a Distância</td>\n",
       "      <td>ADRIANO SERGIO LOPES DA GAMA CERQUEIRA</td>\n",
       "      <td>000631/17</td>\n",
       "      <td>2017-03-24</td>\n",
       "      <td>2017-03-29</td>\n",
       "      <td>283.11</td>\n",
       "      <td>0.0</td>\n",
       "      <td>283.11</td>\n",
       "    </tr>\n",
       "    <tr>\n",
       "      <th>1</th>\n",
       "      <td>Centro de EDUCAÇÃO Aberta e a Distância</td>\n",
       "      <td>ADRIANO SERGIO LOPES DA GAMA CERQUEIRA</td>\n",
       "      <td>000632/17</td>\n",
       "      <td>2017-03-24</td>\n",
       "      <td>2017-04-01</td>\n",
       "      <td>360.50</td>\n",
       "      <td>0.0</td>\n",
       "      <td>360.50</td>\n",
       "    </tr>\n",
       "    <tr>\n",
       "      <th>2</th>\n",
       "      <td>Centro de EDUCAÇÃO Aberta e a Distância</td>\n",
       "      <td>ADRIANO SERGIO LOPES DA GAMA CERQUEIRA</td>\n",
       "      <td>000664/17</td>\n",
       "      <td>2017-03-29</td>\n",
       "      <td>2017-04-07</td>\n",
       "      <td>389.37</td>\n",
       "      <td>0.0</td>\n",
       "      <td>389.37</td>\n",
       "    </tr>\n",
       "    <tr>\n",
       "      <th>3</th>\n",
       "      <td>Centro de EDUCAÇÃO Aberta e a Distância</td>\n",
       "      <td>ADRIANO SERGIO LOPES DA GAMA CERQUEIRA</td>\n",
       "      <td>000830/17</td>\n",
       "      <td>2017-04-20</td>\n",
       "      <td>2017-04-26</td>\n",
       "      <td>274.11</td>\n",
       "      <td>0.0</td>\n",
       "      <td>274.11</td>\n",
       "    </tr>\n",
       "    <tr>\n",
       "      <th>4</th>\n",
       "      <td>Centro de EDUCAÇÃO Aberta e a Distância</td>\n",
       "      <td>ADRIANO SERGIO LOPES DA GAMA CERQUEIRA</td>\n",
       "      <td>000868/17</td>\n",
       "      <td>2017-05-03</td>\n",
       "      <td>2017-05-09</td>\n",
       "      <td>394.98</td>\n",
       "      <td>0.0</td>\n",
       "      <td>394.98</td>\n",
       "    </tr>\n",
       "  </tbody>\n",
       "</table>\n",
       "</div>"
      ],
      "text/plain": [
       "                         Orgao_Solicitante  \\\n",
       "0  Centro de EDUCAÇÃO Aberta e a Distância   \n",
       "1  Centro de EDUCAÇÃO Aberta e a Distância   \n",
       "2  Centro de EDUCAÇÃO Aberta e a Distância   \n",
       "3  Centro de EDUCAÇÃO Aberta e a Distância   \n",
       "4  Centro de EDUCAÇÃO Aberta e a Distância   \n",
       "\n",
       "                         Nome_Solicitante Numero_PCDP Solicitacao_Viagem  \\\n",
       "0  ADRIANO SERGIO LOPES DA GAMA CERQUEIRA   000631/17         2017-03-24   \n",
       "1  ADRIANO SERGIO LOPES DA GAMA CERQUEIRA   000632/17         2017-03-24   \n",
       "2  ADRIANO SERGIO LOPES DA GAMA CERQUEIRA   000664/17         2017-03-29   \n",
       "3  ADRIANO SERGIO LOPES DA GAMA CERQUEIRA   000830/17         2017-04-20   \n",
       "4  ADRIANO SERGIO LOPES DA GAMA CERQUEIRA   000868/17         2017-05-03   \n",
       "\n",
       "  Inicio_Viagem  Vr_Diaria  Vr_Passagem  Vr_Viagem  \n",
       "0    2017-03-29     283.11          0.0     283.11  \n",
       "1    2017-04-01     360.50          0.0     360.50  \n",
       "2    2017-04-07     389.37          0.0     389.37  \n",
       "3    2017-04-26     274.11          0.0     274.11  \n",
       "4    2017-05-09     394.98          0.0     394.98  "
      ]
     },
     "execution_count": 24,
     "metadata": {},
     "output_type": "execute_result"
    }
   ],
   "source": [
    "df_ac17.head()"
   ]
  },
  {
   "cell_type": "code",
   "execution_count": 25,
   "metadata": {
    "scrolled": false
   },
   "outputs": [
    {
     "data": {
      "text/html": [
       "<div>\n",
       "<style scoped>\n",
       "    .dataframe tbody tr th:only-of-type {\n",
       "        vertical-align: middle;\n",
       "    }\n",
       "\n",
       "    .dataframe tbody tr th {\n",
       "        vertical-align: top;\n",
       "    }\n",
       "\n",
       "    .dataframe thead th {\n",
       "        text-align: right;\n",
       "    }\n",
       "</style>\n",
       "<table border=\"1\" class=\"dataframe\">\n",
       "  <thead>\n",
       "    <tr style=\"text-align: right;\">\n",
       "      <th></th>\n",
       "      <th>Orgao_Solicitante</th>\n",
       "      <th>Nome_Solicitante</th>\n",
       "      <th>Numero_PCDP</th>\n",
       "      <th>Solicitacao_Viagem</th>\n",
       "      <th>Inicio_Viagem</th>\n",
       "      <th>Vr_Diaria</th>\n",
       "      <th>Vr_Passagem</th>\n",
       "      <th>Vr_Viagem</th>\n",
       "    </tr>\n",
       "  </thead>\n",
       "  <tbody>\n",
       "    <tr>\n",
       "      <th>419</th>\n",
       "      <td>Instituto de Filosofia, Artes e Cultura</td>\n",
       "      <td>GLADYS AGMAR SA ROCHA</td>\n",
       "      <td>000298/17</td>\n",
       "      <td>2017-02-17</td>\n",
       "      <td>2017-03-28</td>\n",
       "      <td>67.68</td>\n",
       "      <td>0.00</td>\n",
       "      <td>67.68</td>\n",
       "    </tr>\n",
       "    <tr>\n",
       "      <th>420</th>\n",
       "      <td>Instituto de Filosofia, Artes e Cultura</td>\n",
       "      <td>MARCUS VINICIUS MEDEIROS PEREIRA</td>\n",
       "      <td>000269/17</td>\n",
       "      <td>2017-02-15</td>\n",
       "      <td>2017-03-27</td>\n",
       "      <td>536.22</td>\n",
       "      <td>0.00</td>\n",
       "      <td>536.22</td>\n",
       "    </tr>\n",
       "    <tr>\n",
       "      <th>421</th>\n",
       "      <td>Instituto de Filosofia, Artes e Cultura</td>\n",
       "      <td>MARIA MANUELA RAMOS DE SOUSA SILVA</td>\n",
       "      <td>000238/17</td>\n",
       "      <td>2017-02-13</td>\n",
       "      <td>2017-03-27</td>\n",
       "      <td>714.50</td>\n",
       "      <td>292.26</td>\n",
       "      <td>1006.76</td>\n",
       "    </tr>\n",
       "    <tr>\n",
       "      <th>422</th>\n",
       "      <td>Instituto de Filosofia, Artes e Cultura</td>\n",
       "      <td>MARTA CARDOSO CASTELLO BRANCO GARZON</td>\n",
       "      <td>000270/17</td>\n",
       "      <td>2017-02-15</td>\n",
       "      <td>2017-03-27</td>\n",
       "      <td>536.22</td>\n",
       "      <td>0.00</td>\n",
       "      <td>536.22</td>\n",
       "    </tr>\n",
       "    <tr>\n",
       "      <th>423</th>\n",
       "      <td>Instituto de Filosofia, Artes e Cultura</td>\n",
       "      <td>NANCI DE FREITAS</td>\n",
       "      <td>000379/17</td>\n",
       "      <td>2017-03-06</td>\n",
       "      <td>2017-03-26</td>\n",
       "      <td>1245.50</td>\n",
       "      <td>484.32</td>\n",
       "      <td>1729.82</td>\n",
       "    </tr>\n",
       "  </tbody>\n",
       "</table>\n",
       "</div>"
      ],
      "text/plain": [
       "                           Orgao_Solicitante  \\\n",
       "419  Instituto de Filosofia, Artes e Cultura   \n",
       "420  Instituto de Filosofia, Artes e Cultura   \n",
       "421  Instituto de Filosofia, Artes e Cultura   \n",
       "422  Instituto de Filosofia, Artes e Cultura   \n",
       "423  Instituto de Filosofia, Artes e Cultura   \n",
       "\n",
       "                         Nome_Solicitante Numero_PCDP Solicitacao_Viagem  \\\n",
       "419                 GLADYS AGMAR SA ROCHA   000298/17         2017-02-17   \n",
       "420      MARCUS VINICIUS MEDEIROS PEREIRA   000269/17         2017-02-15   \n",
       "421    MARIA MANUELA RAMOS DE SOUSA SILVA   000238/17         2017-02-13   \n",
       "422  MARTA CARDOSO CASTELLO BRANCO GARZON   000270/17         2017-02-15   \n",
       "423                      NANCI DE FREITAS   000379/17         2017-03-06   \n",
       "\n",
       "    Inicio_Viagem  Vr_Diaria  Vr_Passagem  Vr_Viagem  \n",
       "419    2017-03-28      67.68         0.00      67.68  \n",
       "420    2017-03-27     536.22         0.00     536.22  \n",
       "421    2017-03-27     714.50       292.26    1006.76  \n",
       "422    2017-03-27     536.22         0.00     536.22  \n",
       "423    2017-03-26    1245.50       484.32    1729.82  "
      ]
     },
     "execution_count": 25,
     "metadata": {},
     "output_type": "execute_result"
    }
   ],
   "source": [
    "df_ac17.tail()"
   ]
  },
  {
   "cell_type": "markdown",
   "metadata": {},
   "source": [
    "Administrativo de 2017"
   ]
  },
  {
   "cell_type": "code",
   "execution_count": 26,
   "metadata": {},
   "outputs": [
    {
     "data": {
      "text/html": [
       "<div>\n",
       "<style scoped>\n",
       "    .dataframe tbody tr th:only-of-type {\n",
       "        vertical-align: middle;\n",
       "    }\n",
       "\n",
       "    .dataframe tbody tr th {\n",
       "        vertical-align: top;\n",
       "    }\n",
       "\n",
       "    .dataframe thead th {\n",
       "        text-align: right;\n",
       "    }\n",
       "</style>\n",
       "<table border=\"1\" class=\"dataframe\">\n",
       "  <thead>\n",
       "    <tr style=\"text-align: right;\">\n",
       "      <th></th>\n",
       "      <th>Orgao_Solicitante</th>\n",
       "      <th>Nome_Solicitante</th>\n",
       "      <th>Numero_PCDP</th>\n",
       "      <th>Solicitacao_Viagem</th>\n",
       "      <th>Inicio_Viagem</th>\n",
       "      <th>Vr_Diaria</th>\n",
       "      <th>Vr_Passagem</th>\n",
       "      <th>Vr_Viagem</th>\n",
       "    </tr>\n",
       "  </thead>\n",
       "  <tbody>\n",
       "    <tr>\n",
       "      <th>0</th>\n",
       "      <td>Assessoria de Comunicacao Institucional</td>\n",
       "      <td>ADRIANO MEDEIROS DA ROCHA</td>\n",
       "      <td>000223/17</td>\n",
       "      <td>2017-02-10</td>\n",
       "      <td>2017-02-15</td>\n",
       "      <td>330.77</td>\n",
       "      <td>0.00</td>\n",
       "      <td>330.77</td>\n",
       "    </tr>\n",
       "    <tr>\n",
       "      <th>1</th>\n",
       "      <td>Assessoria de Comunicacao Institucional</td>\n",
       "      <td>FRANCISCO JOSE DAHER JUNIOR</td>\n",
       "      <td>001051/17</td>\n",
       "      <td>2017-05-17</td>\n",
       "      <td>2017-05-24</td>\n",
       "      <td>186.28</td>\n",
       "      <td>1288.54</td>\n",
       "      <td>1474.82</td>\n",
       "    </tr>\n",
       "    <tr>\n",
       "      <th>2</th>\n",
       "      <td>Centro Desportivo</td>\n",
       "      <td>HEBER EUSTAQUIO DE PAULA</td>\n",
       "      <td>000480/17</td>\n",
       "      <td>2017-03-10</td>\n",
       "      <td>2017-03-20</td>\n",
       "      <td>12.49</td>\n",
       "      <td>0.00</td>\n",
       "      <td>12.49</td>\n",
       "    </tr>\n",
       "    <tr>\n",
       "      <th>3</th>\n",
       "      <td>Centro Desportivo</td>\n",
       "      <td>HEBER EUSTAQUIO DE PAULA</td>\n",
       "      <td>001040/17</td>\n",
       "      <td>2017-05-17</td>\n",
       "      <td>2017-06-28</td>\n",
       "      <td>125.93</td>\n",
       "      <td>396.32</td>\n",
       "      <td>522.25</td>\n",
       "    </tr>\n",
       "    <tr>\n",
       "      <th>4</th>\n",
       "      <td>Gabinete do Reitor</td>\n",
       "      <td>ALESSANDRA RODRIGUES KOZOVITS</td>\n",
       "      <td>001265/17</td>\n",
       "      <td>2017-06-12</td>\n",
       "      <td>2017-06-14</td>\n",
       "      <td>101.89</td>\n",
       "      <td>0.00</td>\n",
       "      <td>101.89</td>\n",
       "    </tr>\n",
       "  </tbody>\n",
       "</table>\n",
       "</div>"
      ],
      "text/plain": [
       "                         Orgao_Solicitante               Nome_Solicitante  \\\n",
       "0  Assessoria de Comunicacao Institucional      ADRIANO MEDEIROS DA ROCHA   \n",
       "1  Assessoria de Comunicacao Institucional    FRANCISCO JOSE DAHER JUNIOR   \n",
       "2                        Centro Desportivo       HEBER EUSTAQUIO DE PAULA   \n",
       "3                        Centro Desportivo       HEBER EUSTAQUIO DE PAULA   \n",
       "4                       Gabinete do Reitor  ALESSANDRA RODRIGUES KOZOVITS   \n",
       "\n",
       "  Numero_PCDP Solicitacao_Viagem Inicio_Viagem  Vr_Diaria  Vr_Passagem  \\\n",
       "0   000223/17         2017-02-10    2017-02-15     330.77         0.00   \n",
       "1   001051/17         2017-05-17    2017-05-24     186.28      1288.54   \n",
       "2   000480/17         2017-03-10    2017-03-20      12.49         0.00   \n",
       "3   001040/17         2017-05-17    2017-06-28     125.93       396.32   \n",
       "4   001265/17         2017-06-12    2017-06-14     101.89         0.00   \n",
       "\n",
       "   Vr_Viagem  \n",
       "0     330.77  \n",
       "1    1474.82  \n",
       "2      12.49  \n",
       "3     522.25  \n",
       "4     101.89  "
      ]
     },
     "execution_count": 26,
     "metadata": {},
     "output_type": "execute_result"
    }
   ],
   "source": [
    "df_ad17.head()"
   ]
  },
  {
   "cell_type": "code",
   "execution_count": 27,
   "metadata": {},
   "outputs": [],
   "source": [
    "df_ad17.Orgao_Solicitante.replace({'Divisao':'DIVISÃO', 'Gestao':'GESTÃO', 'Graduacao':'GRADUAÇÃO', 'Coordenacao':'COORDENAÇÃO', \n",
    "                                        'universitaria':'UNIVERSITÁRIA', 'Farmacia':'FARMÁCIA', 'Extensao':'EXTENSÃO', 'Nucleo':'NÚCLEO', \n",
    "                                        'informacao':'INFORMAÇÃO', 'Orcamento':'ORÇAMENTO', 'Financas':'FINANÇAS', 'Mineracao':'MINERAÇÃO', \n",
    "                                        'Comunicacao':'COMUNICAÇÃO', 'Comunitarios':'COMUNITÁRIOS', 'Ciencias':'CIÊNCIAS', 'Computacao':'COMPUTAÇÃO', \n",
    "                                        'Cenicas':'CÊNICAS', 'Administracao':'ADMINISTRAÇÃO', 'Orgaos':'ORGÃOS', 'Historia':'HISTÓRIA', \n",
    "                                        'Quimica':'QUÍMICA', 'Educacao':'EDUCAÇÃO', 'Matematica':'MATEMÁTICA', 'Juridica':'JURÍDICA', 'Fisica':'FÍSICA', \n",
    "                                        'Saude':'SAÚDE', 'Nutricao':'NUTRIÇÃO'}, regex=True, inplace=True)"
   ]
  },
  {
   "cell_type": "code",
   "execution_count": 28,
   "metadata": {},
   "outputs": [
    {
     "data": {
      "text/html": [
       "<div>\n",
       "<style scoped>\n",
       "    .dataframe tbody tr th:only-of-type {\n",
       "        vertical-align: middle;\n",
       "    }\n",
       "\n",
       "    .dataframe tbody tr th {\n",
       "        vertical-align: top;\n",
       "    }\n",
       "\n",
       "    .dataframe thead th {\n",
       "        text-align: right;\n",
       "    }\n",
       "</style>\n",
       "<table border=\"1\" class=\"dataframe\">\n",
       "  <thead>\n",
       "    <tr style=\"text-align: right;\">\n",
       "      <th></th>\n",
       "      <th>Orgao_Solicitante</th>\n",
       "      <th>Nome_Solicitante</th>\n",
       "      <th>Numero_PCDP</th>\n",
       "      <th>Solicitacao_Viagem</th>\n",
       "      <th>Inicio_Viagem</th>\n",
       "      <th>Vr_Diaria</th>\n",
       "      <th>Vr_Passagem</th>\n",
       "      <th>Vr_Viagem</th>\n",
       "    </tr>\n",
       "  </thead>\n",
       "  <tbody>\n",
       "    <tr>\n",
       "      <th>0</th>\n",
       "      <td>Assessoria de COMUNICAÇÃO Institucional</td>\n",
       "      <td>ADRIANO MEDEIROS DA ROCHA</td>\n",
       "      <td>000223/17</td>\n",
       "      <td>2017-02-10</td>\n",
       "      <td>2017-02-15</td>\n",
       "      <td>330.77</td>\n",
       "      <td>0.00</td>\n",
       "      <td>330.77</td>\n",
       "    </tr>\n",
       "    <tr>\n",
       "      <th>1</th>\n",
       "      <td>Assessoria de COMUNICAÇÃO Institucional</td>\n",
       "      <td>FRANCISCO JOSE DAHER JUNIOR</td>\n",
       "      <td>001051/17</td>\n",
       "      <td>2017-05-17</td>\n",
       "      <td>2017-05-24</td>\n",
       "      <td>186.28</td>\n",
       "      <td>1288.54</td>\n",
       "      <td>1474.82</td>\n",
       "    </tr>\n",
       "    <tr>\n",
       "      <th>2</th>\n",
       "      <td>Centro Desportivo</td>\n",
       "      <td>HEBER EUSTAQUIO DE PAULA</td>\n",
       "      <td>000480/17</td>\n",
       "      <td>2017-03-10</td>\n",
       "      <td>2017-03-20</td>\n",
       "      <td>12.49</td>\n",
       "      <td>0.00</td>\n",
       "      <td>12.49</td>\n",
       "    </tr>\n",
       "    <tr>\n",
       "      <th>3</th>\n",
       "      <td>Centro Desportivo</td>\n",
       "      <td>HEBER EUSTAQUIO DE PAULA</td>\n",
       "      <td>001040/17</td>\n",
       "      <td>2017-05-17</td>\n",
       "      <td>2017-06-28</td>\n",
       "      <td>125.93</td>\n",
       "      <td>396.32</td>\n",
       "      <td>522.25</td>\n",
       "    </tr>\n",
       "    <tr>\n",
       "      <th>4</th>\n",
       "      <td>Gabinete do Reitor</td>\n",
       "      <td>ALESSANDRA RODRIGUES KOZOVITS</td>\n",
       "      <td>001265/17</td>\n",
       "      <td>2017-06-12</td>\n",
       "      <td>2017-06-14</td>\n",
       "      <td>101.89</td>\n",
       "      <td>0.00</td>\n",
       "      <td>101.89</td>\n",
       "    </tr>\n",
       "  </tbody>\n",
       "</table>\n",
       "</div>"
      ],
      "text/plain": [
       "                         Orgao_Solicitante               Nome_Solicitante  \\\n",
       "0  Assessoria de COMUNICAÇÃO Institucional      ADRIANO MEDEIROS DA ROCHA   \n",
       "1  Assessoria de COMUNICAÇÃO Institucional    FRANCISCO JOSE DAHER JUNIOR   \n",
       "2                        Centro Desportivo       HEBER EUSTAQUIO DE PAULA   \n",
       "3                        Centro Desportivo       HEBER EUSTAQUIO DE PAULA   \n",
       "4                       Gabinete do Reitor  ALESSANDRA RODRIGUES KOZOVITS   \n",
       "\n",
       "  Numero_PCDP Solicitacao_Viagem Inicio_Viagem  Vr_Diaria  Vr_Passagem  \\\n",
       "0   000223/17         2017-02-10    2017-02-15     330.77         0.00   \n",
       "1   001051/17         2017-05-17    2017-05-24     186.28      1288.54   \n",
       "2   000480/17         2017-03-10    2017-03-20      12.49         0.00   \n",
       "3   001040/17         2017-05-17    2017-06-28     125.93       396.32   \n",
       "4   001265/17         2017-06-12    2017-06-14     101.89         0.00   \n",
       "\n",
       "   Vr_Viagem  \n",
       "0     330.77  \n",
       "1    1474.82  \n",
       "2      12.49  \n",
       "3     522.25  \n",
       "4     101.89  "
      ]
     },
     "execution_count": 28,
     "metadata": {},
     "output_type": "execute_result"
    }
   ],
   "source": [
    "df_ad17.head()"
   ]
  },
  {
   "cell_type": "markdown",
   "metadata": {},
   "source": [
    "### Concatenando tabelas"
   ]
  },
  {
   "cell_type": "code",
   "execution_count": 29,
   "metadata": {},
   "outputs": [],
   "source": [
    "df = pd.concat([df_ad17,df_ac17,df_18,df_19], ignore_index = True,)"
   ]
  },
  {
   "cell_type": "markdown",
   "metadata": {},
   "source": [
    "# Tratando tabela concatenada"
   ]
  },
  {
   "cell_type": "markdown",
   "metadata": {},
   "source": [
    "### Analisando dados da tabela concatenada"
   ]
  },
  {
   "cell_type": "code",
   "execution_count": 30,
   "metadata": {},
   "outputs": [
    {
     "name": "stdout",
     "output_type": "stream",
     "text": [
      "<class 'pandas.core.frame.DataFrame'>\n",
      "RangeIndex: 6444 entries, 0 to 6443\n",
      "Data columns (total 8 columns):\n",
      " #   Column              Non-Null Count  Dtype         \n",
      "---  ------              --------------  -----         \n",
      " 0   Orgao_Solicitante   6444 non-null   object        \n",
      " 1   Nome_Solicitante    6444 non-null   object        \n",
      " 2   Numero_PCDP         6444 non-null   object        \n",
      " 3   Solicitacao_Viagem  6444 non-null   datetime64[ns]\n",
      " 4   Inicio_Viagem       6444 non-null   datetime64[ns]\n",
      " 5   Vr_Diaria           6442 non-null   float64       \n",
      " 6   Vr_Passagem         6442 non-null   float64       \n",
      " 7   Vr_Viagem           6442 non-null   float64       \n",
      "dtypes: datetime64[ns](2), float64(3), object(3)\n",
      "memory usage: 402.9+ KB\n"
     ]
    }
   ],
   "source": [
    "df.info()"
   ]
  },
  {
   "cell_type": "markdown",
   "metadata": {},
   "source": [
    "Talvez ainda haja duplicidade pela mistura entre maiúsculos e minúsculos. Vamos fazer a padronização e ver o que acontece."
   ]
  },
  {
   "cell_type": "markdown",
   "metadata": {},
   "source": [
    "### Padronizando dados de texto para Órgão e Solicitante"
   ]
  },
  {
   "cell_type": "code",
   "execution_count": 31,
   "metadata": {
    "collapsed": true
   },
   "outputs": [
    {
     "name": "stderr",
     "output_type": "stream",
     "text": [
      "<ipython-input-31-52956970a47c>:3: SettingWithCopyWarning: \n",
      "A value is trying to be set on a copy of a slice from a DataFrame\n",
      "\n",
      "See the caveats in the documentation: https://pandas.pydata.org/pandas-docs/stable/user_guide/indexing.html#returning-a-view-versus-a-copy\n",
      "  df.Orgao_Solicitante[pos] = df.Orgao_Solicitante[pos].upper()\n",
      "<ipython-input-31-52956970a47c>:4: SettingWithCopyWarning: \n",
      "A value is trying to be set on a copy of a slice from a DataFrame\n",
      "\n",
      "See the caveats in the documentation: https://pandas.pydata.org/pandas-docs/stable/user_guide/indexing.html#returning-a-view-versus-a-copy\n",
      "  df.Nome_Solicitante[pos] = df.Nome_Solicitante[pos].upper()\n"
     ]
    }
   ],
   "source": [
    "pos = 0\n",
    "while pos < len(df):\n",
    "    df.Orgao_Solicitante[pos] = df.Orgao_Solicitante[pos].upper()\n",
    "    df.Nome_Solicitante[pos] = df.Nome_Solicitante[pos].upper()\n",
    "    pos+=1"
   ]
  },
  {
   "cell_type": "markdown",
   "metadata": {},
   "source": [
    "### Analisando duplicidade de dados de texto "
   ]
  },
  {
   "cell_type": "code",
   "execution_count": 32,
   "metadata": {},
   "outputs": [],
   "source": [
    "df = df.drop_duplicates(subset='Numero_PCDP', keep='first')"
   ]
  },
  {
   "cell_type": "code",
   "execution_count": 33,
   "metadata": {},
   "outputs": [
    {
     "name": "stdout",
     "output_type": "stream",
     "text": [
      "<class 'pandas.core.frame.DataFrame'>\n",
      "Int64Index: 6444 entries, 0 to 6443\n",
      "Data columns (total 8 columns):\n",
      " #   Column              Non-Null Count  Dtype         \n",
      "---  ------              --------------  -----         \n",
      " 0   Orgao_Solicitante   6444 non-null   object        \n",
      " 1   Nome_Solicitante    6444 non-null   object        \n",
      " 2   Numero_PCDP         6444 non-null   object        \n",
      " 3   Solicitacao_Viagem  6444 non-null   datetime64[ns]\n",
      " 4   Inicio_Viagem       6444 non-null   datetime64[ns]\n",
      " 5   Vr_Diaria           6442 non-null   float64       \n",
      " 6   Vr_Passagem         6442 non-null   float64       \n",
      " 7   Vr_Viagem           6442 non-null   float64       \n",
      "dtypes: datetime64[ns](2), float64(3), object(3)\n",
      "memory usage: 453.1+ KB\n"
     ]
    }
   ],
   "source": [
    "df.info()"
   ]
  },
  {
   "cell_type": "markdown",
   "metadata": {},
   "source": [
    "Não há nenhuma linha em duplicidade, se houvesse a função \"drop_duplicates( )\" haveria eliminado. O parâmetro utilizado para a análise foi \"Numero_PCDP\", pois é um código diferente para cada solicitação, logo ele indicaria a duplicidade."
   ]
  },
  {
   "cell_type": "markdown",
   "metadata": {},
   "source": [
    "### Analisando Valor total das viagens (Passagens + Diárias)"
   ]
  },
  {
   "cell_type": "markdown",
   "metadata": {},
   "source": [
    "O Valor da Viagem (Vr_Viagem) é a soma dos valores das passagens e das diárias (Vr_Passagem + Vr_Diaria). Logo a ideia aqui é averiguar se esta operação está correta, analisando se a soma das colunas de Passagens e diárias batem com a da viagem."
   ]
  },
  {
   "cell_type": "code",
   "execution_count": 34,
   "metadata": {},
   "outputs": [
    {
     "data": {
      "text/plain": [
       "1387829.75"
      ]
     },
     "execution_count": 34,
     "metadata": {},
     "output_type": "execute_result"
    }
   ],
   "source": [
    "df.Vr_Diaria.sum()"
   ]
  },
  {
   "cell_type": "code",
   "execution_count": 35,
   "metadata": {},
   "outputs": [
    {
     "data": {
      "text/plain": [
       "870649.6299999999"
      ]
     },
     "execution_count": 35,
     "metadata": {},
     "output_type": "execute_result"
    }
   ],
   "source": [
    "df.Vr_Passagem.sum()"
   ]
  },
  {
   "cell_type": "code",
   "execution_count": 36,
   "metadata": {},
   "outputs": [
    {
     "data": {
      "text/plain": [
       "2270704.55"
      ]
     },
     "execution_count": 36,
     "metadata": {},
     "output_type": "execute_result"
    }
   ],
   "source": [
    "df.Vr_Viagem.sum()"
   ]
  },
  {
   "cell_type": "markdown",
   "metadata": {},
   "source": [
    "A soma dos valores das viagens são R$2.270.704,55, então teoricamente a soma das colunas \"Vr_Passagem\" e \"Vr_Diaria\" devem ser este valor."
   ]
  },
  {
   "cell_type": "code",
   "execution_count": 37,
   "metadata": {},
   "outputs": [
    {
     "data": {
      "text/plain": [
       "2258479.38"
      ]
     },
     "execution_count": 37,
     "metadata": {},
     "output_type": "execute_result"
    }
   ],
   "source": [
    "df.Vr_Diaria.sum() + df.Vr_Passagem.sum()"
   ]
  },
  {
   "cell_type": "code",
   "execution_count": 38,
   "metadata": {},
   "outputs": [
    {
     "data": {
      "text/plain": [
       "12225.169999999925"
      ]
     },
     "execution_count": 38,
     "metadata": {},
     "output_type": "execute_result"
    }
   ],
   "source": [
    "2270704.55 - (1387829.75 + 870649.6299999999)"
   ]
  },
  {
   "cell_type": "markdown",
   "metadata": {},
   "source": [
    "Valor da coluna do total das viagens não confere com a soma das passagens e das diárias com um erro de R$12.225,17 de diferença"
   ]
  },
  {
   "cell_type": "markdown",
   "metadata": {},
   "source": [
    "Vamos retirar a coluna de Valor da Viagem para incluí-la depois por medida de segurança, para evitar somar os valores da própria coluna, uma vez que a função sum() soma todos os valores"
   ]
  },
  {
   "cell_type": "code",
   "execution_count": 39,
   "metadata": {},
   "outputs": [],
   "source": [
    "df.drop('Vr_Viagem', axis = 1, inplace = True)"
   ]
  },
  {
   "cell_type": "code",
   "execution_count": 40,
   "metadata": {},
   "outputs": [],
   "source": [
    "df['Vr_Viagem'] = df.sum(axis = 1)"
   ]
  },
  {
   "cell_type": "code",
   "execution_count": 41,
   "metadata": {},
   "outputs": [
    {
     "data": {
      "text/html": [
       "<div>\n",
       "<style scoped>\n",
       "    .dataframe tbody tr th:only-of-type {\n",
       "        vertical-align: middle;\n",
       "    }\n",
       "\n",
       "    .dataframe tbody tr th {\n",
       "        vertical-align: top;\n",
       "    }\n",
       "\n",
       "    .dataframe thead th {\n",
       "        text-align: right;\n",
       "    }\n",
       "</style>\n",
       "<table border=\"1\" class=\"dataframe\">\n",
       "  <thead>\n",
       "    <tr style=\"text-align: right;\">\n",
       "      <th></th>\n",
       "      <th>Orgao_Solicitante</th>\n",
       "      <th>Nome_Solicitante</th>\n",
       "      <th>Numero_PCDP</th>\n",
       "      <th>Solicitacao_Viagem</th>\n",
       "      <th>Inicio_Viagem</th>\n",
       "      <th>Vr_Diaria</th>\n",
       "      <th>Vr_Passagem</th>\n",
       "      <th>Vr_Viagem</th>\n",
       "    </tr>\n",
       "  </thead>\n",
       "  <tbody>\n",
       "    <tr>\n",
       "      <th>0</th>\n",
       "      <td>ASSESSORIA DE COMUNICAÇÃO INSTITUCIONAL</td>\n",
       "      <td>ADRIANO MEDEIROS DA ROCHA</td>\n",
       "      <td>000223/17</td>\n",
       "      <td>2017-02-10</td>\n",
       "      <td>2017-02-15</td>\n",
       "      <td>330.77</td>\n",
       "      <td>0.00</td>\n",
       "      <td>330.77</td>\n",
       "    </tr>\n",
       "    <tr>\n",
       "      <th>1</th>\n",
       "      <td>ASSESSORIA DE COMUNICAÇÃO INSTITUCIONAL</td>\n",
       "      <td>FRANCISCO JOSE DAHER JUNIOR</td>\n",
       "      <td>001051/17</td>\n",
       "      <td>2017-05-17</td>\n",
       "      <td>2017-05-24</td>\n",
       "      <td>186.28</td>\n",
       "      <td>1288.54</td>\n",
       "      <td>1474.82</td>\n",
       "    </tr>\n",
       "    <tr>\n",
       "      <th>2</th>\n",
       "      <td>CENTRO DESPORTIVO</td>\n",
       "      <td>HEBER EUSTAQUIO DE PAULA</td>\n",
       "      <td>000480/17</td>\n",
       "      <td>2017-03-10</td>\n",
       "      <td>2017-03-20</td>\n",
       "      <td>12.49</td>\n",
       "      <td>0.00</td>\n",
       "      <td>12.49</td>\n",
       "    </tr>\n",
       "    <tr>\n",
       "      <th>3</th>\n",
       "      <td>CENTRO DESPORTIVO</td>\n",
       "      <td>HEBER EUSTAQUIO DE PAULA</td>\n",
       "      <td>001040/17</td>\n",
       "      <td>2017-05-17</td>\n",
       "      <td>2017-06-28</td>\n",
       "      <td>125.93</td>\n",
       "      <td>396.32</td>\n",
       "      <td>522.25</td>\n",
       "    </tr>\n",
       "    <tr>\n",
       "      <th>4</th>\n",
       "      <td>GABINETE DO REITOR</td>\n",
       "      <td>ALESSANDRA RODRIGUES KOZOVITS</td>\n",
       "      <td>001265/17</td>\n",
       "      <td>2017-06-12</td>\n",
       "      <td>2017-06-14</td>\n",
       "      <td>101.89</td>\n",
       "      <td>0.00</td>\n",
       "      <td>101.89</td>\n",
       "    </tr>\n",
       "  </tbody>\n",
       "</table>\n",
       "</div>"
      ],
      "text/plain": [
       "                         Orgao_Solicitante               Nome_Solicitante  \\\n",
       "0  ASSESSORIA DE COMUNICAÇÃO INSTITUCIONAL      ADRIANO MEDEIROS DA ROCHA   \n",
       "1  ASSESSORIA DE COMUNICAÇÃO INSTITUCIONAL    FRANCISCO JOSE DAHER JUNIOR   \n",
       "2                        CENTRO DESPORTIVO       HEBER EUSTAQUIO DE PAULA   \n",
       "3                        CENTRO DESPORTIVO       HEBER EUSTAQUIO DE PAULA   \n",
       "4                       GABINETE DO REITOR  ALESSANDRA RODRIGUES KOZOVITS   \n",
       "\n",
       "  Numero_PCDP Solicitacao_Viagem Inicio_Viagem  Vr_Diaria  Vr_Passagem  \\\n",
       "0   000223/17         2017-02-10    2017-02-15     330.77         0.00   \n",
       "1   001051/17         2017-05-17    2017-05-24     186.28      1288.54   \n",
       "2   000480/17         2017-03-10    2017-03-20      12.49         0.00   \n",
       "3   001040/17         2017-05-17    2017-06-28     125.93       396.32   \n",
       "4   001265/17         2017-06-12    2017-06-14     101.89         0.00   \n",
       "\n",
       "   Vr_Viagem  \n",
       "0     330.77  \n",
       "1    1474.82  \n",
       "2      12.49  \n",
       "3     522.25  \n",
       "4     101.89  "
      ]
     },
     "execution_count": 41,
     "metadata": {},
     "output_type": "execute_result"
    }
   ],
   "source": [
    "df.head()"
   ]
  },
  {
   "cell_type": "code",
   "execution_count": 42,
   "metadata": {},
   "outputs": [
    {
     "data": {
      "text/html": [
       "<div>\n",
       "<style scoped>\n",
       "    .dataframe tbody tr th:only-of-type {\n",
       "        vertical-align: middle;\n",
       "    }\n",
       "\n",
       "    .dataframe tbody tr th {\n",
       "        vertical-align: top;\n",
       "    }\n",
       "\n",
       "    .dataframe thead th {\n",
       "        text-align: right;\n",
       "    }\n",
       "</style>\n",
       "<table border=\"1\" class=\"dataframe\">\n",
       "  <thead>\n",
       "    <tr style=\"text-align: right;\">\n",
       "      <th></th>\n",
       "      <th>Orgao_Solicitante</th>\n",
       "      <th>Nome_Solicitante</th>\n",
       "      <th>Numero_PCDP</th>\n",
       "      <th>Solicitacao_Viagem</th>\n",
       "      <th>Inicio_Viagem</th>\n",
       "      <th>Vr_Diaria</th>\n",
       "      <th>Vr_Passagem</th>\n",
       "      <th>Vr_Viagem</th>\n",
       "    </tr>\n",
       "  </thead>\n",
       "  <tbody>\n",
       "    <tr>\n",
       "      <th>6439</th>\n",
       "      <td>INSTITUTO DE CIÊNCIAS EXATAS E BIOLÓGICAS</td>\n",
       "      <td>PUCA HUACHI VAZ PENNA</td>\n",
       "      <td>001519/19</td>\n",
       "      <td>2019-08-27</td>\n",
       "      <td>2019-09-03</td>\n",
       "      <td>0.0</td>\n",
       "      <td>0.0</td>\n",
       "      <td>0.0</td>\n",
       "    </tr>\n",
       "    <tr>\n",
       "      <th>6440</th>\n",
       "      <td>INSTITUTO DE CIÊNCIAS EXATAS E BIOLÓGICAS</td>\n",
       "      <td>PUCA HUACHI VAZ PENNA</td>\n",
       "      <td>002018/19</td>\n",
       "      <td>2019-10-21</td>\n",
       "      <td>2019-10-21</td>\n",
       "      <td>0.0</td>\n",
       "      <td>0.0</td>\n",
       "      <td>0.0</td>\n",
       "    </tr>\n",
       "    <tr>\n",
       "      <th>6441</th>\n",
       "      <td>INSTITUTO DE CIÊNCIAS EXATAS E BIOLÓGICAS</td>\n",
       "      <td>ROBERTA BARBOSA OLIVEIRA</td>\n",
       "      <td>001610/19</td>\n",
       "      <td>2019-09-05</td>\n",
       "      <td>2019-09-08</td>\n",
       "      <td>0.0</td>\n",
       "      <td>0.0</td>\n",
       "      <td>0.0</td>\n",
       "    </tr>\n",
       "    <tr>\n",
       "      <th>6442</th>\n",
       "      <td>INSTITUTO DE CIÊNCIAS EXATAS E BIOLÓGICAS</td>\n",
       "      <td>ANDREA GOMES CAMPOS BIANCHI</td>\n",
       "      <td>001921/19</td>\n",
       "      <td>2019-10-10</td>\n",
       "      <td>2019-10-31</td>\n",
       "      <td>0.0</td>\n",
       "      <td>0.0</td>\n",
       "      <td>0.0</td>\n",
       "    </tr>\n",
       "    <tr>\n",
       "      <th>6443</th>\n",
       "      <td>INSTITUTO DE CIÊNCIAS EXATAS E BIOLÓGICAS</td>\n",
       "      <td>REINALDO SILVA FORTES</td>\n",
       "      <td>001893/19</td>\n",
       "      <td>2019-10-08</td>\n",
       "      <td>2019-10-09</td>\n",
       "      <td>0.0</td>\n",
       "      <td>0.0</td>\n",
       "      <td>0.0</td>\n",
       "    </tr>\n",
       "  </tbody>\n",
       "</table>\n",
       "</div>"
      ],
      "text/plain": [
       "                              Orgao_Solicitante             Nome_Solicitante  \\\n",
       "6439  INSTITUTO DE CIÊNCIAS EXATAS E BIOLÓGICAS        PUCA HUACHI VAZ PENNA   \n",
       "6440  INSTITUTO DE CIÊNCIAS EXATAS E BIOLÓGICAS        PUCA HUACHI VAZ PENNA   \n",
       "6441  INSTITUTO DE CIÊNCIAS EXATAS E BIOLÓGICAS     ROBERTA BARBOSA OLIVEIRA   \n",
       "6442  INSTITUTO DE CIÊNCIAS EXATAS E BIOLÓGICAS  ANDREA GOMES CAMPOS BIANCHI   \n",
       "6443  INSTITUTO DE CIÊNCIAS EXATAS E BIOLÓGICAS        REINALDO SILVA FORTES   \n",
       "\n",
       "     Numero_PCDP Solicitacao_Viagem Inicio_Viagem  Vr_Diaria  Vr_Passagem  \\\n",
       "6439   001519/19         2019-08-27    2019-09-03        0.0          0.0   \n",
       "6440   002018/19         2019-10-21    2019-10-21        0.0          0.0   \n",
       "6441   001610/19         2019-09-05    2019-09-08        0.0          0.0   \n",
       "6442   001921/19         2019-10-10    2019-10-31        0.0          0.0   \n",
       "6443   001893/19         2019-10-08    2019-10-09        0.0          0.0   \n",
       "\n",
       "      Vr_Viagem  \n",
       "6439        0.0  \n",
       "6440        0.0  \n",
       "6441        0.0  \n",
       "6442        0.0  \n",
       "6443        0.0  "
      ]
     },
     "execution_count": 42,
     "metadata": {},
     "output_type": "execute_result"
    }
   ],
   "source": [
    "df.tail()"
   ]
  },
  {
   "cell_type": "code",
   "execution_count": 43,
   "metadata": {},
   "outputs": [
    {
     "data": {
      "text/plain": [
       "2258479.38"
      ]
     },
     "execution_count": 43,
     "metadata": {},
     "output_type": "execute_result"
    }
   ],
   "source": [
    "df.Vr_Viagem.sum()"
   ]
  },
  {
   "cell_type": "code",
   "execution_count": 44,
   "metadata": {},
   "outputs": [
    {
     "data": {
      "text/plain": [
       "2258479.38"
      ]
     },
     "execution_count": 44,
     "metadata": {},
     "output_type": "execute_result"
    }
   ],
   "source": [
    "(df.Vr_Diaria.sum()) + (df.Vr_Passagem.sum())"
   ]
  },
  {
   "cell_type": "markdown",
   "metadata": {},
   "source": [
    "Agora, a soma das colunas das passagens com as diárias estão de acordo com a coluna do valor total da viagem, cujo valor correto do cuso de todas as viagens é R$2.258.479,38"
   ]
  },
  {
   "cell_type": "markdown",
   "metadata": {},
   "source": [
    "### Tratando dados faltantes"
   ]
  },
  {
   "cell_type": "code",
   "execution_count": 45,
   "metadata": {},
   "outputs": [
    {
     "data": {
      "text/plain": [
       "Orgao_Solicitante     0\n",
       "Nome_Solicitante      0\n",
       "Numero_PCDP           0\n",
       "Solicitacao_Viagem    0\n",
       "Inicio_Viagem         0\n",
       "Vr_Diaria             2\n",
       "Vr_Passagem           2\n",
       "Vr_Viagem             0\n",
       "dtype: int64"
      ]
     },
     "execution_count": 45,
     "metadata": {},
     "output_type": "execute_result"
    }
   ],
   "source": [
    "df.isnull().sum()"
   ]
  },
  {
   "cell_type": "markdown",
   "metadata": {},
   "source": [
    "Filtrando linhas de dados faltantes"
   ]
  },
  {
   "cell_type": "code",
   "execution_count": 46,
   "metadata": {
    "scrolled": true
   },
   "outputs": [
    {
     "data": {
      "text/html": [
       "<div>\n",
       "<style scoped>\n",
       "    .dataframe tbody tr th:only-of-type {\n",
       "        vertical-align: middle;\n",
       "    }\n",
       "\n",
       "    .dataframe tbody tr th {\n",
       "        vertical-align: top;\n",
       "    }\n",
       "\n",
       "    .dataframe thead th {\n",
       "        text-align: right;\n",
       "    }\n",
       "</style>\n",
       "<table border=\"1\" class=\"dataframe\">\n",
       "  <thead>\n",
       "    <tr style=\"text-align: right;\">\n",
       "      <th></th>\n",
       "      <th>Orgao_Solicitante</th>\n",
       "      <th>Nome_Solicitante</th>\n",
       "      <th>Numero_PCDP</th>\n",
       "      <th>Solicitacao_Viagem</th>\n",
       "      <th>Inicio_Viagem</th>\n",
       "      <th>Vr_Diaria</th>\n",
       "      <th>Vr_Passagem</th>\n",
       "      <th>Vr_Viagem</th>\n",
       "    </tr>\n",
       "  </thead>\n",
       "  <tbody>\n",
       "    <tr>\n",
       "      <th>773</th>\n",
       "      <td>COORDENAÇÃO DO PROGRAMA DE APOIO A POS-GRADUAÇ...</td>\n",
       "      <td>GLAYDSTON MATTOS RIBEIRO</td>\n",
       "      <td>000003/17-1C</td>\n",
       "      <td>2016-12-21</td>\n",
       "      <td>2017-01-26</td>\n",
       "      <td>NaN</td>\n",
       "      <td>NaN</td>\n",
       "      <td>0.0</td>\n",
       "    </tr>\n",
       "    <tr>\n",
       "      <th>781</th>\n",
       "      <td>COORDENAÇÃO DO PROGRAMA DE APOIO A POS-GRADUAÇ...</td>\n",
       "      <td>REGES TONI SCHWAAB</td>\n",
       "      <td>000002/17</td>\n",
       "      <td>2016-12-16</td>\n",
       "      <td>2017-01-31</td>\n",
       "      <td>NaN</td>\n",
       "      <td>NaN</td>\n",
       "      <td>0.0</td>\n",
       "    </tr>\n",
       "  </tbody>\n",
       "</table>\n",
       "</div>"
      ],
      "text/plain": [
       "                                     Orgao_Solicitante  \\\n",
       "773  COORDENAÇÃO DO PROGRAMA DE APOIO A POS-GRADUAÇ...   \n",
       "781  COORDENAÇÃO DO PROGRAMA DE APOIO A POS-GRADUAÇ...   \n",
       "\n",
       "             Nome_Solicitante   Numero_PCDP Solicitacao_Viagem Inicio_Viagem  \\\n",
       "773  GLAYDSTON MATTOS RIBEIRO  000003/17-1C         2016-12-21    2017-01-26   \n",
       "781        REGES TONI SCHWAAB     000002/17         2016-12-16    2017-01-31   \n",
       "\n",
       "     Vr_Diaria  Vr_Passagem  Vr_Viagem  \n",
       "773        NaN          NaN        0.0  \n",
       "781        NaN          NaN        0.0  "
      ]
     },
     "execution_count": 46,
     "metadata": {},
     "output_type": "execute_result"
    }
   ],
   "source": [
    "dfNull = df[(df.Vr_Diaria.isnull()) | (df.Vr_Passagem.isnull()) | (df.Vr_Viagem.isnull())]\n",
    "dfNull.head()"
   ]
  },
  {
   "cell_type": "markdown",
   "metadata": {},
   "source": [
    "Filtrando linhas de dados com \"ZERO\": neste caso colunas dos custos de passagens e diárias com \"zero\" bem como o resultado de sua soma também serão tratados como dados faltantes, pois se há nome de solicitante e órgão bem como código de solicitação (Numero_PCDP) então teoricamente deveria haver algum registro de compra de passagem ou reservas de diárias. Por este motivo os dados serão separados em uma tabela a parte para a consulta junto ao órgão responsável e talvez uma possível auditoria interna, pois provavelmente é algum erro na coleta de dados na própria instituição."
   ]
  },
  {
   "cell_type": "code",
   "execution_count": 47,
   "metadata": {},
   "outputs": [
    {
     "data": {
      "text/html": [
       "<div>\n",
       "<style scoped>\n",
       "    .dataframe tbody tr th:only-of-type {\n",
       "        vertical-align: middle;\n",
       "    }\n",
       "\n",
       "    .dataframe tbody tr th {\n",
       "        vertical-align: top;\n",
       "    }\n",
       "\n",
       "    .dataframe thead th {\n",
       "        text-align: right;\n",
       "    }\n",
       "</style>\n",
       "<table border=\"1\" class=\"dataframe\">\n",
       "  <thead>\n",
       "    <tr style=\"text-align: right;\">\n",
       "      <th></th>\n",
       "      <th>Orgao_Solicitante</th>\n",
       "      <th>Nome_Solicitante</th>\n",
       "      <th>Numero_PCDP</th>\n",
       "      <th>Solicitacao_Viagem</th>\n",
       "      <th>Inicio_Viagem</th>\n",
       "      <th>Vr_Diaria</th>\n",
       "      <th>Vr_Passagem</th>\n",
       "      <th>Vr_Viagem</th>\n",
       "    </tr>\n",
       "  </thead>\n",
       "  <tbody>\n",
       "    <tr>\n",
       "      <th>102</th>\n",
       "      <td>COORDENADORIA DE GESTÃO DE PESSOAS</td>\n",
       "      <td>ABELARD RAMOS FERNANDES</td>\n",
       "      <td>000820/17</td>\n",
       "      <td>2017-04-19</td>\n",
       "      <td>2017-04-19</td>\n",
       "      <td>0.0</td>\n",
       "      <td>0.0</td>\n",
       "      <td>0.0</td>\n",
       "    </tr>\n",
       "    <tr>\n",
       "      <th>960</th>\n",
       "      <td>PRO-REITORIA ESPECIAL DE ASSUNTOS COMUNITÁRIOS...</td>\n",
       "      <td>JUDITH GOMES DE OLIVEIRA</td>\n",
       "      <td>000160/17</td>\n",
       "      <td>2017-02-06</td>\n",
       "      <td>2017-02-08</td>\n",
       "      <td>0.0</td>\n",
       "      <td>0.0</td>\n",
       "      <td>0.0</td>\n",
       "    </tr>\n",
       "    <tr>\n",
       "      <th>961</th>\n",
       "      <td>PRO-REITORIA ESPECIAL DE ASSUNTOS COMUNITÁRIOS...</td>\n",
       "      <td>JUDITH GOMES DE OLIVEIRA</td>\n",
       "      <td>000962/17</td>\n",
       "      <td>2017-05-09</td>\n",
       "      <td>2017-05-10</td>\n",
       "      <td>0.0</td>\n",
       "      <td>0.0</td>\n",
       "      <td>0.0</td>\n",
       "    </tr>\n",
       "    <tr>\n",
       "      <th>962</th>\n",
       "      <td>PRO-REITORIA ESPECIAL DE ASSUNTOS COMUNITÁRIOS...</td>\n",
       "      <td>JUDITH GOMES DE OLIVEIRA</td>\n",
       "      <td>001213/17</td>\n",
       "      <td>2017-06-06</td>\n",
       "      <td>2017-06-08</td>\n",
       "      <td>0.0</td>\n",
       "      <td>0.0</td>\n",
       "      <td>0.0</td>\n",
       "    </tr>\n",
       "    <tr>\n",
       "      <th>963</th>\n",
       "      <td>PRO-REITORIA ESPECIAL DE ASSUNTOS COMUNITÁRIOS...</td>\n",
       "      <td>JUDITH GOMES DE OLIVEIRA</td>\n",
       "      <td>001408/17</td>\n",
       "      <td>2017-06-28</td>\n",
       "      <td>2017-07-04</td>\n",
       "      <td>0.0</td>\n",
       "      <td>0.0</td>\n",
       "      <td>0.0</td>\n",
       "    </tr>\n",
       "  </tbody>\n",
       "</table>\n",
       "</div>"
      ],
      "text/plain": [
       "                                     Orgao_Solicitante  \\\n",
       "102                 COORDENADORIA DE GESTÃO DE PESSOAS   \n",
       "960  PRO-REITORIA ESPECIAL DE ASSUNTOS COMUNITÁRIOS...   \n",
       "961  PRO-REITORIA ESPECIAL DE ASSUNTOS COMUNITÁRIOS...   \n",
       "962  PRO-REITORIA ESPECIAL DE ASSUNTOS COMUNITÁRIOS...   \n",
       "963  PRO-REITORIA ESPECIAL DE ASSUNTOS COMUNITÁRIOS...   \n",
       "\n",
       "             Nome_Solicitante Numero_PCDP Solicitacao_Viagem Inicio_Viagem  \\\n",
       "102   ABELARD RAMOS FERNANDES   000820/17         2017-04-19    2017-04-19   \n",
       "960  JUDITH GOMES DE OLIVEIRA   000160/17         2017-02-06    2017-02-08   \n",
       "961  JUDITH GOMES DE OLIVEIRA   000962/17         2017-05-09    2017-05-10   \n",
       "962  JUDITH GOMES DE OLIVEIRA   001213/17         2017-06-06    2017-06-08   \n",
       "963  JUDITH GOMES DE OLIVEIRA   001408/17         2017-06-28    2017-07-04   \n",
       "\n",
       "     Vr_Diaria  Vr_Passagem  Vr_Viagem  \n",
       "102        0.0          0.0        0.0  \n",
       "960        0.0          0.0        0.0  \n",
       "961        0.0          0.0        0.0  \n",
       "962        0.0          0.0        0.0  \n",
       "963        0.0          0.0        0.0  "
      ]
     },
     "execution_count": 47,
     "metadata": {},
     "output_type": "execute_result"
    }
   ],
   "source": [
    "dfZeros = df[(df.Vr_Diaria == 0) & (df.Vr_Passagem == 0)]\n",
    "dfZeros.head()"
   ]
  },
  {
   "cell_type": "markdown",
   "metadata": {},
   "source": [
    "Concatenando tabelas de valores \"zero\" e valores Nulos"
   ]
  },
  {
   "cell_type": "code",
   "execution_count": 48,
   "metadata": {},
   "outputs": [
    {
     "data": {
      "text/html": [
       "<div>\n",
       "<style scoped>\n",
       "    .dataframe tbody tr th:only-of-type {\n",
       "        vertical-align: middle;\n",
       "    }\n",
       "\n",
       "    .dataframe tbody tr th {\n",
       "        vertical-align: top;\n",
       "    }\n",
       "\n",
       "    .dataframe thead th {\n",
       "        text-align: right;\n",
       "    }\n",
       "</style>\n",
       "<table border=\"1\" class=\"dataframe\">\n",
       "  <thead>\n",
       "    <tr style=\"text-align: right;\">\n",
       "      <th></th>\n",
       "      <th>Orgao_Solicitante</th>\n",
       "      <th>Nome_Solicitante</th>\n",
       "      <th>Numero_PCDP</th>\n",
       "      <th>Solicitacao_Viagem</th>\n",
       "      <th>Inicio_Viagem</th>\n",
       "      <th>Vr_Diaria</th>\n",
       "      <th>Vr_Passagem</th>\n",
       "      <th>Vr_Viagem</th>\n",
       "    </tr>\n",
       "  </thead>\n",
       "  <tbody>\n",
       "    <tr>\n",
       "      <th>773</th>\n",
       "      <td>COORDENAÇÃO DO PROGRAMA DE APOIO A POS-GRADUAÇ...</td>\n",
       "      <td>GLAYDSTON MATTOS RIBEIRO</td>\n",
       "      <td>000003/17-1C</td>\n",
       "      <td>2016-12-21</td>\n",
       "      <td>2017-01-26</td>\n",
       "      <td>NaN</td>\n",
       "      <td>NaN</td>\n",
       "      <td>0.0</td>\n",
       "    </tr>\n",
       "    <tr>\n",
       "      <th>781</th>\n",
       "      <td>COORDENAÇÃO DO PROGRAMA DE APOIO A POS-GRADUAÇ...</td>\n",
       "      <td>REGES TONI SCHWAAB</td>\n",
       "      <td>000002/17</td>\n",
       "      <td>2016-12-16</td>\n",
       "      <td>2017-01-31</td>\n",
       "      <td>NaN</td>\n",
       "      <td>NaN</td>\n",
       "      <td>0.0</td>\n",
       "    </tr>\n",
       "    <tr>\n",
       "      <th>102</th>\n",
       "      <td>COORDENADORIA DE GESTÃO DE PESSOAS</td>\n",
       "      <td>ABELARD RAMOS FERNANDES</td>\n",
       "      <td>000820/17</td>\n",
       "      <td>2017-04-19</td>\n",
       "      <td>2017-04-19</td>\n",
       "      <td>0.0</td>\n",
       "      <td>0.0</td>\n",
       "      <td>0.0</td>\n",
       "    </tr>\n",
       "    <tr>\n",
       "      <th>960</th>\n",
       "      <td>PRO-REITORIA ESPECIAL DE ASSUNTOS COMUNITÁRIOS...</td>\n",
       "      <td>JUDITH GOMES DE OLIVEIRA</td>\n",
       "      <td>000160/17</td>\n",
       "      <td>2017-02-06</td>\n",
       "      <td>2017-02-08</td>\n",
       "      <td>0.0</td>\n",
       "      <td>0.0</td>\n",
       "      <td>0.0</td>\n",
       "    </tr>\n",
       "    <tr>\n",
       "      <th>961</th>\n",
       "      <td>PRO-REITORIA ESPECIAL DE ASSUNTOS COMUNITÁRIOS...</td>\n",
       "      <td>JUDITH GOMES DE OLIVEIRA</td>\n",
       "      <td>000962/17</td>\n",
       "      <td>2017-05-09</td>\n",
       "      <td>2017-05-10</td>\n",
       "      <td>0.0</td>\n",
       "      <td>0.0</td>\n",
       "      <td>0.0</td>\n",
       "    </tr>\n",
       "  </tbody>\n",
       "</table>\n",
       "</div>"
      ],
      "text/plain": [
       "                                     Orgao_Solicitante  \\\n",
       "773  COORDENAÇÃO DO PROGRAMA DE APOIO A POS-GRADUAÇ...   \n",
       "781  COORDENAÇÃO DO PROGRAMA DE APOIO A POS-GRADUAÇ...   \n",
       "102                 COORDENADORIA DE GESTÃO DE PESSOAS   \n",
       "960  PRO-REITORIA ESPECIAL DE ASSUNTOS COMUNITÁRIOS...   \n",
       "961  PRO-REITORIA ESPECIAL DE ASSUNTOS COMUNITÁRIOS...   \n",
       "\n",
       "             Nome_Solicitante   Numero_PCDP Solicitacao_Viagem Inicio_Viagem  \\\n",
       "773  GLAYDSTON MATTOS RIBEIRO  000003/17-1C         2016-12-21    2017-01-26   \n",
       "781        REGES TONI SCHWAAB     000002/17         2016-12-16    2017-01-31   \n",
       "102   ABELARD RAMOS FERNANDES     000820/17         2017-04-19    2017-04-19   \n",
       "960  JUDITH GOMES DE OLIVEIRA     000160/17         2017-02-06    2017-02-08   \n",
       "961  JUDITH GOMES DE OLIVEIRA     000962/17         2017-05-09    2017-05-10   \n",
       "\n",
       "     Vr_Diaria  Vr_Passagem  Vr_Viagem  \n",
       "773        NaN          NaN        0.0  \n",
       "781        NaN          NaN        0.0  \n",
       "102        0.0          0.0        0.0  \n",
       "960        0.0          0.0        0.0  \n",
       "961        0.0          0.0        0.0  "
      ]
     },
     "execution_count": 48,
     "metadata": {},
     "output_type": "execute_result"
    }
   ],
   "source": [
    "Miss = pd.concat([dfNull, dfZeros], axis = 0)\n",
    "Miss.head()"
   ]
  },
  {
   "cell_type": "markdown",
   "metadata": {},
   "source": [
    "Exportando para uma planilha em excel para reserva e envio ao órgão responsável (PROPLAD)"
   ]
  },
  {
   "cell_type": "code",
   "execution_count": 49,
   "metadata": {},
   "outputs": [],
   "source": [
    "Miss.to_excel('Missing_Values.xlsx', sheet_name = 'Aba_1', index = False)"
   ]
  },
  {
   "cell_type": "markdown",
   "metadata": {},
   "source": [
    "Analisando a relevância dos dados faltantes para o projeto"
   ]
  },
  {
   "cell_type": "code",
   "execution_count": 50,
   "metadata": {},
   "outputs": [
    {
     "data": {
      "text/plain": [
       "0.9621353196772191"
      ]
     },
     "execution_count": 50,
     "metadata": {},
     "output_type": "execute_result"
    }
   ],
   "source": [
    "(len(Miss)/len(df))*100"
   ]
  },
  {
   "cell_type": "markdown",
   "metadata": {},
   "source": [
    "0,96% dos dados são faltantes, um número muito baixo de observações. Além disso, tendo em vista que serão feitos apenas insights e nada muito complexo como modelos de Machine Learning, pode-se excluí-los por completo."
   ]
  },
  {
   "cell_type": "code",
   "execution_count": 51,
   "metadata": {},
   "outputs": [
    {
     "data": {
      "text/plain": [
       "Int64Index([ 773,  781,  102,  960,  961,  962,  963, 1067, 1218, 1219, 1222,\n",
       "            1223, 1228, 1229, 1305, 4011, 4012, 4013, 4014, 4015, 4016, 4049,\n",
       "            4057, 4058, 4059, 4060, 4061, 4062, 4063, 4064, 4065, 4066, 4067,\n",
       "            4068, 4069, 4070, 4071, 4072, 4073, 4074, 4075, 4076, 4077, 6425,\n",
       "            6426, 6427, 6428, 6429, 6430, 6431, 6432, 6433, 6434, 6435, 6436,\n",
       "            6437, 6438, 6439, 6440, 6441, 6442, 6443],\n",
       "           dtype='int64')"
      ]
     },
     "execution_count": 51,
     "metadata": {},
     "output_type": "execute_result"
    }
   ],
   "source": [
    "Miss.index"
   ]
  },
  {
   "cell_type": "markdown",
   "metadata": {},
   "source": [
    "Eliminando linhas com os valores faltantes"
   ]
  },
  {
   "cell_type": "code",
   "execution_count": 52,
   "metadata": {},
   "outputs": [],
   "source": [
    "df.drop([ 773,  781,  102,  960,  961,  962,  963, 1067, 1218, 1219, 1222,\n",
    "            1223, 1228, 1229, 1305, 4011, 4012, 4013, 4014, 4015, 4016, 4049,\n",
    "            4057, 4058, 4059, 4060, 4061, 4062, 4063, 4064, 4065, 4066, 4067,\n",
    "            4068, 4069, 4070, 4071, 4072, 4073, 4074, 4075, 4076, 4077, 6425,\n",
    "            6426, 6427, 6428, 6429, 6430, 6431, 6432, 6433, 6434, 6435, 6436,\n",
    "            6437, 6438, 6439, 6440, 6441, 6442, 6443], axis = 0, inplace = True)"
   ]
  },
  {
   "cell_type": "code",
   "execution_count": 53,
   "metadata": {},
   "outputs": [],
   "source": [
    "df.reset_index(drop = True, inplace = True)"
   ]
  },
  {
   "cell_type": "markdown",
   "metadata": {},
   "source": [
    "### Criar coluna \"Ano\""
   ]
  },
  {
   "cell_type": "code",
   "execution_count": 54,
   "metadata": {},
   "outputs": [
    {
     "data": {
      "text/html": [
       "<div>\n",
       "<style scoped>\n",
       "    .dataframe tbody tr th:only-of-type {\n",
       "        vertical-align: middle;\n",
       "    }\n",
       "\n",
       "    .dataframe tbody tr th {\n",
       "        vertical-align: top;\n",
       "    }\n",
       "\n",
       "    .dataframe thead th {\n",
       "        text-align: right;\n",
       "    }\n",
       "</style>\n",
       "<table border=\"1\" class=\"dataframe\">\n",
       "  <thead>\n",
       "    <tr style=\"text-align: right;\">\n",
       "      <th></th>\n",
       "      <th>Orgao_Solicitante</th>\n",
       "      <th>Nome_Solicitante</th>\n",
       "      <th>Numero_PCDP</th>\n",
       "      <th>Solicitacao_Viagem</th>\n",
       "      <th>Inicio_Viagem</th>\n",
       "      <th>Vr_Diaria</th>\n",
       "      <th>Vr_Passagem</th>\n",
       "      <th>Vr_Viagem</th>\n",
       "      <th>Ano</th>\n",
       "    </tr>\n",
       "  </thead>\n",
       "  <tbody>\n",
       "    <tr>\n",
       "      <th>0</th>\n",
       "      <td>ASSESSORIA DE COMUNICAÇÃO INSTITUCIONAL</td>\n",
       "      <td>ADRIANO MEDEIROS DA ROCHA</td>\n",
       "      <td>000223/17</td>\n",
       "      <td>2017-02-10</td>\n",
       "      <td>2017-02-15</td>\n",
       "      <td>330.77</td>\n",
       "      <td>0.00</td>\n",
       "      <td>330.77</td>\n",
       "      <td>2017</td>\n",
       "    </tr>\n",
       "    <tr>\n",
       "      <th>1</th>\n",
       "      <td>ASSESSORIA DE COMUNICAÇÃO INSTITUCIONAL</td>\n",
       "      <td>FRANCISCO JOSE DAHER JUNIOR</td>\n",
       "      <td>001051/17</td>\n",
       "      <td>2017-05-17</td>\n",
       "      <td>2017-05-24</td>\n",
       "      <td>186.28</td>\n",
       "      <td>1288.54</td>\n",
       "      <td>1474.82</td>\n",
       "      <td>2017</td>\n",
       "    </tr>\n",
       "    <tr>\n",
       "      <th>2</th>\n",
       "      <td>CENTRO DESPORTIVO</td>\n",
       "      <td>HEBER EUSTAQUIO DE PAULA</td>\n",
       "      <td>000480/17</td>\n",
       "      <td>2017-03-10</td>\n",
       "      <td>2017-03-20</td>\n",
       "      <td>12.49</td>\n",
       "      <td>0.00</td>\n",
       "      <td>12.49</td>\n",
       "      <td>2017</td>\n",
       "    </tr>\n",
       "    <tr>\n",
       "      <th>3</th>\n",
       "      <td>CENTRO DESPORTIVO</td>\n",
       "      <td>HEBER EUSTAQUIO DE PAULA</td>\n",
       "      <td>001040/17</td>\n",
       "      <td>2017-05-17</td>\n",
       "      <td>2017-06-28</td>\n",
       "      <td>125.93</td>\n",
       "      <td>396.32</td>\n",
       "      <td>522.25</td>\n",
       "      <td>2017</td>\n",
       "    </tr>\n",
       "    <tr>\n",
       "      <th>4</th>\n",
       "      <td>GABINETE DO REITOR</td>\n",
       "      <td>ALESSANDRA RODRIGUES KOZOVITS</td>\n",
       "      <td>001265/17</td>\n",
       "      <td>2017-06-12</td>\n",
       "      <td>2017-06-14</td>\n",
       "      <td>101.89</td>\n",
       "      <td>0.00</td>\n",
       "      <td>101.89</td>\n",
       "      <td>2017</td>\n",
       "    </tr>\n",
       "  </tbody>\n",
       "</table>\n",
       "</div>"
      ],
      "text/plain": [
       "                         Orgao_Solicitante               Nome_Solicitante  \\\n",
       "0  ASSESSORIA DE COMUNICAÇÃO INSTITUCIONAL      ADRIANO MEDEIROS DA ROCHA   \n",
       "1  ASSESSORIA DE COMUNICAÇÃO INSTITUCIONAL    FRANCISCO JOSE DAHER JUNIOR   \n",
       "2                        CENTRO DESPORTIVO       HEBER EUSTAQUIO DE PAULA   \n",
       "3                        CENTRO DESPORTIVO       HEBER EUSTAQUIO DE PAULA   \n",
       "4                       GABINETE DO REITOR  ALESSANDRA RODRIGUES KOZOVITS   \n",
       "\n",
       "  Numero_PCDP Solicitacao_Viagem Inicio_Viagem  Vr_Diaria  Vr_Passagem  \\\n",
       "0   000223/17         2017-02-10    2017-02-15     330.77         0.00   \n",
       "1   001051/17         2017-05-17    2017-05-24     186.28      1288.54   \n",
       "2   000480/17         2017-03-10    2017-03-20      12.49         0.00   \n",
       "3   001040/17         2017-05-17    2017-06-28     125.93       396.32   \n",
       "4   001265/17         2017-06-12    2017-06-14     101.89         0.00   \n",
       "\n",
       "   Vr_Viagem   Ano  \n",
       "0     330.77  2017  \n",
       "1    1474.82  2017  \n",
       "2      12.49  2017  \n",
       "3     522.25  2017  \n",
       "4     101.89  2017  "
      ]
     },
     "execution_count": 54,
     "metadata": {},
     "output_type": "execute_result"
    }
   ],
   "source": [
    "df['Ano'] = df.Solicitacao_Viagem.dt.year\n",
    "df.head()"
   ]
  },
  {
   "cell_type": "code",
   "execution_count": 55,
   "metadata": {},
   "outputs": [
    {
     "data": {
      "text/html": [
       "<div>\n",
       "<style scoped>\n",
       "    .dataframe tbody tr th:only-of-type {\n",
       "        vertical-align: middle;\n",
       "    }\n",
       "\n",
       "    .dataframe tbody tr th {\n",
       "        vertical-align: top;\n",
       "    }\n",
       "\n",
       "    .dataframe thead th {\n",
       "        text-align: right;\n",
       "    }\n",
       "</style>\n",
       "<table border=\"1\" class=\"dataframe\">\n",
       "  <thead>\n",
       "    <tr style=\"text-align: right;\">\n",
       "      <th></th>\n",
       "      <th>Orgao_Solicitante</th>\n",
       "      <th>Nome_Solicitante</th>\n",
       "      <th>Numero_PCDP</th>\n",
       "      <th>Solicitacao_Viagem</th>\n",
       "      <th>Inicio_Viagem</th>\n",
       "      <th>Vr_Diaria</th>\n",
       "      <th>Vr_Passagem</th>\n",
       "      <th>Vr_Viagem</th>\n",
       "      <th>Ano</th>\n",
       "    </tr>\n",
       "  </thead>\n",
       "  <tbody>\n",
       "    <tr>\n",
       "      <th>6377</th>\n",
       "      <td>ESCOLA DE DIREITO, TURISMO E MUSEOLOGIA</td>\n",
       "      <td>MARCELO VIANA RAMOS</td>\n",
       "      <td>002336/19</td>\n",
       "      <td>2019-11-12</td>\n",
       "      <td>2019-11-14</td>\n",
       "      <td>32.13</td>\n",
       "      <td>0.0</td>\n",
       "      <td>32.13</td>\n",
       "      <td>2019</td>\n",
       "    </tr>\n",
       "    <tr>\n",
       "      <th>6378</th>\n",
       "      <td>REITORIA</td>\n",
       "      <td>ABELARD RAMOS FERNANDES</td>\n",
       "      <td>002021/19</td>\n",
       "      <td>2019-10-21</td>\n",
       "      <td>2019-10-23</td>\n",
       "      <td>22.07</td>\n",
       "      <td>0.0</td>\n",
       "      <td>22.07</td>\n",
       "      <td>2019</td>\n",
       "    </tr>\n",
       "    <tr>\n",
       "      <th>6379</th>\n",
       "      <td>INSTITUTO DE CIÊNCIAS HUMANAS E SOCIAIS</td>\n",
       "      <td>MARCELO LOURES DOS SANTOS</td>\n",
       "      <td>002011/19</td>\n",
       "      <td>2019-10-21</td>\n",
       "      <td>2019-10-25</td>\n",
       "      <td>21.91</td>\n",
       "      <td>0.0</td>\n",
       "      <td>21.91</td>\n",
       "      <td>2019</td>\n",
       "    </tr>\n",
       "    <tr>\n",
       "      <th>6380</th>\n",
       "      <td>REITORIA</td>\n",
       "      <td>NISIELLY TICIANY SILVA</td>\n",
       "      <td>002146/19</td>\n",
       "      <td>2019-10-31</td>\n",
       "      <td>2019-11-04</td>\n",
       "      <td>18.27</td>\n",
       "      <td>0.0</td>\n",
       "      <td>18.27</td>\n",
       "      <td>2019</td>\n",
       "    </tr>\n",
       "    <tr>\n",
       "      <th>6381</th>\n",
       "      <td>INSTITUTO DE CIÊNCIAS SOCIAIS MARIANA - CAMPUS II</td>\n",
       "      <td>KATHIUCA BERTOLLO</td>\n",
       "      <td>000988/19</td>\n",
       "      <td>2019-06-06</td>\n",
       "      <td>2019-06-13</td>\n",
       "      <td>2.26</td>\n",
       "      <td>0.0</td>\n",
       "      <td>2.26</td>\n",
       "      <td>2019</td>\n",
       "    </tr>\n",
       "  </tbody>\n",
       "</table>\n",
       "</div>"
      ],
      "text/plain": [
       "                                      Orgao_Solicitante  \\\n",
       "6377            ESCOLA DE DIREITO, TURISMO E MUSEOLOGIA   \n",
       "6378                                           REITORIA   \n",
       "6379            INSTITUTO DE CIÊNCIAS HUMANAS E SOCIAIS   \n",
       "6380                                           REITORIA   \n",
       "6381  INSTITUTO DE CIÊNCIAS SOCIAIS MARIANA - CAMPUS II   \n",
       "\n",
       "               Nome_Solicitante Numero_PCDP Solicitacao_Viagem Inicio_Viagem  \\\n",
       "6377        MARCELO VIANA RAMOS   002336/19         2019-11-12    2019-11-14   \n",
       "6378    ABELARD RAMOS FERNANDES   002021/19         2019-10-21    2019-10-23   \n",
       "6379  MARCELO LOURES DOS SANTOS   002011/19         2019-10-21    2019-10-25   \n",
       "6380     NISIELLY TICIANY SILVA   002146/19         2019-10-31    2019-11-04   \n",
       "6381          KATHIUCA BERTOLLO   000988/19         2019-06-06    2019-06-13   \n",
       "\n",
       "      Vr_Diaria  Vr_Passagem  Vr_Viagem   Ano  \n",
       "6377      32.13          0.0      32.13  2019  \n",
       "6378      22.07          0.0      22.07  2019  \n",
       "6379      21.91          0.0      21.91  2019  \n",
       "6380      18.27          0.0      18.27  2019  \n",
       "6381       2.26          0.0       2.26  2019  "
      ]
     },
     "execution_count": 55,
     "metadata": {},
     "output_type": "execute_result"
    }
   ],
   "source": [
    "df.tail()"
   ]
  },
  {
   "cell_type": "markdown",
   "metadata": {},
   "source": [
    "Coluna criada com tipo \"int\", converter para tipo \"object\""
   ]
  },
  {
   "cell_type": "code",
   "execution_count": 56,
   "metadata": {},
   "outputs": [],
   "source": [
    "df.Ano = df.Ano.astype(str)"
   ]
  },
  {
   "cell_type": "code",
   "execution_count": 57,
   "metadata": {},
   "outputs": [
    {
     "name": "stdout",
     "output_type": "stream",
     "text": [
      "<class 'pandas.core.frame.DataFrame'>\n",
      "RangeIndex: 6382 entries, 0 to 6381\n",
      "Data columns (total 9 columns):\n",
      " #   Column              Non-Null Count  Dtype         \n",
      "---  ------              --------------  -----         \n",
      " 0   Orgao_Solicitante   6382 non-null   object        \n",
      " 1   Nome_Solicitante    6382 non-null   object        \n",
      " 2   Numero_PCDP         6382 non-null   object        \n",
      " 3   Solicitacao_Viagem  6382 non-null   datetime64[ns]\n",
      " 4   Inicio_Viagem       6382 non-null   datetime64[ns]\n",
      " 5   Vr_Diaria           6382 non-null   float64       \n",
      " 6   Vr_Passagem         6382 non-null   float64       \n",
      " 7   Vr_Viagem           6382 non-null   float64       \n",
      " 8   Ano                 6382 non-null   object        \n",
      "dtypes: datetime64[ns](2), float64(3), object(4)\n",
      "memory usage: 448.9+ KB\n"
     ]
    }
   ],
   "source": [
    "df.info()"
   ]
  },
  {
   "cell_type": "markdown",
   "metadata": {},
   "source": [
    "### Criar coluna para a diferença de tempo entre solicitação e a viagem"
   ]
  },
  {
   "cell_type": "code",
   "execution_count": 58,
   "metadata": {},
   "outputs": [
    {
     "data": {
      "text/html": [
       "<div>\n",
       "<style scoped>\n",
       "    .dataframe tbody tr th:only-of-type {\n",
       "        vertical-align: middle;\n",
       "    }\n",
       "\n",
       "    .dataframe tbody tr th {\n",
       "        vertical-align: top;\n",
       "    }\n",
       "\n",
       "    .dataframe thead th {\n",
       "        text-align: right;\n",
       "    }\n",
       "</style>\n",
       "<table border=\"1\" class=\"dataframe\">\n",
       "  <thead>\n",
       "    <tr style=\"text-align: right;\">\n",
       "      <th></th>\n",
       "      <th>Orgao_Solicitante</th>\n",
       "      <th>Nome_Solicitante</th>\n",
       "      <th>Numero_PCDP</th>\n",
       "      <th>Solicitacao_Viagem</th>\n",
       "      <th>Inicio_Viagem</th>\n",
       "      <th>Vr_Diaria</th>\n",
       "      <th>Vr_Passagem</th>\n",
       "      <th>Vr_Viagem</th>\n",
       "      <th>Ano</th>\n",
       "      <th>Demora</th>\n",
       "    </tr>\n",
       "  </thead>\n",
       "  <tbody>\n",
       "    <tr>\n",
       "      <th>0</th>\n",
       "      <td>ASSESSORIA DE COMUNICAÇÃO INSTITUCIONAL</td>\n",
       "      <td>ADRIANO MEDEIROS DA ROCHA</td>\n",
       "      <td>000223/17</td>\n",
       "      <td>2017-02-10</td>\n",
       "      <td>2017-02-15</td>\n",
       "      <td>330.77</td>\n",
       "      <td>0.00</td>\n",
       "      <td>330.77</td>\n",
       "      <td>2017</td>\n",
       "      <td>5 days</td>\n",
       "    </tr>\n",
       "    <tr>\n",
       "      <th>1</th>\n",
       "      <td>ASSESSORIA DE COMUNICAÇÃO INSTITUCIONAL</td>\n",
       "      <td>FRANCISCO JOSE DAHER JUNIOR</td>\n",
       "      <td>001051/17</td>\n",
       "      <td>2017-05-17</td>\n",
       "      <td>2017-05-24</td>\n",
       "      <td>186.28</td>\n",
       "      <td>1288.54</td>\n",
       "      <td>1474.82</td>\n",
       "      <td>2017</td>\n",
       "      <td>7 days</td>\n",
       "    </tr>\n",
       "    <tr>\n",
       "      <th>2</th>\n",
       "      <td>CENTRO DESPORTIVO</td>\n",
       "      <td>HEBER EUSTAQUIO DE PAULA</td>\n",
       "      <td>000480/17</td>\n",
       "      <td>2017-03-10</td>\n",
       "      <td>2017-03-20</td>\n",
       "      <td>12.49</td>\n",
       "      <td>0.00</td>\n",
       "      <td>12.49</td>\n",
       "      <td>2017</td>\n",
       "      <td>10 days</td>\n",
       "    </tr>\n",
       "    <tr>\n",
       "      <th>3</th>\n",
       "      <td>CENTRO DESPORTIVO</td>\n",
       "      <td>HEBER EUSTAQUIO DE PAULA</td>\n",
       "      <td>001040/17</td>\n",
       "      <td>2017-05-17</td>\n",
       "      <td>2017-06-28</td>\n",
       "      <td>125.93</td>\n",
       "      <td>396.32</td>\n",
       "      <td>522.25</td>\n",
       "      <td>2017</td>\n",
       "      <td>42 days</td>\n",
       "    </tr>\n",
       "    <tr>\n",
       "      <th>4</th>\n",
       "      <td>GABINETE DO REITOR</td>\n",
       "      <td>ALESSANDRA RODRIGUES KOZOVITS</td>\n",
       "      <td>001265/17</td>\n",
       "      <td>2017-06-12</td>\n",
       "      <td>2017-06-14</td>\n",
       "      <td>101.89</td>\n",
       "      <td>0.00</td>\n",
       "      <td>101.89</td>\n",
       "      <td>2017</td>\n",
       "      <td>2 days</td>\n",
       "    </tr>\n",
       "  </tbody>\n",
       "</table>\n",
       "</div>"
      ],
      "text/plain": [
       "                         Orgao_Solicitante               Nome_Solicitante  \\\n",
       "0  ASSESSORIA DE COMUNICAÇÃO INSTITUCIONAL      ADRIANO MEDEIROS DA ROCHA   \n",
       "1  ASSESSORIA DE COMUNICAÇÃO INSTITUCIONAL    FRANCISCO JOSE DAHER JUNIOR   \n",
       "2                        CENTRO DESPORTIVO       HEBER EUSTAQUIO DE PAULA   \n",
       "3                        CENTRO DESPORTIVO       HEBER EUSTAQUIO DE PAULA   \n",
       "4                       GABINETE DO REITOR  ALESSANDRA RODRIGUES KOZOVITS   \n",
       "\n",
       "  Numero_PCDP Solicitacao_Viagem Inicio_Viagem  Vr_Diaria  Vr_Passagem  \\\n",
       "0   000223/17         2017-02-10    2017-02-15     330.77         0.00   \n",
       "1   001051/17         2017-05-17    2017-05-24     186.28      1288.54   \n",
       "2   000480/17         2017-03-10    2017-03-20      12.49         0.00   \n",
       "3   001040/17         2017-05-17    2017-06-28     125.93       396.32   \n",
       "4   001265/17         2017-06-12    2017-06-14     101.89         0.00   \n",
       "\n",
       "   Vr_Viagem   Ano  Demora  \n",
       "0     330.77  2017  5 days  \n",
       "1    1474.82  2017  7 days  \n",
       "2      12.49  2017 10 days  \n",
       "3     522.25  2017 42 days  \n",
       "4     101.89  2017  2 days  "
      ]
     },
     "execution_count": 58,
     "metadata": {},
     "output_type": "execute_result"
    }
   ],
   "source": [
    "df['Demora'] = abs((df.Inicio_Viagem) - (df.Solicitacao_Viagem))  \n",
    "df.head()"
   ]
  },
  {
   "cell_type": "markdown",
   "metadata": {},
   "source": [
    "Tal coluna será utilizada para uma futura análise de correlação, para identificar uma possível relação da antecedência das reservas das diárias e das passagens com o "
   ]
  },
  {
   "cell_type": "code",
   "execution_count": 59,
   "metadata": {},
   "outputs": [
    {
     "name": "stdout",
     "output_type": "stream",
     "text": [
      "<class 'pandas.core.frame.DataFrame'>\n",
      "RangeIndex: 6382 entries, 0 to 6381\n",
      "Data columns (total 10 columns):\n",
      " #   Column              Non-Null Count  Dtype          \n",
      "---  ------              --------------  -----          \n",
      " 0   Orgao_Solicitante   6382 non-null   object         \n",
      " 1   Nome_Solicitante    6382 non-null   object         \n",
      " 2   Numero_PCDP         6382 non-null   object         \n",
      " 3   Solicitacao_Viagem  6382 non-null   datetime64[ns] \n",
      " 4   Inicio_Viagem       6382 non-null   datetime64[ns] \n",
      " 5   Vr_Diaria           6382 non-null   float64        \n",
      " 6   Vr_Passagem         6382 non-null   float64        \n",
      " 7   Vr_Viagem           6382 non-null   float64        \n",
      " 8   Ano                 6382 non-null   object         \n",
      " 9   Demora              6382 non-null   timedelta64[ns]\n",
      "dtypes: datetime64[ns](2), float64(3), object(4), timedelta64[ns](1)\n",
      "memory usage: 498.7+ KB\n"
     ]
    }
   ],
   "source": [
    "df.info()"
   ]
  },
  {
   "cell_type": "markdown",
   "metadata": {},
   "source": [
    "Converter coluna de \"Timedelta\" para \"int\""
   ]
  },
  {
   "cell_type": "code",
   "execution_count": 60,
   "metadata": {},
   "outputs": [],
   "source": [
    "df['Demora'] = df.Demora.dt.days.astype(int)"
   ]
  },
  {
   "cell_type": "code",
   "execution_count": 61,
   "metadata": {},
   "outputs": [
    {
     "name": "stdout",
     "output_type": "stream",
     "text": [
      "<class 'pandas.core.frame.DataFrame'>\n",
      "RangeIndex: 6382 entries, 0 to 6381\n",
      "Data columns (total 10 columns):\n",
      " #   Column              Non-Null Count  Dtype         \n",
      "---  ------              --------------  -----         \n",
      " 0   Orgao_Solicitante   6382 non-null   object        \n",
      " 1   Nome_Solicitante    6382 non-null   object        \n",
      " 2   Numero_PCDP         6382 non-null   object        \n",
      " 3   Solicitacao_Viagem  6382 non-null   datetime64[ns]\n",
      " 4   Inicio_Viagem       6382 non-null   datetime64[ns]\n",
      " 5   Vr_Diaria           6382 non-null   float64       \n",
      " 6   Vr_Passagem         6382 non-null   float64       \n",
      " 7   Vr_Viagem           6382 non-null   float64       \n",
      " 8   Ano                 6382 non-null   object        \n",
      " 9   Demora              6382 non-null   int32         \n",
      "dtypes: datetime64[ns](2), float64(3), int32(1), object(4)\n",
      "memory usage: 473.8+ KB\n"
     ]
    }
   ],
   "source": [
    "df.info()"
   ]
  },
  {
   "cell_type": "markdown",
   "metadata": {},
   "source": [
    "### Criar coluna para classificação se é alta ou baixa temporada"
   ]
  },
  {
   "cell_type": "markdown",
   "metadata": {},
   "source": [
    "Assim como o tempo de Demora entre a solicitação e a viagem, esta coluna também será usada em uma anpalise de correlação para saber seu impacto nos preços finais das diárias e, principalmente, das passagens"
   ]
  },
  {
   "cell_type": "code",
   "execution_count": 62,
   "metadata": {
    "collapsed": true
   },
   "outputs": [
    {
     "name": "stderr",
     "output_type": "stream",
     "text": [
      "<ipython-input-62-3f1fed25c45e>:5: SettingWithCopyWarning: \n",
      "A value is trying to be set on a copy of a slice from a DataFrame\n",
      "\n",
      "See the caveats in the documentation: https://pandas.pydata.org/pandas-docs/stable/user_guide/indexing.html#returning-a-view-versus-a-copy\n",
      "  df.Temporada[pos] = 'Alta'\n",
      "C:\\Anaconda\\lib\\site-packages\\pandas\\core\\indexing.py:670: SettingWithCopyWarning: \n",
      "A value is trying to be set on a copy of a slice from a DataFrame\n",
      "\n",
      "See the caveats in the documentation: https://pandas.pydata.org/pandas-docs/stable/user_guide/indexing.html#returning-a-view-versus-a-copy\n",
      "  iloc._setitem_with_indexer(indexer, value)\n",
      "<ipython-input-62-3f1fed25c45e>:7: SettingWithCopyWarning: \n",
      "A value is trying to be set on a copy of a slice from a DataFrame\n",
      "\n",
      "See the caveats in the documentation: https://pandas.pydata.org/pandas-docs/stable/user_guide/indexing.html#returning-a-view-versus-a-copy\n",
      "  df.Temporada[pos] = 'Baixa'\n"
     ]
    }
   ],
   "source": [
    "df['Temporada'] = np.NAN\n",
    "pos = 0\n",
    "while pos < len(df.Solicitacao_Viagem):\n",
    "    if df.Solicitacao_Viagem[pos].month in [1,2,7,12]:\n",
    "        df.Temporada[pos] = 'Alta'\n",
    "    else: \n",
    "        df.Temporada[pos] = 'Baixa'\n",
    "    pos+=1"
   ]
  },
  {
   "cell_type": "code",
   "execution_count": 63,
   "metadata": {},
   "outputs": [
    {
     "name": "stdout",
     "output_type": "stream",
     "text": [
      "<class 'pandas.core.frame.DataFrame'>\n",
      "RangeIndex: 6382 entries, 0 to 6381\n",
      "Data columns (total 11 columns):\n",
      " #   Column              Non-Null Count  Dtype         \n",
      "---  ------              --------------  -----         \n",
      " 0   Orgao_Solicitante   6382 non-null   object        \n",
      " 1   Nome_Solicitante    6382 non-null   object        \n",
      " 2   Numero_PCDP         6382 non-null   object        \n",
      " 3   Solicitacao_Viagem  6382 non-null   datetime64[ns]\n",
      " 4   Inicio_Viagem       6382 non-null   datetime64[ns]\n",
      " 5   Vr_Diaria           6382 non-null   float64       \n",
      " 6   Vr_Passagem         6382 non-null   float64       \n",
      " 7   Vr_Viagem           6382 non-null   float64       \n",
      " 8   Ano                 6382 non-null   object        \n",
      " 9   Demora              6382 non-null   int32         \n",
      " 10  Temporada           6382 non-null   object        \n",
      "dtypes: datetime64[ns](2), float64(3), int32(1), object(5)\n",
      "memory usage: 523.6+ KB\n"
     ]
    }
   ],
   "source": [
    "df.info()"
   ]
  },
  {
   "cell_type": "code",
   "execution_count": 64,
   "metadata": {},
   "outputs": [
    {
     "data": {
      "text/html": [
       "<div>\n",
       "<style scoped>\n",
       "    .dataframe tbody tr th:only-of-type {\n",
       "        vertical-align: middle;\n",
       "    }\n",
       "\n",
       "    .dataframe tbody tr th {\n",
       "        vertical-align: top;\n",
       "    }\n",
       "\n",
       "    .dataframe thead th {\n",
       "        text-align: right;\n",
       "    }\n",
       "</style>\n",
       "<table border=\"1\" class=\"dataframe\">\n",
       "  <thead>\n",
       "    <tr style=\"text-align: right;\">\n",
       "      <th></th>\n",
       "      <th>Orgao_Solicitante</th>\n",
       "      <th>Nome_Solicitante</th>\n",
       "      <th>Numero_PCDP</th>\n",
       "      <th>Solicitacao_Viagem</th>\n",
       "      <th>Inicio_Viagem</th>\n",
       "      <th>Vr_Diaria</th>\n",
       "      <th>Vr_Passagem</th>\n",
       "      <th>Vr_Viagem</th>\n",
       "      <th>Ano</th>\n",
       "      <th>Demora</th>\n",
       "      <th>Temporada</th>\n",
       "    </tr>\n",
       "  </thead>\n",
       "  <tbody>\n",
       "    <tr>\n",
       "      <th>0</th>\n",
       "      <td>ASSESSORIA DE COMUNICAÇÃO INSTITUCIONAL</td>\n",
       "      <td>ADRIANO MEDEIROS DA ROCHA</td>\n",
       "      <td>000223/17</td>\n",
       "      <td>2017-02-10</td>\n",
       "      <td>2017-02-15</td>\n",
       "      <td>330.77</td>\n",
       "      <td>0.00</td>\n",
       "      <td>330.77</td>\n",
       "      <td>2017</td>\n",
       "      <td>5</td>\n",
       "      <td>Alta</td>\n",
       "    </tr>\n",
       "    <tr>\n",
       "      <th>1</th>\n",
       "      <td>ASSESSORIA DE COMUNICAÇÃO INSTITUCIONAL</td>\n",
       "      <td>FRANCISCO JOSE DAHER JUNIOR</td>\n",
       "      <td>001051/17</td>\n",
       "      <td>2017-05-17</td>\n",
       "      <td>2017-05-24</td>\n",
       "      <td>186.28</td>\n",
       "      <td>1288.54</td>\n",
       "      <td>1474.82</td>\n",
       "      <td>2017</td>\n",
       "      <td>7</td>\n",
       "      <td>Baixa</td>\n",
       "    </tr>\n",
       "    <tr>\n",
       "      <th>2</th>\n",
       "      <td>CENTRO DESPORTIVO</td>\n",
       "      <td>HEBER EUSTAQUIO DE PAULA</td>\n",
       "      <td>000480/17</td>\n",
       "      <td>2017-03-10</td>\n",
       "      <td>2017-03-20</td>\n",
       "      <td>12.49</td>\n",
       "      <td>0.00</td>\n",
       "      <td>12.49</td>\n",
       "      <td>2017</td>\n",
       "      <td>10</td>\n",
       "      <td>Baixa</td>\n",
       "    </tr>\n",
       "    <tr>\n",
       "      <th>3</th>\n",
       "      <td>CENTRO DESPORTIVO</td>\n",
       "      <td>HEBER EUSTAQUIO DE PAULA</td>\n",
       "      <td>001040/17</td>\n",
       "      <td>2017-05-17</td>\n",
       "      <td>2017-06-28</td>\n",
       "      <td>125.93</td>\n",
       "      <td>396.32</td>\n",
       "      <td>522.25</td>\n",
       "      <td>2017</td>\n",
       "      <td>42</td>\n",
       "      <td>Baixa</td>\n",
       "    </tr>\n",
       "    <tr>\n",
       "      <th>4</th>\n",
       "      <td>GABINETE DO REITOR</td>\n",
       "      <td>ALESSANDRA RODRIGUES KOZOVITS</td>\n",
       "      <td>001265/17</td>\n",
       "      <td>2017-06-12</td>\n",
       "      <td>2017-06-14</td>\n",
       "      <td>101.89</td>\n",
       "      <td>0.00</td>\n",
       "      <td>101.89</td>\n",
       "      <td>2017</td>\n",
       "      <td>2</td>\n",
       "      <td>Baixa</td>\n",
       "    </tr>\n",
       "  </tbody>\n",
       "</table>\n",
       "</div>"
      ],
      "text/plain": [
       "                         Orgao_Solicitante               Nome_Solicitante  \\\n",
       "0  ASSESSORIA DE COMUNICAÇÃO INSTITUCIONAL      ADRIANO MEDEIROS DA ROCHA   \n",
       "1  ASSESSORIA DE COMUNICAÇÃO INSTITUCIONAL    FRANCISCO JOSE DAHER JUNIOR   \n",
       "2                        CENTRO DESPORTIVO       HEBER EUSTAQUIO DE PAULA   \n",
       "3                        CENTRO DESPORTIVO       HEBER EUSTAQUIO DE PAULA   \n",
       "4                       GABINETE DO REITOR  ALESSANDRA RODRIGUES KOZOVITS   \n",
       "\n",
       "  Numero_PCDP Solicitacao_Viagem Inicio_Viagem  Vr_Diaria  Vr_Passagem  \\\n",
       "0   000223/17         2017-02-10    2017-02-15     330.77         0.00   \n",
       "1   001051/17         2017-05-17    2017-05-24     186.28      1288.54   \n",
       "2   000480/17         2017-03-10    2017-03-20      12.49         0.00   \n",
       "3   001040/17         2017-05-17    2017-06-28     125.93       396.32   \n",
       "4   001265/17         2017-06-12    2017-06-14     101.89         0.00   \n",
       "\n",
       "   Vr_Viagem   Ano  Demora Temporada  \n",
       "0     330.77  2017       5      Alta  \n",
       "1    1474.82  2017       7     Baixa  \n",
       "2      12.49  2017      10     Baixa  \n",
       "3     522.25  2017      42     Baixa  \n",
       "4     101.89  2017       2     Baixa  "
      ]
     },
     "execution_count": 64,
     "metadata": {},
     "output_type": "execute_result"
    }
   ],
   "source": [
    "df.head()"
   ]
  },
  {
   "cell_type": "code",
   "execution_count": 65,
   "metadata": {},
   "outputs": [
    {
     "data": {
      "text/html": [
       "<div>\n",
       "<style scoped>\n",
       "    .dataframe tbody tr th:only-of-type {\n",
       "        vertical-align: middle;\n",
       "    }\n",
       "\n",
       "    .dataframe tbody tr th {\n",
       "        vertical-align: top;\n",
       "    }\n",
       "\n",
       "    .dataframe thead th {\n",
       "        text-align: right;\n",
       "    }\n",
       "</style>\n",
       "<table border=\"1\" class=\"dataframe\">\n",
       "  <thead>\n",
       "    <tr style=\"text-align: right;\">\n",
       "      <th></th>\n",
       "      <th>Orgao_Solicitante</th>\n",
       "      <th>Nome_Solicitante</th>\n",
       "      <th>Numero_PCDP</th>\n",
       "      <th>Solicitacao_Viagem</th>\n",
       "      <th>Inicio_Viagem</th>\n",
       "      <th>Vr_Diaria</th>\n",
       "      <th>Vr_Passagem</th>\n",
       "      <th>Vr_Viagem</th>\n",
       "      <th>Ano</th>\n",
       "      <th>Demora</th>\n",
       "      <th>Temporada</th>\n",
       "    </tr>\n",
       "  </thead>\n",
       "  <tbody>\n",
       "    <tr>\n",
       "      <th>6377</th>\n",
       "      <td>ESCOLA DE DIREITO, TURISMO E MUSEOLOGIA</td>\n",
       "      <td>MARCELO VIANA RAMOS</td>\n",
       "      <td>002336/19</td>\n",
       "      <td>2019-11-12</td>\n",
       "      <td>2019-11-14</td>\n",
       "      <td>32.13</td>\n",
       "      <td>0.0</td>\n",
       "      <td>32.13</td>\n",
       "      <td>2019</td>\n",
       "      <td>2</td>\n",
       "      <td>Baixa</td>\n",
       "    </tr>\n",
       "    <tr>\n",
       "      <th>6378</th>\n",
       "      <td>REITORIA</td>\n",
       "      <td>ABELARD RAMOS FERNANDES</td>\n",
       "      <td>002021/19</td>\n",
       "      <td>2019-10-21</td>\n",
       "      <td>2019-10-23</td>\n",
       "      <td>22.07</td>\n",
       "      <td>0.0</td>\n",
       "      <td>22.07</td>\n",
       "      <td>2019</td>\n",
       "      <td>2</td>\n",
       "      <td>Baixa</td>\n",
       "    </tr>\n",
       "    <tr>\n",
       "      <th>6379</th>\n",
       "      <td>INSTITUTO DE CIÊNCIAS HUMANAS E SOCIAIS</td>\n",
       "      <td>MARCELO LOURES DOS SANTOS</td>\n",
       "      <td>002011/19</td>\n",
       "      <td>2019-10-21</td>\n",
       "      <td>2019-10-25</td>\n",
       "      <td>21.91</td>\n",
       "      <td>0.0</td>\n",
       "      <td>21.91</td>\n",
       "      <td>2019</td>\n",
       "      <td>4</td>\n",
       "      <td>Baixa</td>\n",
       "    </tr>\n",
       "    <tr>\n",
       "      <th>6380</th>\n",
       "      <td>REITORIA</td>\n",
       "      <td>NISIELLY TICIANY SILVA</td>\n",
       "      <td>002146/19</td>\n",
       "      <td>2019-10-31</td>\n",
       "      <td>2019-11-04</td>\n",
       "      <td>18.27</td>\n",
       "      <td>0.0</td>\n",
       "      <td>18.27</td>\n",
       "      <td>2019</td>\n",
       "      <td>4</td>\n",
       "      <td>Baixa</td>\n",
       "    </tr>\n",
       "    <tr>\n",
       "      <th>6381</th>\n",
       "      <td>INSTITUTO DE CIÊNCIAS SOCIAIS MARIANA - CAMPUS II</td>\n",
       "      <td>KATHIUCA BERTOLLO</td>\n",
       "      <td>000988/19</td>\n",
       "      <td>2019-06-06</td>\n",
       "      <td>2019-06-13</td>\n",
       "      <td>2.26</td>\n",
       "      <td>0.0</td>\n",
       "      <td>2.26</td>\n",
       "      <td>2019</td>\n",
       "      <td>7</td>\n",
       "      <td>Baixa</td>\n",
       "    </tr>\n",
       "  </tbody>\n",
       "</table>\n",
       "</div>"
      ],
      "text/plain": [
       "                                      Orgao_Solicitante  \\\n",
       "6377            ESCOLA DE DIREITO, TURISMO E MUSEOLOGIA   \n",
       "6378                                           REITORIA   \n",
       "6379            INSTITUTO DE CIÊNCIAS HUMANAS E SOCIAIS   \n",
       "6380                                           REITORIA   \n",
       "6381  INSTITUTO DE CIÊNCIAS SOCIAIS MARIANA - CAMPUS II   \n",
       "\n",
       "               Nome_Solicitante Numero_PCDP Solicitacao_Viagem Inicio_Viagem  \\\n",
       "6377        MARCELO VIANA RAMOS   002336/19         2019-11-12    2019-11-14   \n",
       "6378    ABELARD RAMOS FERNANDES   002021/19         2019-10-21    2019-10-23   \n",
       "6379  MARCELO LOURES DOS SANTOS   002011/19         2019-10-21    2019-10-25   \n",
       "6380     NISIELLY TICIANY SILVA   002146/19         2019-10-31    2019-11-04   \n",
       "6381          KATHIUCA BERTOLLO   000988/19         2019-06-06    2019-06-13   \n",
       "\n",
       "      Vr_Diaria  Vr_Passagem  Vr_Viagem   Ano  Demora Temporada  \n",
       "6377      32.13          0.0      32.13  2019       2     Baixa  \n",
       "6378      22.07          0.0      22.07  2019       2     Baixa  \n",
       "6379      21.91          0.0      21.91  2019       4     Baixa  \n",
       "6380      18.27          0.0      18.27  2019       4     Baixa  \n",
       "6381       2.26          0.0       2.26  2019       7     Baixa  "
      ]
     },
     "execution_count": 65,
     "metadata": {},
     "output_type": "execute_result"
    }
   ],
   "source": [
    "df.tail()"
   ]
  },
  {
   "cell_type": "markdown",
   "metadata": {},
   "source": [
    "# Dataset transformado e pronto para análise exploratória\n",
    "Agora os dados serão exportados para um dataset e será trabalhado em outro documento .ipynb "
   ]
  },
  {
   "cell_type": "code",
   "execution_count": 67,
   "metadata": {},
   "outputs": [
    {
     "name": "stdout",
     "output_type": "stream",
     "text": [
      "<class 'pandas.core.frame.DataFrame'>\n",
      "RangeIndex: 6382 entries, 0 to 6381\n",
      "Data columns (total 11 columns):\n",
      " #   Column              Non-Null Count  Dtype         \n",
      "---  ------              --------------  -----         \n",
      " 0   Orgao_Solicitante   6382 non-null   object        \n",
      " 1   Nome_Solicitante    6382 non-null   object        \n",
      " 2   Numero_PCDP         6382 non-null   object        \n",
      " 3   Solicitacao_Viagem  6382 non-null   datetime64[ns]\n",
      " 4   Inicio_Viagem       6382 non-null   datetime64[ns]\n",
      " 5   Vr_Diaria           6382 non-null   float64       \n",
      " 6   Vr_Passagem         6382 non-null   float64       \n",
      " 7   Vr_Viagem           6382 non-null   float64       \n",
      " 8   Ano                 6382 non-null   object        \n",
      " 9   Demora              6382 non-null   int32         \n",
      " 10  Temporada           6382 non-null   object        \n",
      "dtypes: datetime64[ns](2), float64(3), int32(1), object(5)\n",
      "memory usage: 523.6+ KB\n"
     ]
    }
   ],
   "source": [
    "df.info()"
   ]
  },
  {
   "cell_type": "code",
   "execution_count": 68,
   "metadata": {},
   "outputs": [],
   "source": [
    "df.to_excel('Passagens_Diárias_transf.xlsx', sheet_name = 'aba_1', index = False)"
   ]
  }
 ],
 "metadata": {
  "kernelspec": {
   "display_name": "Python 3",
   "language": "python",
   "name": "python3"
  },
  "language_info": {
   "codemirror_mode": {
    "name": "ipython",
    "version": 3
   },
   "file_extension": ".py",
   "mimetype": "text/x-python",
   "name": "python",
   "nbconvert_exporter": "python",
   "pygments_lexer": "ipython3",
   "version": "3.8.5"
  }
 },
 "nbformat": 4,
 "nbformat_minor": 4
}
