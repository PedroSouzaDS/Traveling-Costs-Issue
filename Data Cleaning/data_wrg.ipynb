{
  "nbformat": 4,
  "nbformat_minor": 0,
  "metadata": {
    "colab": {
      "name": "data_wrg.ipynb",
      "provenance": [],
      "collapsed_sections": []
    },
    "kernelspec": {
      "name": "python3",
      "display_name": "Python 3"
    }
  },
  "cells": [
    {
      "cell_type": "code",
      "metadata": {
        "id": "rJPY-xAcRcMf"
      },
      "source": [
        "import pandas as pd"
      ],
      "execution_count": 42,
      "outputs": []
    },
    {
      "cell_type": "code",
      "metadata": {
        "id": "Ws4NPQCHRem6"
      },
      "source": [
        "dados2017acd=pd.read_excel('/content/drive/My Drive/Treinamentos/Python/Projetos/Despesas Passagens PROPLAD/Datasets/dados2017_acd.xlsx')\n",
        "dados2017adm=pd.read_excel('/content/drive/My Drive/Treinamentos/Python/Projetos/Despesas Passagens PROPLAD/Datasets/dados2017_adm.xlsx')\n",
        "dados2018=pd.read_excel('/content/drive/My Drive/Treinamentos/Python/Projetos/Despesas Passagens PROPLAD/Datasets/dados2018.xlsx')\n",
        "dados2019=pd.read_excel('/content/drive/My Drive/Treinamentos/Python/Projetos/Despesas Passagens PROPLAD/Datasets/dados2019.xlsx')"
      ],
      "execution_count": 43,
      "outputs": []
    },
    {
      "cell_type": "code",
      "metadata": {
        "id": "d9JjQsteR_S4"
      },
      "source": [
        "dados2017acd.columns=['Orgao_Solicitante', 'Nome_viajante', 'Numero_PCDP','Data_Solicitacao', 'Data_Inicio', 'Vr_Diaria','Vr_Passagem', 'Vr_Viagem']\n",
        "dados2017adm.columns=['Orgao_Solicitante', 'Nome_viajante', 'Numero_PCDP','Data_Solicitacao', 'Data_Inicio', 'Vr_Diaria','Vr_Passagem', 'Vr_Viagem']\n",
        "dados2018.columns=['Orgao_Solicitante', 'Nome_viajante', 'Numero_PCDP','Data_Solicitacao', 'Data_Inicio', 'Vr_Diaria','Vr_Passagem', 'Vr_Viagem']\n",
        "dados2019.columns=['Orgao_Solicitante', 'Nome_viajante', 'Numero_PCDP','Data_Solicitacao', 'Data_Inicio', 'Vr_Diaria','Vr_Passagem', 'Vr_Viagem']"
      ],
      "execution_count": 44,
      "outputs": []
    },
    {
      "cell_type": "code",
      "metadata": {
        "id": "sSnp1gd1oO0f",
        "outputId": "bb3d637b-d123-40b4-967e-cbd59da97c53",
        "colab": {
          "base_uri": "https://localhost:8080/",
          "height": 294
        }
      },
      "source": [
        "dados2017acd.info()"
      ],
      "execution_count": 45,
      "outputs": [
        {
          "output_type": "stream",
          "text": [
            "<class 'pandas.core.frame.DataFrame'>\n",
            "RangeIndex: 424 entries, 0 to 423\n",
            "Data columns (total 8 columns):\n",
            " #   Column             Non-Null Count  Dtype         \n",
            "---  ------             --------------  -----         \n",
            " 0   Orgao_Solicitante  424 non-null    object        \n",
            " 1   Nome_viajante      424 non-null    object        \n",
            " 2   Numero_PCDP        424 non-null    object        \n",
            " 3   Data_Solicitacao   424 non-null    datetime64[ns]\n",
            " 4   Data_Inicio        424 non-null    datetime64[ns]\n",
            " 5   Vr_Diaria          424 non-null    float64       \n",
            " 6   Vr_Passagem        424 non-null    float64       \n",
            " 7   Vr_Viagem          424 non-null    float64       \n",
            "dtypes: datetime64[ns](2), float64(3), object(3)\n",
            "memory usage: 26.6+ KB\n"
          ],
          "name": "stdout"
        }
      ]
    },
    {
      "cell_type": "code",
      "metadata": {
        "id": "j5ezLziv9HV_",
        "outputId": "ed6e7b8b-c039-467d-d26a-b351313c8b96",
        "colab": {
          "base_uri": "https://localhost:8080/",
          "height": 206
        }
      },
      "source": [
        "dados2017acd.head()"
      ],
      "execution_count": 46,
      "outputs": [
        {
          "output_type": "execute_result",
          "data": {
            "text/html": [
              "<div>\n",
              "<style scoped>\n",
              "    .dataframe tbody tr th:only-of-type {\n",
              "        vertical-align: middle;\n",
              "    }\n",
              "\n",
              "    .dataframe tbody tr th {\n",
              "        vertical-align: top;\n",
              "    }\n",
              "\n",
              "    .dataframe thead th {\n",
              "        text-align: right;\n",
              "    }\n",
              "</style>\n",
              "<table border=\"1\" class=\"dataframe\">\n",
              "  <thead>\n",
              "    <tr style=\"text-align: right;\">\n",
              "      <th></th>\n",
              "      <th>Orgao_Solicitante</th>\n",
              "      <th>Nome_viajante</th>\n",
              "      <th>Numero_PCDP</th>\n",
              "      <th>Data_Solicitacao</th>\n",
              "      <th>Data_Inicio</th>\n",
              "      <th>Vr_Diaria</th>\n",
              "      <th>Vr_Passagem</th>\n",
              "      <th>Vr_Viagem</th>\n",
              "    </tr>\n",
              "  </thead>\n",
              "  <tbody>\n",
              "    <tr>\n",
              "      <th>0</th>\n",
              "      <td>Centro de Educacao Aberta e a Dist?ncia</td>\n",
              "      <td>ADRIANO SERGIO LOPES DA GAMA CERQUEIRA</td>\n",
              "      <td>000631/17</td>\n",
              "      <td>2017-03-24</td>\n",
              "      <td>2017-03-29</td>\n",
              "      <td>283.11</td>\n",
              "      <td>0.0</td>\n",
              "      <td>283.11</td>\n",
              "    </tr>\n",
              "    <tr>\n",
              "      <th>1</th>\n",
              "      <td>Centro de Educacao Aberta e a Dist?ncia</td>\n",
              "      <td>ADRIANO SERGIO LOPES DA GAMA CERQUEIRA</td>\n",
              "      <td>000632/17</td>\n",
              "      <td>2017-03-24</td>\n",
              "      <td>2017-04-01</td>\n",
              "      <td>360.50</td>\n",
              "      <td>0.0</td>\n",
              "      <td>360.50</td>\n",
              "    </tr>\n",
              "    <tr>\n",
              "      <th>2</th>\n",
              "      <td>Centro de Educacao Aberta e a Dist?ncia</td>\n",
              "      <td>ADRIANO SERGIO LOPES DA GAMA CERQUEIRA</td>\n",
              "      <td>000664/17</td>\n",
              "      <td>2017-03-29</td>\n",
              "      <td>2017-04-07</td>\n",
              "      <td>389.37</td>\n",
              "      <td>0.0</td>\n",
              "      <td>389.37</td>\n",
              "    </tr>\n",
              "    <tr>\n",
              "      <th>3</th>\n",
              "      <td>Centro de Educacao Aberta e a Dist?ncia</td>\n",
              "      <td>ADRIANO SERGIO LOPES DA GAMA CERQUEIRA</td>\n",
              "      <td>000830/17</td>\n",
              "      <td>2017-04-20</td>\n",
              "      <td>2017-04-26</td>\n",
              "      <td>274.11</td>\n",
              "      <td>0.0</td>\n",
              "      <td>274.11</td>\n",
              "    </tr>\n",
              "    <tr>\n",
              "      <th>4</th>\n",
              "      <td>Centro de Educacao Aberta e a Dist?ncia</td>\n",
              "      <td>ADRIANO SERGIO LOPES DA GAMA CERQUEIRA</td>\n",
              "      <td>000868/17</td>\n",
              "      <td>2017-05-03</td>\n",
              "      <td>2017-05-09</td>\n",
              "      <td>394.98</td>\n",
              "      <td>0.0</td>\n",
              "      <td>394.98</td>\n",
              "    </tr>\n",
              "  </tbody>\n",
              "</table>\n",
              "</div>"
            ],
            "text/plain": [
              "                         Orgao_Solicitante  ... Vr_Viagem\n",
              "0  Centro de Educacao Aberta e a Dist?ncia  ...    283.11\n",
              "1  Centro de Educacao Aberta e a Dist?ncia  ...    360.50\n",
              "2  Centro de Educacao Aberta e a Dist?ncia  ...    389.37\n",
              "3  Centro de Educacao Aberta e a Dist?ncia  ...    274.11\n",
              "4  Centro de Educacao Aberta e a Dist?ncia  ...    394.98\n",
              "\n",
              "[5 rows x 8 columns]"
            ]
          },
          "metadata": {
            "tags": []
          },
          "execution_count": 46
        }
      ]
    },
    {
      "cell_type": "code",
      "metadata": {
        "id": "24GFpzm1_yCu",
        "outputId": "94caf089-9a99-41d9-e697-8f2a1d67e2ae",
        "colab": {
          "base_uri": "https://localhost:8080/",
          "height": 608
        }
      },
      "source": [
        "dados2017acd.Orgao_Solicitante.value_counts()"
      ],
      "execution_count": 47,
      "outputs": [
        {
          "output_type": "execute_result",
          "data": {
            "text/plain": [
              "Centro de Educacao Aberta e a Dist?ncia                                130\n",
              "Instituto de Ciencias Exatas e Aplicadas Joao Monlevade                 64\n",
              "Escola de Medicina                                                      44\n",
              "Departamento de Nutricao Clinica e Social                               39\n",
              "Departamento de Geologia                                                35\n",
              "Instituto de Ciencias Exatas e Aplicadas                                21\n",
              "Departamento de Alimentos                                               15\n",
              "Departamento de Engenharia de Minas                                     11\n",
              "Departamento de Engenharia Civil                                        10\n",
              "Instituto de Filosofia, Artes e Cultura                                  7\n",
              "Departamento de Computacao                                               4\n",
              "Departamento de Farm˜cia                                                 4\n",
              "Departamento de Quimica                                                  4\n",
              "Instituto de Ciencias Humanas e Sociais                                  4\n",
              "Departamento de  Engenharia, Arquitetura e Urbanismo                     3\n",
              "Departamento de Biodiversidade                                           3\n",
              "Departamento de Turismo                                                  3\n",
              "Instituto de Ciencias Sociais Mariana - Campus II                        2\n",
              "Departamento de Engenharia de Controle e Automacao e e Fundamentais      2\n",
              "Departamento de Educacao                                                 2\n",
              "Departamento de Historia                                                 2\n",
              "Departamento de Ciencias Biologicas                                      2\n",
              "Departamento de Engenharia de Producao, Administracao e Economia         2\n",
              "Departamento de Direito                                                  2\n",
              "Departamento de Engenharia Metal?rgica e de Materiais                    2\n",
              "Departamento de Engenharia Ambiental                                     2\n",
              "Departamento de Filosofia                                                1\n",
              "Departamento de Matem˜tica                                               1\n",
              "Departamento de Letras                                                   1\n",
              "Departamento de Matematica                                               1\n",
              "Departamento de Museologia                                               1\n",
              "Name: Orgao_Solicitante, dtype: int64"
            ]
          },
          "metadata": {
            "tags": []
          },
          "execution_count": 47
        }
      ]
    },
    {
      "cell_type": "markdown",
      "metadata": {
        "id": "pw--MZI2hz6e"
      },
      "source": [
        "Transforma textos em Title"
      ]
    },
    {
      "cell_type": "code",
      "metadata": {
        "id": "25elhagAhnEG",
        "outputId": "e38f1f55-de83-4604-d721-4d923f8998ba",
        "colab": {
          "base_uri": "https://localhost:8080/",
          "height": 202
        }
      },
      "source": [
        "for i in range(0,len(dados2017acd)):\n",
        "  dados2017acd.Nome_viajante[i]=dados2017acd.Nome_viajante[i].upper()\n",
        "  dados2017acd.Orgao_Solicitante[i]=dados2017acd.Orgao_Solicitante[i].upper()"
      ],
      "execution_count": 48,
      "outputs": [
        {
          "output_type": "stream",
          "text": [
            "/usr/local/lib/python3.6/dist-packages/ipykernel_launcher.py:2: SettingWithCopyWarning: \n",
            "A value is trying to be set on a copy of a slice from a DataFrame\n",
            "\n",
            "See the caveats in the documentation: https://pandas.pydata.org/pandas-docs/stable/user_guide/indexing.html#returning-a-view-versus-a-copy\n",
            "  \n",
            "/usr/local/lib/python3.6/dist-packages/ipykernel_launcher.py:3: SettingWithCopyWarning: \n",
            "A value is trying to be set on a copy of a slice from a DataFrame\n",
            "\n",
            "See the caveats in the documentation: https://pandas.pydata.org/pandas-docs/stable/user_guide/indexing.html#returning-a-view-versus-a-copy\n",
            "  This is separate from the ipykernel package so we can avoid doing imports until\n"
          ],
          "name": "stderr"
        }
      ]
    },
    {
      "cell_type": "markdown",
      "metadata": {
        "id": "Je7Y_OUpi9bX"
      },
      "source": [
        "Corrige encoding e acentuações"
      ]
    },
    {
      "cell_type": "code",
      "metadata": {
        "id": "_QBLrL-lidQ6",
        "outputId": "dee81f53-8b9a-4416-d8ea-bcce58aa1d99",
        "colab": {
          "base_uri": "https://localhost:8080/",
          "height": 608
        }
      },
      "source": [
        "dados2017acd.Orgao_Solicitante.value_counts()"
      ],
      "execution_count": 49,
      "outputs": [
        {
          "output_type": "execute_result",
          "data": {
            "text/plain": [
              "CENTRO DE EDUCACAO ABERTA E A DIST?NCIA                                130\n",
              "INSTITUTO DE CIENCIAS EXATAS E APLICADAS JOAO MONLEVADE                 64\n",
              "ESCOLA DE MEDICINA                                                      44\n",
              "DEPARTAMENTO DE NUTRICAO CLINICA E SOCIAL                               39\n",
              "DEPARTAMENTO DE GEOLOGIA                                                35\n",
              "INSTITUTO DE CIENCIAS EXATAS E APLICADAS                                21\n",
              "DEPARTAMENTO DE ALIMENTOS                                               15\n",
              "DEPARTAMENTO DE ENGENHARIA DE MINAS                                     11\n",
              "DEPARTAMENTO DE ENGENHARIA CIVIL                                        10\n",
              "INSTITUTO DE FILOSOFIA, ARTES E CULTURA                                  7\n",
              "DEPARTAMENTO DE QUIMICA                                                  4\n",
              "DEPARTAMENTO DE FARM˜CIA                                                 4\n",
              "DEPARTAMENTO DE COMPUTACAO                                               4\n",
              "INSTITUTO DE CIENCIAS HUMANAS E SOCIAIS                                  4\n",
              "DEPARTAMENTO DE BIODIVERSIDADE                                           3\n",
              "DEPARTAMENTO DE  ENGENHARIA, ARQUITETURA E URBANISMO                     3\n",
              "DEPARTAMENTO DE TURISMO                                                  3\n",
              "DEPARTAMENTO DE EDUCACAO                                                 2\n",
              "DEPARTAMENTO DE ENGENHARIA AMBIENTAL                                     2\n",
              "INSTITUTO DE CIENCIAS SOCIAIS MARIANA - CAMPUS II                        2\n",
              "DEPARTAMENTO DE HISTORIA                                                 2\n",
              "DEPARTAMENTO DE CIENCIAS BIOLOGICAS                                      2\n",
              "DEPARTAMENTO DE ENGENHARIA DE CONTROLE E AUTOMACAO E E FUNDAMENTAIS      2\n",
              "DEPARTAMENTO DE ENGENHARIA DE PRODUCAO, ADMINISTRACAO E ECONOMIA         2\n",
              "DEPARTAMENTO DE DIREITO                                                  2\n",
              "DEPARTAMENTO DE ENGENHARIA METAL?RGICA E DE MATERIAIS                    2\n",
              "DEPARTAMENTO DE LETRAS                                                   1\n",
              "DEPARTAMENTO DE MATEM˜TICA                                               1\n",
              "DEPARTAMENTO DE FILOSOFIA                                                1\n",
              "DEPARTAMENTO DE MUSEOLOGIA                                               1\n",
              "DEPARTAMENTO DE MATEMATICA                                               1\n",
              "Name: Orgao_Solicitante, dtype: int64"
            ]
          },
          "metadata": {
            "tags": []
          },
          "execution_count": 49
        }
      ]
    },
    {
      "cell_type": "markdown",
      "metadata": {
        "id": "r8JEGG3i8GSN"
      },
      "source": [
        "# **ATENÇÃO: TESTE RÁPIDO**"
      ]
    },
    {
      "cell_type": "code",
      "metadata": {
        "id": "lp9cjWO87kfE",
        "outputId": "def7c569-837a-4c08-e088-45ff9dac2edd",
        "colab": {
          "base_uri": "https://localhost:8080/",
          "height": 36
        }
      },
      "source": [
        "dados2017acd.iloc[16,0]"
      ],
      "execution_count": 50,
      "outputs": [
        {
          "output_type": "execute_result",
          "data": {
            "application/vnd.google.colaboratory.intrinsic+json": {
              "type": "string"
            },
            "text/plain": [
              "'CENTRO DE EDUCACAO ABERTA E A DIST?NCIA'"
            ]
          },
          "metadata": {
            "tags": []
          },
          "execution_count": 50
        }
      ]
    },
    {
      "cell_type": "code",
      "metadata": {
        "id": "mKOL7BOf7sWL",
        "outputId": "949a2d0e-33b4-4848-80ac-c042b3ada723",
        "colab": {
          "base_uri": "https://localhost:8080/",
          "height": 35
        }
      },
      "source": [
        "dados2017acd.iloc[5,0].split()"
      ],
      "execution_count": 51,
      "outputs": [
        {
          "output_type": "execute_result",
          "data": {
            "text/plain": [
              "['CENTRO', 'DE', 'EDUCACAO', 'ABERTA', 'E', 'A', 'DIST?NCIA']"
            ]
          },
          "metadata": {
            "tags": []
          },
          "execution_count": 51
        }
      ]
    },
    {
      "cell_type": "code",
      "metadata": {
        "id": "AjYQDjunNlb8"
      },
      "source": [
        "dados2017acd.reset_index(drop=True, inplace=True)"
      ],
      "execution_count": 52,
      "outputs": []
    },
    {
      "cell_type": "code",
      "metadata": {
        "id": "9su2ymk0jesd",
        "outputId": "72f6323c-70f7-4f8f-8ad6-19336045d949",
        "colab": {
          "base_uri": "https://localhost:8080/",
          "height": 294
        }
      },
      "source": [
        "# Alterar:\n",
        "# EDUCACAO, DIST?NCIA, CIENCIAS, JOAO, NUTRICAO, CLINICA, CIENCIAS, COMPUTACAO, QUIMICA, CIENCIAS\n",
        "# FARM˜CIA, DEPARTAMENTO DE ENGENHARIA DE CONTROLE E AUTOMACAO E E FUNDAMENTAIS, INSTITUTO DE CIENCIAS SOCIAIS MARIANA - CAMPUS II,\n",
        "# METAL?RGICA, HISTORIA, PRODUCAO,ADMINISTRACAO, MATEM˜TICA, MATEMATICA\n",
        "# Tentar com uma lista\n",
        "# LÓGICA: SE alguma das palavras que está no dado \"dados2017acd.Orgao_Solicitante\" na posição \"i\" se encontram em alguma destas palavras... \n",
        "# ...da lista \"corrige\" ENTÃO substitui-se a palavra que está em  \"dados2017acd.Orgao_Solicitante\" na posição \"i\" pela que está em \"corrige\"\n",
        "# Resumindo, compara-se duas listas e vê se termos de uma se encontram em termos d\n",
        "# tira '?' de metalúrgica e distância - fatiar strings\n",
        "for i in range(0,len(dados2017acd)):\n",
        "  if dados2017acd.Orgao_Solicitante[i] == 'CENTRO DE EDUCACAO ABERTA E A DIST?NCIA':\n",
        "    dados2017acd.Orgao_Solicitante[i]=dados2017acd.Orgao_Solicitante[i].replace('?','Â')\n",
        "  if dados2017acd.Orgao_Solicitante[i] == 'DEPARTAMENTO DE ENGENHARIA METAL?RGICA E DE MATERIAIS':\n",
        "    dados2017acd.Orgao_Solicitante[i]=dados2017acd.Orgao_Solicitante[i].replace('?','Ú')\n",
        "  if dados2017acd.Orgao_Solicitante[i]== 'DEPARTAMENTO DE ENGENHARIA DE CONTROLE E AUTOMACAO E E FUNDAMENTAIS':\n",
        "    dados2017acd.Orgao_Solicitante[i]='DEPARTAMENTO DE ENGENHARIA DE CONTROLE E AUTOMAÇÃO'\n",
        "\n",
        "dados2017acd.Orgao_Solicitante.replace({'EDUCACAO':'EDUCAÇÃO','CIENCIAS':'CIÊNCIAS','JOAO':'JOÃO','NUTRICAO':'NUTRIÇÃO','CLINICA':'CLÍNICA','CIENCIAS':'CIÊNCIAS',\n",
        "                      'COMPUTACAO':'COMPUTAÇÃO','QUIMICA':'QUÍMICA','FARM˜CIA':'FARMÁCIA','HISTORIA':'HISTÓRIA','PRODUCAO':'PRODUÇÃO',\n",
        "                      'ADMINISTRACAO':'ADMINISTRAÇÃO','MATEM˜TICA':'MATEMÁTICA','MATEMATICA':'MATEMÁTICA'}, regex=True, inplace=True)"
      ],
      "execution_count": 53,
      "outputs": [
        {
          "output_type": "stream",
          "text": [
            "/usr/local/lib/python3.6/dist-packages/ipykernel_launcher.py:12: SettingWithCopyWarning: \n",
            "A value is trying to be set on a copy of a slice from a DataFrame\n",
            "\n",
            "See the caveats in the documentation: https://pandas.pydata.org/pandas-docs/stable/user_guide/indexing.html#returning-a-view-versus-a-copy\n",
            "  if sys.path[0] == '':\n",
            "/usr/local/lib/python3.6/dist-packages/ipykernel_launcher.py:16: SettingWithCopyWarning: \n",
            "A value is trying to be set on a copy of a slice from a DataFrame\n",
            "\n",
            "See the caveats in the documentation: https://pandas.pydata.org/pandas-docs/stable/user_guide/indexing.html#returning-a-view-versus-a-copy\n",
            "  app.launch_new_instance()\n",
            "/usr/local/lib/python3.6/dist-packages/ipykernel_launcher.py:14: SettingWithCopyWarning: \n",
            "A value is trying to be set on a copy of a slice from a DataFrame\n",
            "\n",
            "See the caveats in the documentation: https://pandas.pydata.org/pandas-docs/stable/user_guide/indexing.html#returning-a-view-versus-a-copy\n",
            "  \n"
          ],
          "name": "stderr"
        }
      ]
    },
    {
      "cell_type": "code",
      "metadata": {
        "id": "NA7WintCVIQA",
        "outputId": "94f42a5f-d82a-41b1-dfa0-feee469539fa",
        "colab": {
          "base_uri": "https://localhost:8080/",
          "height": 589
        }
      },
      "source": [
        "dados2017acd.Orgao_Solicitante.value_counts()"
      ],
      "execution_count": 54,
      "outputs": [
        {
          "output_type": "execute_result",
          "data": {
            "text/plain": [
              "CENTRO DE EDUCAÇÃO ABERTA E A DISTÂNCIA                             130\n",
              "INSTITUTO DE CIÊNCIAS EXATAS E APLICADAS JOÃO MONLEVADE              64\n",
              "ESCOLA DE MEDICINA                                                   44\n",
              "DEPARTAMENTO DE NUTRIÇÃO CLÍNICA E SOCIAL                            39\n",
              "DEPARTAMENTO DE GEOLOGIA                                             35\n",
              "INSTITUTO DE CIÊNCIAS EXATAS E APLICADAS                             21\n",
              "DEPARTAMENTO DE ALIMENTOS                                            15\n",
              "DEPARTAMENTO DE ENGENHARIA DE MINAS                                  11\n",
              "DEPARTAMENTO DE ENGENHARIA CIVIL                                     10\n",
              "INSTITUTO DE FILOSOFIA, ARTES E CULTURA                               7\n",
              "INSTITUTO DE CIÊNCIAS HUMANAS E SOCIAIS                               4\n",
              "DEPARTAMENTO DE FARMÁCIA                                              4\n",
              "DEPARTAMENTO DE COMPUTAÇÃO                                            4\n",
              "DEPARTAMENTO DE QUÍMICA                                               4\n",
              "DEPARTAMENTO DE TURISMO                                               3\n",
              "DEPARTAMENTO DE BIODIVERSIDADE                                        3\n",
              "DEPARTAMENTO DE  ENGENHARIA, ARQUITETURA E URBANISMO                  3\n",
              "DEPARTAMENTO DE ENGENHARIA AMBIENTAL                                  2\n",
              "DEPARTAMENTO DE HISTÓRIA                                              2\n",
              "DEPARTAMENTO DE ENGENHARIA METALÚRGICA E DE MATERIAIS                 2\n",
              "DEPARTAMENTO DE EDUCAÇÃO                                              2\n",
              "INSTITUTO DE CIÊNCIAS SOCIAIS MARIANA - CAMPUS II                     2\n",
              "DEPARTAMENTO DE CIÊNCIAS BIOLOGICAS                                   2\n",
              "DEPARTAMENTO DE MATEMÁTICA                                            2\n",
              "DEPARTAMENTO DE ENGENHARIA DE CONTROLE E AUTOMAÇÃO                    2\n",
              "DEPARTAMENTO DE DIREITO                                               2\n",
              "DEPARTAMENTO DE ENGENHARIA DE PRODUÇÃO, ADMINISTRAÇÃO E ECONOMIA      2\n",
              "DEPARTAMENTO DE FILOSOFIA                                             1\n",
              "DEPARTAMENTO DE MUSEOLOGIA                                            1\n",
              "DEPARTAMENTO DE LETRAS                                                1\n",
              "Name: Orgao_Solicitante, dtype: int64"
            ]
          },
          "metadata": {
            "tags": []
          },
          "execution_count": 54
        }
      ]
    },
    {
      "cell_type": "code",
      "metadata": {
        "id": "ZHofqUI9dv5M",
        "outputId": "d164312a-ea5e-47ec-f594-c200f6d13405",
        "colab": {
          "base_uri": "https://localhost:8080/",
          "height": 294
        }
      },
      "source": [
        "dados2017acd.info()"
      ],
      "execution_count": 55,
      "outputs": [
        {
          "output_type": "stream",
          "text": [
            "<class 'pandas.core.frame.DataFrame'>\n",
            "RangeIndex: 424 entries, 0 to 423\n",
            "Data columns (total 8 columns):\n",
            " #   Column             Non-Null Count  Dtype         \n",
            "---  ------             --------------  -----         \n",
            " 0   Orgao_Solicitante  424 non-null    object        \n",
            " 1   Nome_viajante      424 non-null    object        \n",
            " 2   Numero_PCDP        424 non-null    object        \n",
            " 3   Data_Solicitacao   424 non-null    datetime64[ns]\n",
            " 4   Data_Inicio        424 non-null    datetime64[ns]\n",
            " 5   Vr_Diaria          424 non-null    float64       \n",
            " 6   Vr_Passagem        424 non-null    float64       \n",
            " 7   Vr_Viagem          424 non-null    float64       \n",
            "dtypes: datetime64[ns](2), float64(3), object(3)\n",
            "memory usage: 26.6+ KB\n"
          ],
          "name": "stdout"
        }
      ]
    },
    {
      "cell_type": "markdown",
      "metadata": {
        "id": "VjcXyxrtd2xw"
      },
      "source": [
        "Dados 2017 acadêmicos - OK\n",
        "\n",
        "Limpar dados2017adm"
      ]
    },
    {
      "cell_type": "code",
      "metadata": {
        "id": "GxGCmZHkd2EP",
        "outputId": "daab255d-97be-43a0-91f3-eef14bc39bba",
        "colab": {
          "base_uri": "https://localhost:8080/",
          "height": 206
        }
      },
      "source": [
        "dados2017adm.head()"
      ],
      "execution_count": 56,
      "outputs": [
        {
          "output_type": "execute_result",
          "data": {
            "text/html": [
              "<div>\n",
              "<style scoped>\n",
              "    .dataframe tbody tr th:only-of-type {\n",
              "        vertical-align: middle;\n",
              "    }\n",
              "\n",
              "    .dataframe tbody tr th {\n",
              "        vertical-align: top;\n",
              "    }\n",
              "\n",
              "    .dataframe thead th {\n",
              "        text-align: right;\n",
              "    }\n",
              "</style>\n",
              "<table border=\"1\" class=\"dataframe\">\n",
              "  <thead>\n",
              "    <tr style=\"text-align: right;\">\n",
              "      <th></th>\n",
              "      <th>Orgao_Solicitante</th>\n",
              "      <th>Nome_viajante</th>\n",
              "      <th>Numero_PCDP</th>\n",
              "      <th>Data_Solicitacao</th>\n",
              "      <th>Data_Inicio</th>\n",
              "      <th>Vr_Diaria</th>\n",
              "      <th>Vr_Passagem</th>\n",
              "      <th>Vr_Viagem</th>\n",
              "    </tr>\n",
              "  </thead>\n",
              "  <tbody>\n",
              "    <tr>\n",
              "      <th>0</th>\n",
              "      <td>Assessoria de Comunicacao Institucional</td>\n",
              "      <td>ADRIANO MEDEIROS DA ROCHA</td>\n",
              "      <td>000223/17</td>\n",
              "      <td>2017-02-10</td>\n",
              "      <td>2017-02-15</td>\n",
              "      <td>330.77</td>\n",
              "      <td>0.00</td>\n",
              "      <td>330.77</td>\n",
              "    </tr>\n",
              "    <tr>\n",
              "      <th>1</th>\n",
              "      <td>Assessoria de Comunicacao Institucional</td>\n",
              "      <td>FRANCISCO JOSE DAHER JUNIOR</td>\n",
              "      <td>001051/17</td>\n",
              "      <td>2017-05-17</td>\n",
              "      <td>2017-05-24</td>\n",
              "      <td>186.28</td>\n",
              "      <td>1288.54</td>\n",
              "      <td>1474.82</td>\n",
              "    </tr>\n",
              "    <tr>\n",
              "      <th>2</th>\n",
              "      <td>Centro Desportivo</td>\n",
              "      <td>HEBER EUSTAQUIO DE PAULA</td>\n",
              "      <td>000480/17</td>\n",
              "      <td>2017-03-10</td>\n",
              "      <td>2017-03-20</td>\n",
              "      <td>12.49</td>\n",
              "      <td>0.00</td>\n",
              "      <td>12.49</td>\n",
              "    </tr>\n",
              "    <tr>\n",
              "      <th>3</th>\n",
              "      <td>Centro Desportivo</td>\n",
              "      <td>HEBER EUSTAQUIO DE PAULA</td>\n",
              "      <td>001040/17</td>\n",
              "      <td>2017-05-17</td>\n",
              "      <td>2017-06-28</td>\n",
              "      <td>125.93</td>\n",
              "      <td>396.32</td>\n",
              "      <td>522.25</td>\n",
              "    </tr>\n",
              "    <tr>\n",
              "      <th>4</th>\n",
              "      <td>Gabinete do Reitor</td>\n",
              "      <td>ALESSANDRA RODRIGUES KOZOVITS</td>\n",
              "      <td>001265/17</td>\n",
              "      <td>2017-06-12</td>\n",
              "      <td>2017-06-14</td>\n",
              "      <td>101.89</td>\n",
              "      <td>0.00</td>\n",
              "      <td>101.89</td>\n",
              "    </tr>\n",
              "  </tbody>\n",
              "</table>\n",
              "</div>"
            ],
            "text/plain": [
              "                         Orgao_Solicitante  ... Vr_Viagem\n",
              "0  Assessoria de Comunicacao Institucional  ...    330.77\n",
              "1  Assessoria de Comunicacao Institucional  ...   1474.82\n",
              "2                        Centro Desportivo  ...     12.49\n",
              "3                        Centro Desportivo  ...    522.25\n",
              "4                       Gabinete do Reitor  ...    101.89\n",
              "\n",
              "[5 rows x 8 columns]"
            ]
          },
          "metadata": {
            "tags": []
          },
          "execution_count": 56
        }
      ]
    },
    {
      "cell_type": "code",
      "metadata": {
        "id": "wtM6EjbLeRGk",
        "outputId": "7beb13da-9846-454b-ef69-46fc98100452",
        "colab": {
          "base_uri": "https://localhost:8080/",
          "height": 294
        }
      },
      "source": [
        "dados2017adm.info()"
      ],
      "execution_count": 57,
      "outputs": [
        {
          "output_type": "stream",
          "text": [
            "<class 'pandas.core.frame.DataFrame'>\n",
            "RangeIndex: 966 entries, 0 to 965\n",
            "Data columns (total 8 columns):\n",
            " #   Column             Non-Null Count  Dtype         \n",
            "---  ------             --------------  -----         \n",
            " 0   Orgao_Solicitante  966 non-null    object        \n",
            " 1   Nome_viajante      966 non-null    object        \n",
            " 2   Numero_PCDP        966 non-null    object        \n",
            " 3   Data_Solicitacao   966 non-null    datetime64[ns]\n",
            " 4   Data_Inicio        966 non-null    datetime64[ns]\n",
            " 5   Vr_Diaria          964 non-null    float64       \n",
            " 6   Vr_Passagem        964 non-null    float64       \n",
            " 7   Vr_Viagem          964 non-null    float64       \n",
            "dtypes: datetime64[ns](2), float64(3), object(3)\n",
            "memory usage: 60.5+ KB\n"
          ],
          "name": "stdout"
        }
      ]
    },
    {
      "cell_type": "code",
      "metadata": {
        "id": "ysPU_wcFeppS",
        "outputId": "5099d967-f2d7-47e3-f431-a1df68368bc7",
        "colab": {
          "base_uri": "https://localhost:8080/",
          "height": 109
        }
      },
      "source": [
        "# Transforma Orgao Solicitante em upper()\n",
        "for i in range(0,len(dados2017adm)):\n",
        "  dados2017adm.Orgao_Solicitante[i]=dados2017adm.Orgao_Solicitante[i].upper()"
      ],
      "execution_count": 58,
      "outputs": [
        {
          "output_type": "stream",
          "text": [
            "/usr/local/lib/python3.6/dist-packages/ipykernel_launcher.py:3: SettingWithCopyWarning: \n",
            "A value is trying to be set on a copy of a slice from a DataFrame\n",
            "\n",
            "See the caveats in the documentation: https://pandas.pydata.org/pandas-docs/stable/user_guide/indexing.html#returning-a-view-versus-a-copy\n",
            "  This is separate from the ipykernel package so we can avoid doing imports until\n"
          ],
          "name": "stderr"
        }
      ]
    },
    {
      "cell_type": "code",
      "metadata": {
        "id": "G_LWCTqChJWj",
        "outputId": "0db5f903-a4b5-497e-c6dc-49c1f7cf1dfe",
        "colab": {
          "base_uri": "https://localhost:8080/",
          "height": 774
        }
      },
      "source": [
        "dados2017adm.Orgao_Solicitante.value_counts()"
      ],
      "execution_count": 59,
      "outputs": [
        {
          "output_type": "execute_result",
          "data": {
            "text/plain": [
              "DIVISAO DE TRANSPORTES                                                                       532\n",
              "GABINETE DO REITOR                                                                            46\n",
              "COORDENADORIA DE GESTAO DE PESSOAS                                                            36\n",
              "COORDENACAO DO PROGRAMA DE APOIO A POS-GRADUACAO EM BIOLOGIA EVOLUTIVA E BIOMAS TROPICAIS     23\n",
              "PRO-REITORIA DE GRADUACAO                                                                     23\n",
              "PROGRAMA DE APOIO A POS-GRADUACAO EM GEOLOGIA                                                 22\n",
              "PREFEITURA UNIVERSITARIA                                                                      20\n",
              "PROGRAMA DE APOIO A POS-GRADUACAO EM FARMACIA                                                 20\n",
              "PROGRAMA DE APOIO A POS-GRADUACAO EM ENGENHARIA CIVIL                                         19\n",
              "PRO-REITORIA DE EXTENSAO                                                                      19\n",
              "PROGRAMA DE APOIO A POS-GRADUACAO REDEMAT                                                     18\n",
              "NUCLEO DE TECNOLOGIA DA INFORMACAO                                                            17\n",
              "COORDENADORIA DE ASSUNTOS PATRIMONIAIS                                                        16\n",
              "PRO-REITORIA DE PESQUISA A POS-GRADUACAO                                                      13\n",
              "PROGRAMA DE APOIO A POS-GRADUACAO EM ENGENHARIA AMBIENTAL                                     12\n",
              "PROGRAMA DE APOIO A POS-GRADUACAO EM FILOSOFIA                                                12\n",
              "PRO-REITORIA DE ORCAMENTO E FINANCAS                                                          10\n",
              "PROGRAMA DE APOIO A POS-GRADUACAO EM MINERACAO                                                10\n",
              "SISTEMA DE BIBLIOTECAS                                                                         9\n",
              "PRO-REITORIA ESPECIAL DE ASSUNTOS COMUNITARIOS E ESTUDANTIS                                    8\n",
              "COORDENACAO DO PROGRAMA DE APOIO A POS-GRADUACAO EM COMUNICACAO                                8\n",
              "COORDENACAO DO PROGRAMA DE APOIO A POS-GRADUACAO EM CIENCIAS DA COMPUTACAO                     7\n",
              "PRO-REITORIA DE ADMINISTRACAO                                                                  6\n",
              "COORDENACAO DO PROGRAMA DE APOIO A POS-GRADUACAO EM ARTES CENICAS                              6\n",
              "SECRETARIA DOS ORGAOS COLEGIADOS                                                               6\n",
              "PRO-REITORIA DE PLANEJAMENTO E DESENVOLVIMENTO                                                 6\n",
              "PROGRAMA DE APOIO A POS-GRADUACAO EM HISTORIA                                                  5\n",
              "COORDENACAO DO PROGRAMA DE APOIO A POS-GRADUACAO EM BIOTECNOLOGIA                              5\n",
              "COORDENACAO DO PROGRAMA DE MESTRADO PROFISSIONAL EM EDUCACAO MATEMATICA                        4\n",
              "COORDENACAO DO PROGRAMA DE APOIO A POS-GRADUACAO EM QUIMICA                                    4\n",
              "COORDENACAO DO PROGRAMA DE APOIO A POS-GRADUACAO EM CIENCIAS - FISICA DOS MATERIAIS            4\n",
              "PROCURADORIA JURIDICA                                                                          4\n",
              "COORDENACAO DO PROGRAMA DE APOIO A POS-GRADUACAO EM EDUCACAO                                   3\n",
              "COORDENADORIA DE SUPRIMENTOS                                                                   2\n",
              "COORDENACAO DO PROGRAMA DE APOIO A POS-GRADUACAO EM LETRAS                                     2\n",
              "COORDENACAO DO PROGRAMA DE APOIO A POS-GRADUACAO EM SAUDE E NUTRICAO                           2\n",
              "COORDENACAO DO PROGRAMA DE MESTRADO PROFISSIONAL EM MATEMATICA EM REDE NACIONAL                2\n",
              "CENTRO DESPORTIVO                                                                              2\n",
              "ASSESSORIA DE COMUNICACAO INSTITUCIONAL                                                        2\n",
              "PROGRAMA DE APOIO A POS-GRADUACAO EM GEOTECNIA                                                 1\n",
              "Name: Orgao_Solicitante, dtype: int64"
            ]
          },
          "metadata": {
            "tags": []
          },
          "execution_count": 59
        }
      ]
    },
    {
      "cell_type": "code",
      "metadata": {
        "id": "5M-cb_n0fPpH"
      },
      "source": [
        "# Corrige textos\n",
        "# encoding? Não\n",
        "# Acentuação? sim\n",
        "# DIVISAO, GESTAO, GRADUACAO,COORDENACAO, UNIVERSITARIA, FARMACIA, EXTENSAO, NUCLEO, INFORMACAO, ORCAMENTO, FINANCAS,\n",
        "# MINERACAO, COMUNICACAO, COMUNITARIOS, CIENCIAS, COMPUTACAO, CENICAS, ADMINISTRACAO, ORGAOS, HISTORIA, QUIMICA,\n",
        "# EDUCACAO, MATEMATICA, JURIDICA, FISICA, SAUDE, NUTRICAO\n",
        "dados2017adm.Orgao_Solicitante.replace({'DIVISAO':'DIVISÃO', 'GESTAO':'GESTÃO', 'GRADUACAO':'GRADUAÇÃO', 'COORDENACAO':'COORDENAÇÃO', \n",
        "                                        'UNIVERSITARIA':'UNIVERSITÁRIA', 'FARMACIA':'FARMÁCIA', 'EXTENSAO':'EXTENSÃO', 'NUCLEO':'NÚCLEO', \n",
        "                                        'INFORMACAO':'INFORMAÇÃO', 'ORCAMENTO':'ORÇAMENTO', 'FINANCAS':'FINANÇAS', 'MINERACAO':'MINERAÇÃO', \n",
        "                                        'COMUNICACAO':'COMUNICAÇÃO', 'COMUNITARIOS':'COMUNITÁRIOS', 'CIENCIAS':'CIÊNCIAS', 'COMPUTACAO':'COMPUTAÇÃO', \n",
        "                                        'CENICAS':'CÊNICAS', 'ADMINISTRACAO':'ADMINISTRAÇÃO', 'ORGAOS':'ORGÃOS', 'HISTORIA':'HISTÓRIA', \n",
        "                                        'QUIMICA':'QUÍMICA', 'EDUCACAO':'EDUCAÇÃO', 'MATEMATICA':'MATEMÁTICA', 'JURIDICA':'JURÍDICA', 'FISICA':'FÍSICA', \n",
        "                                        'SAUDE':'SAÚDE', 'NUTRICAO':'NUTRIÇÃO'}, regex=True, inplace=True)"
      ],
      "execution_count": 60,
      "outputs": []
    },
    {
      "cell_type": "code",
      "metadata": {
        "id": "mHV0xWtQnZCv",
        "outputId": "fa5b147d-c4c2-4a36-c8a5-972cb6474cc0",
        "colab": {
          "base_uri": "https://localhost:8080/",
          "height": 774
        }
      },
      "source": [
        "dados2017adm.Orgao_Solicitante.value_counts()"
      ],
      "execution_count": 61,
      "outputs": [
        {
          "output_type": "execute_result",
          "data": {
            "text/plain": [
              "DIVISÃO DE TRANSPORTES                                                                       532\n",
              "GABINETE DO REITOR                                                                            46\n",
              "COORDENADORIA DE GESTÃO DE PESSOAS                                                            36\n",
              "PRO-REITORIA DE GRADUAÇÃO                                                                     23\n",
              "COORDENAÇÃO DO PROGRAMA DE APOIO A POS-GRADUAÇÃO EM BIOLOGIA EVOLUTIVA E BIOMAS TROPICAIS     23\n",
              "PROGRAMA DE APOIO A POS-GRADUAÇÃO EM GEOLOGIA                                                 22\n",
              "PREFEITURA UNIVERSITÁRIA                                                                      20\n",
              "PROGRAMA DE APOIO A POS-GRADUAÇÃO EM FARMÁCIA                                                 20\n",
              "PROGRAMA DE APOIO A POS-GRADUAÇÃO EM ENGENHARIA CIVIL                                         19\n",
              "PRO-REITORIA DE EXTENSÃO                                                                      19\n",
              "PROGRAMA DE APOIO A POS-GRADUAÇÃO REDEMAT                                                     18\n",
              "NÚCLEO DE TECNOLOGIA DA INFORMAÇÃO                                                            17\n",
              "COORDENADORIA DE ASSUNTOS PATRIMONIAIS                                                        16\n",
              "PRO-REITORIA DE PESQUISA A POS-GRADUAÇÃO                                                      13\n",
              "PROGRAMA DE APOIO A POS-GRADUAÇÃO EM FILOSOFIA                                                12\n",
              "PROGRAMA DE APOIO A POS-GRADUAÇÃO EM ENGENHARIA AMBIENTAL                                     12\n",
              "PROGRAMA DE APOIO A POS-GRADUAÇÃO EM MINERAÇÃO                                                10\n",
              "PRO-REITORIA DE ORÇAMENTO E FINANÇAS                                                          10\n",
              "SISTEMA DE BIBLIOTECAS                                                                         9\n",
              "COORDENAÇÃO DO PROGRAMA DE APOIO A POS-GRADUAÇÃO EM COMUNICAÇÃO                                8\n",
              "PRO-REITORIA ESPECIAL DE ASSUNTOS COMUNITÁRIOS E ESTUDANTIS                                    8\n",
              "COORDENAÇÃO DO PROGRAMA DE APOIO A POS-GRADUAÇÃO EM CIÊNCIAS DA COMPUTAÇÃO                     7\n",
              "PRO-REITORIA DE PLANEJAMENTO E DESENVOLVIMENTO                                                 6\n",
              "COORDENAÇÃO DO PROGRAMA DE APOIO A POS-GRADUAÇÃO EM ARTES CÊNICAS                              6\n",
              "SECRETARIA DOS ORGÃOS COLEGIADOS                                                               6\n",
              "PRO-REITORIA DE ADMINISTRAÇÃO                                                                  6\n",
              "COORDENAÇÃO DO PROGRAMA DE APOIO A POS-GRADUAÇÃO EM BIOTECNOLOGIA                              5\n",
              "PROGRAMA DE APOIO A POS-GRADUAÇÃO EM HISTÓRIA                                                  5\n",
              "COORDENAÇÃO DO PROGRAMA DE MESTRADO PROFISSIONAL EM EDUCAÇÃO MATEMÁTICA                        4\n",
              "COORDENAÇÃO DO PROGRAMA DE APOIO A POS-GRADUAÇÃO EM QUÍMICA                                    4\n",
              "PROCURADORIA JURÍDICA                                                                          4\n",
              "COORDENAÇÃO DO PROGRAMA DE APOIO A POS-GRADUAÇÃO EM CIÊNCIAS - FÍSICA DOS MATERIAIS            4\n",
              "COORDENAÇÃO DO PROGRAMA DE APOIO A POS-GRADUAÇÃO EM EDUCAÇÃO                                   3\n",
              "CENTRO DESPORTIVO                                                                              2\n",
              "ASSESSORIA DE COMUNICAÇÃO INSTITUCIONAL                                                        2\n",
              "COORDENADORIA DE SUPRIMENTOS                                                                   2\n",
              "COORDENAÇÃO DO PROGRAMA DE APOIO A POS-GRADUAÇÃO EM SAÚDE E NUTRIÇÃO                           2\n",
              "COORDENAÇÃO DO PROGRAMA DE APOIO A POS-GRADUAÇÃO EM LETRAS                                     2\n",
              "COORDENAÇÃO DO PROGRAMA DE MESTRADO PROFISSIONAL EM MATEMÁTICA EM REDE NACIONAL                2\n",
              "PROGRAMA DE APOIO A POS-GRADUAÇÃO EM GEOTECNIA                                                 1\n",
              "Name: Orgao_Solicitante, dtype: int64"
            ]
          },
          "metadata": {
            "tags": []
          },
          "execution_count": 61
        }
      ]
    },
    {
      "cell_type": "markdown",
      "metadata": {
        "id": "BOSSTnS3oahg"
      },
      "source": [
        "dados2017adm - OK\n",
        "\n",
        "dados2018"
      ]
    },
    {
      "cell_type": "code",
      "metadata": {
        "id": "a9lC4XKPno7d",
        "outputId": "140a2f56-2112-4480-e5f0-76f1ce7c8984",
        "colab": {
          "base_uri": "https://localhost:8080/",
          "height": 206
        }
      },
      "source": [
        "dados2018.head()"
      ],
      "execution_count": 62,
      "outputs": [
        {
          "output_type": "execute_result",
          "data": {
            "text/html": [
              "<div>\n",
              "<style scoped>\n",
              "    .dataframe tbody tr th:only-of-type {\n",
              "        vertical-align: middle;\n",
              "    }\n",
              "\n",
              "    .dataframe tbody tr th {\n",
              "        vertical-align: top;\n",
              "    }\n",
              "\n",
              "    .dataframe thead th {\n",
              "        text-align: right;\n",
              "    }\n",
              "</style>\n",
              "<table border=\"1\" class=\"dataframe\">\n",
              "  <thead>\n",
              "    <tr style=\"text-align: right;\">\n",
              "      <th></th>\n",
              "      <th>Orgao_Solicitante</th>\n",
              "      <th>Nome_viajante</th>\n",
              "      <th>Numero_PCDP</th>\n",
              "      <th>Data_Solicitacao</th>\n",
              "      <th>Data_Inicio</th>\n",
              "      <th>Vr_Diaria</th>\n",
              "      <th>Vr_Passagem</th>\n",
              "      <th>Vr_Viagem</th>\n",
              "    </tr>\n",
              "  </thead>\n",
              "  <tbody>\n",
              "    <tr>\n",
              "      <th>0</th>\n",
              "      <td>REITORIA</td>\n",
              "      <td>SERGIO FRANCISCO DE AQUINO</td>\n",
              "      <td>001415/18-1C</td>\n",
              "      <td>2018-07-10</td>\n",
              "      <td>2018-09-22</td>\n",
              "      <td>7709.84</td>\n",
              "      <td>5817.79</td>\n",
              "      <td>13630.55</td>\n",
              "    </tr>\n",
              "    <tr>\n",
              "      <th>1</th>\n",
              "      <td>REITORIA</td>\n",
              "      <td>ANDERSON ANTONIO GAMARANO</td>\n",
              "      <td>002135/18</td>\n",
              "      <td>2018-10-02</td>\n",
              "      <td>2018-11-10</td>\n",
              "      <td>9149.32</td>\n",
              "      <td>3507.28</td>\n",
              "      <td>12749.85</td>\n",
              "    </tr>\n",
              "    <tr>\n",
              "      <th>2</th>\n",
              "      <td>REITORIA</td>\n",
              "      <td>CLAUDIA APARECIDA MARLIERE DE LIMA</td>\n",
              "      <td>000977/18</td>\n",
              "      <td>2018-06-04</td>\n",
              "      <td>2018-06-10</td>\n",
              "      <td>6928.56</td>\n",
              "      <td>5536.08</td>\n",
              "      <td>12464.64</td>\n",
              "    </tr>\n",
              "    <tr>\n",
              "      <th>3</th>\n",
              "      <td>REITORIA</td>\n",
              "      <td>CLAUDIA APARECIDA MARLIERE DE LIMA</td>\n",
              "      <td>000335/18</td>\n",
              "      <td>2018-03-14</td>\n",
              "      <td>2018-05-19</td>\n",
              "      <td>3005.88</td>\n",
              "      <td>4582.94</td>\n",
              "      <td>7588.82</td>\n",
              "    </tr>\n",
              "    <tr>\n",
              "      <th>4</th>\n",
              "      <td>REITORIA</td>\n",
              "      <td>CLAUDIA APARECIDA MARLIERE DE LIMA</td>\n",
              "      <td>000195/18</td>\n",
              "      <td>2018-02-20</td>\n",
              "      <td>2018-02-21</td>\n",
              "      <td>4487.67</td>\n",
              "      <td>0.00</td>\n",
              "      <td>4487.67</td>\n",
              "    </tr>\n",
              "  </tbody>\n",
              "</table>\n",
              "</div>"
            ],
            "text/plain": [
              "  Orgao_Solicitante                       Nome_viajante  ... Vr_Passagem Vr_Viagem\n",
              "0          REITORIA          SERGIO FRANCISCO DE AQUINO  ...     5817.79  13630.55\n",
              "1          REITORIA           ANDERSON ANTONIO GAMARANO  ...     3507.28  12749.85\n",
              "2          REITORIA  CLAUDIA APARECIDA MARLIERE DE LIMA  ...     5536.08  12464.64\n",
              "3          REITORIA  CLAUDIA APARECIDA MARLIERE DE LIMA  ...     4582.94   7588.82\n",
              "4          REITORIA  CLAUDIA APARECIDA MARLIERE DE LIMA  ...        0.00   4487.67\n",
              "\n",
              "[5 rows x 8 columns]"
            ]
          },
          "metadata": {
            "tags": []
          },
          "execution_count": 62
        }
      ]
    },
    {
      "cell_type": "code",
      "metadata": {
        "id": "NhizwBblokRv",
        "outputId": "81930010-21b2-4bb9-8546-3c394c116bdb",
        "colab": {
          "base_uri": "https://localhost:8080/",
          "height": 294
        }
      },
      "source": [
        "dados2018.info()"
      ],
      "execution_count": 63,
      "outputs": [
        {
          "output_type": "stream",
          "text": [
            "<class 'pandas.core.frame.DataFrame'>\n",
            "RangeIndex: 2688 entries, 0 to 2687\n",
            "Data columns (total 8 columns):\n",
            " #   Column             Non-Null Count  Dtype         \n",
            "---  ------             --------------  -----         \n",
            " 0   Orgao_Solicitante  2688 non-null   object        \n",
            " 1   Nome_viajante      2688 non-null   object        \n",
            " 2   Numero_PCDP        2688 non-null   object        \n",
            " 3   Data_Solicitacao   2688 non-null   datetime64[ns]\n",
            " 4   Data_Inicio        2688 non-null   datetime64[ns]\n",
            " 5   Vr_Diaria          2688 non-null   float64       \n",
            " 6   Vr_Passagem        2688 non-null   float64       \n",
            " 7   Vr_Viagem          2688 non-null   float64       \n",
            "dtypes: datetime64[ns](2), float64(3), object(3)\n",
            "memory usage: 168.1+ KB\n"
          ],
          "name": "stdout"
        }
      ]
    },
    {
      "cell_type": "code",
      "metadata": {
        "id": "B4FN0_o6os8A",
        "outputId": "f04afc17-bcd4-413a-dd48-be4fbb651f96",
        "colab": {
          "base_uri": "https://localhost:8080/",
          "height": 257
        }
      },
      "source": [
        "dados2018.Orgao_Solicitante.value_counts()"
      ],
      "execution_count": 64,
      "outputs": [
        {
          "output_type": "execute_result",
          "data": {
            "text/plain": [
              "REITORIA                                                   1988\n",
              "INSTITUTO DE CIÊNCIAS EXATAS E APLICADAS JOÃO MONLEVADE     151\n",
              "CENTRO DE EDUCAÇÃO ABERTA E A DISTÂNCIA                     115\n",
              "ESCOLA DE MINAS                                             111\n",
              "ESCOLA DE NUTRIÇÃO                                           91\n",
              "ESCOLA DE MEDICINA                                           71\n",
              "INSTITUTO DE CIÊNCIAS EXATAS E BIOLÓGICAS                    39\n",
              "ESCOLA DE DIREITO, TURISMO E MUSEOLOGIA                      36\n",
              "INSTITUTO DE CIÊNCIAS HUMANAS E SOCIAIS                      26\n",
              "INSTITUTO DE CIÊNCIAS SOCIAIS MARIANA - CAMPUS II            24\n",
              "INSTITUTO DE FILOSOFIA, ARTES E CULTURA                      21\n",
              "ESCOLA DE FARMÁCIA                                           15\n",
              "Name: Orgao_Solicitante, dtype: int64"
            ]
          },
          "metadata": {
            "tags": []
          },
          "execution_count": 64
        }
      ]
    },
    {
      "cell_type": "markdown",
      "metadata": {
        "id": "ZrLeYFZrpLlO"
      },
      "source": [
        "dados2018 - OK\n",
        "\n",
        "dados2019"
      ]
    },
    {
      "cell_type": "code",
      "metadata": {
        "id": "lrApHoCxpH3b",
        "outputId": "1791abe9-6e59-451c-beb7-ef912db545f9",
        "colab": {
          "base_uri": "https://localhost:8080/",
          "height": 206
        }
      },
      "source": [
        "dados2019.head()"
      ],
      "execution_count": 65,
      "outputs": [
        {
          "output_type": "execute_result",
          "data": {
            "text/html": [
              "<div>\n",
              "<style scoped>\n",
              "    .dataframe tbody tr th:only-of-type {\n",
              "        vertical-align: middle;\n",
              "    }\n",
              "\n",
              "    .dataframe tbody tr th {\n",
              "        vertical-align: top;\n",
              "    }\n",
              "\n",
              "    .dataframe thead th {\n",
              "        text-align: right;\n",
              "    }\n",
              "</style>\n",
              "<table border=\"1\" class=\"dataframe\">\n",
              "  <thead>\n",
              "    <tr style=\"text-align: right;\">\n",
              "      <th></th>\n",
              "      <th>Orgao_Solicitante</th>\n",
              "      <th>Nome_viajante</th>\n",
              "      <th>Numero_PCDP</th>\n",
              "      <th>Data_Solicitacao</th>\n",
              "      <th>Data_Inicio</th>\n",
              "      <th>Vr_Diaria</th>\n",
              "      <th>Vr_Passagem</th>\n",
              "      <th>Vr_Viagem</th>\n",
              "    </tr>\n",
              "  </thead>\n",
              "  <tbody>\n",
              "    <tr>\n",
              "      <th>0</th>\n",
              "      <td>REITORIA</td>\n",
              "      <td>NITIS MUKHOPADHYAY</td>\n",
              "      <td>000024/19</td>\n",
              "      <td>2019-01-21</td>\n",
              "      <td>2019-03-14</td>\n",
              "      <td>0.00</td>\n",
              "      <td>15088.39</td>\n",
              "      <td>15088.39</td>\n",
              "    </tr>\n",
              "    <tr>\n",
              "      <th>1</th>\n",
              "      <td>ESCOLA DE MINAS</td>\n",
              "      <td>HERNANI MOTA DE LIMA</td>\n",
              "      <td>000547/19-1C</td>\n",
              "      <td>2019-04-10</td>\n",
              "      <td>2019-04-22</td>\n",
              "      <td>860.18</td>\n",
              "      <td>7390.03</td>\n",
              "      <td>8392.17</td>\n",
              "    </tr>\n",
              "    <tr>\n",
              "      <th>2</th>\n",
              "      <td>REITORIA</td>\n",
              "      <td>WILLIAM DE CASTRO BORGES</td>\n",
              "      <td>001529/19</td>\n",
              "      <td>2019-08-30</td>\n",
              "      <td>2019-10-07</td>\n",
              "      <td>1247.95</td>\n",
              "      <td>4715.86</td>\n",
              "      <td>5963.81</td>\n",
              "    </tr>\n",
              "    <tr>\n",
              "      <th>3</th>\n",
              "      <td>ESCOLA DE NUTRIÇÃO</td>\n",
              "      <td>JULICRISTIE MACHADO DE OLIVEIRA</td>\n",
              "      <td>001848/19-1C</td>\n",
              "      <td>2019-10-02</td>\n",
              "      <td>2019-10-13</td>\n",
              "      <td>1506.02</td>\n",
              "      <td>3178.90</td>\n",
              "      <td>4684.92</td>\n",
              "    </tr>\n",
              "    <tr>\n",
              "      <th>4</th>\n",
              "      <td>ESCOLA DE FARMÁCIA</td>\n",
              "      <td>ROSARIO DOMINGUEZ CRESPO HIRATA</td>\n",
              "      <td>001922/19-1C</td>\n",
              "      <td>2019-10-10</td>\n",
              "      <td>2019-10-20</td>\n",
              "      <td>1776.50</td>\n",
              "      <td>2560.21</td>\n",
              "      <td>4336.71</td>\n",
              "    </tr>\n",
              "  </tbody>\n",
              "</table>\n",
              "</div>"
            ],
            "text/plain": [
              "    Orgao_Solicitante                    Nome_viajante  ... Vr_Passagem Vr_Viagem\n",
              "0            REITORIA               NITIS MUKHOPADHYAY  ...    15088.39  15088.39\n",
              "1     ESCOLA DE MINAS             HERNANI MOTA DE LIMA  ...     7390.03   8392.17\n",
              "2            REITORIA         WILLIAM DE CASTRO BORGES  ...     4715.86   5963.81\n",
              "3  ESCOLA DE NUTRIÇÃO  JULICRISTIE MACHADO DE OLIVEIRA  ...     3178.90   4684.92\n",
              "4  ESCOLA DE FARMÁCIA  ROSARIO DOMINGUEZ CRESPO HIRATA  ...     2560.21   4336.71\n",
              "\n",
              "[5 rows x 8 columns]"
            ]
          },
          "metadata": {
            "tags": []
          },
          "execution_count": 65
        }
      ]
    },
    {
      "cell_type": "code",
      "metadata": {
        "id": "rrIN1UAYphsc",
        "outputId": "2963babb-78b7-4025-de7d-da98f68a01d1",
        "colab": {
          "base_uri": "https://localhost:8080/",
          "height": 294
        }
      },
      "source": [
        "dados2019.info()"
      ],
      "execution_count": 66,
      "outputs": [
        {
          "output_type": "stream",
          "text": [
            "<class 'pandas.core.frame.DataFrame'>\n",
            "RangeIndex: 2366 entries, 0 to 2365\n",
            "Data columns (total 8 columns):\n",
            " #   Column             Non-Null Count  Dtype         \n",
            "---  ------             --------------  -----         \n",
            " 0   Orgao_Solicitante  2366 non-null   object        \n",
            " 1   Nome_viajante      2366 non-null   object        \n",
            " 2   Numero_PCDP        2366 non-null   object        \n",
            " 3   Data_Solicitacao   2366 non-null   datetime64[ns]\n",
            " 4   Data_Inicio        2366 non-null   datetime64[ns]\n",
            " 5   Vr_Diaria          2366 non-null   float64       \n",
            " 6   Vr_Passagem        2366 non-null   float64       \n",
            " 7   Vr_Viagem          2366 non-null   float64       \n",
            "dtypes: datetime64[ns](2), float64(3), object(3)\n",
            "memory usage: 148.0+ KB\n"
          ],
          "name": "stdout"
        }
      ]
    },
    {
      "cell_type": "code",
      "metadata": {
        "id": "-mbkG6Jlpp4M",
        "outputId": "4d6b31aa-13d3-4b6f-cbce-e4bd1b250ef7",
        "colab": {
          "base_uri": "https://localhost:8080/",
          "height": 257
        }
      },
      "source": [
        "dados2019.Orgao_Solicitante.value_counts()"
      ],
      "execution_count": 67,
      "outputs": [
        {
          "output_type": "execute_result",
          "data": {
            "text/plain": [
              "REITORIA                                                   1887\n",
              "ESCOLA DE NUTRIÇÃO                                          137\n",
              "INSTITUTO DE CIÊNCIAS EXATAS E APLICADAS JOÃO MONLEVADE      92\n",
              "ESCOLA DE MINAS                                              85\n",
              "ESCOLA DE MEDICINA                                           55\n",
              "CENTRO DE EDUCAÇÃO ABERTA E A DISTÂNCIA                      31\n",
              "INSTITUTO DE CIÊNCIAS EXATAS E BIOLÓGICAS                    28\n",
              "ESCOLA DE DIREITO, TURISMO E MUSEOLOGIA                      18\n",
              "INSTITUTO DE CIÊNCIAS HUMANAS E SOCIAIS                      12\n",
              "ESCOLA DE FARMÁCIA                                           11\n",
              "INSTITUTO DE FILOSOFIA, ARTES E CULTURA                       7\n",
              "INSTITUTO DE CIÊNCIAS SOCIAIS MARIANA - CAMPUS II             3\n",
              "Name: Orgao_Solicitante, dtype: int64"
            ]
          },
          "metadata": {
            "tags": []
          },
          "execution_count": 67
        }
      ]
    },
    {
      "cell_type": "markdown",
      "metadata": {
        "id": "eVTffZaFqvM-"
      },
      "source": [
        "Concatena dados 2017, 2018, 2019"
      ]
    },
    {
      "cell_type": "code",
      "metadata": {
        "id": "6s7sh-Cfp8ex",
        "outputId": "b1b82cb6-a589-4dc9-a2bd-ae6dc0a01d47",
        "colab": {
          "base_uri": "https://localhost:8080/",
          "height": 597
        }
      },
      "source": [
        "df=pd.concat([dados2017acd,dados2017adm,dados2018,dados2019], axis=0, ignore_index=True)\n",
        "df"
      ],
      "execution_count": 68,
      "outputs": [
        {
          "output_type": "execute_result",
          "data": {
            "text/html": [
              "<div>\n",
              "<style scoped>\n",
              "    .dataframe tbody tr th:only-of-type {\n",
              "        vertical-align: middle;\n",
              "    }\n",
              "\n",
              "    .dataframe tbody tr th {\n",
              "        vertical-align: top;\n",
              "    }\n",
              "\n",
              "    .dataframe thead th {\n",
              "        text-align: right;\n",
              "    }\n",
              "</style>\n",
              "<table border=\"1\" class=\"dataframe\">\n",
              "  <thead>\n",
              "    <tr style=\"text-align: right;\">\n",
              "      <th></th>\n",
              "      <th>Orgao_Solicitante</th>\n",
              "      <th>Nome_viajante</th>\n",
              "      <th>Numero_PCDP</th>\n",
              "      <th>Data_Solicitacao</th>\n",
              "      <th>Data_Inicio</th>\n",
              "      <th>Vr_Diaria</th>\n",
              "      <th>Vr_Passagem</th>\n",
              "      <th>Vr_Viagem</th>\n",
              "    </tr>\n",
              "  </thead>\n",
              "  <tbody>\n",
              "    <tr>\n",
              "      <th>0</th>\n",
              "      <td>CENTRO DE EDUCAÇÃO ABERTA E A DISTÂNCIA</td>\n",
              "      <td>ADRIANO SERGIO LOPES DA GAMA CERQUEIRA</td>\n",
              "      <td>000631/17</td>\n",
              "      <td>2017-03-24</td>\n",
              "      <td>2017-03-29</td>\n",
              "      <td>283.11</td>\n",
              "      <td>0.0</td>\n",
              "      <td>283.11</td>\n",
              "    </tr>\n",
              "    <tr>\n",
              "      <th>1</th>\n",
              "      <td>CENTRO DE EDUCAÇÃO ABERTA E A DISTÂNCIA</td>\n",
              "      <td>ADRIANO SERGIO LOPES DA GAMA CERQUEIRA</td>\n",
              "      <td>000632/17</td>\n",
              "      <td>2017-03-24</td>\n",
              "      <td>2017-04-01</td>\n",
              "      <td>360.50</td>\n",
              "      <td>0.0</td>\n",
              "      <td>360.50</td>\n",
              "    </tr>\n",
              "    <tr>\n",
              "      <th>2</th>\n",
              "      <td>CENTRO DE EDUCAÇÃO ABERTA E A DISTÂNCIA</td>\n",
              "      <td>ADRIANO SERGIO LOPES DA GAMA CERQUEIRA</td>\n",
              "      <td>000664/17</td>\n",
              "      <td>2017-03-29</td>\n",
              "      <td>2017-04-07</td>\n",
              "      <td>389.37</td>\n",
              "      <td>0.0</td>\n",
              "      <td>389.37</td>\n",
              "    </tr>\n",
              "    <tr>\n",
              "      <th>3</th>\n",
              "      <td>CENTRO DE EDUCAÇÃO ABERTA E A DISTÂNCIA</td>\n",
              "      <td>ADRIANO SERGIO LOPES DA GAMA CERQUEIRA</td>\n",
              "      <td>000830/17</td>\n",
              "      <td>2017-04-20</td>\n",
              "      <td>2017-04-26</td>\n",
              "      <td>274.11</td>\n",
              "      <td>0.0</td>\n",
              "      <td>274.11</td>\n",
              "    </tr>\n",
              "    <tr>\n",
              "      <th>4</th>\n",
              "      <td>CENTRO DE EDUCAÇÃO ABERTA E A DISTÂNCIA</td>\n",
              "      <td>ADRIANO SERGIO LOPES DA GAMA CERQUEIRA</td>\n",
              "      <td>000868/17</td>\n",
              "      <td>2017-05-03</td>\n",
              "      <td>2017-05-09</td>\n",
              "      <td>394.98</td>\n",
              "      <td>0.0</td>\n",
              "      <td>394.98</td>\n",
              "    </tr>\n",
              "    <tr>\n",
              "      <th>...</th>\n",
              "      <td>...</td>\n",
              "      <td>...</td>\n",
              "      <td>...</td>\n",
              "      <td>...</td>\n",
              "      <td>...</td>\n",
              "      <td>...</td>\n",
              "      <td>...</td>\n",
              "      <td>...</td>\n",
              "    </tr>\n",
              "    <tr>\n",
              "      <th>6439</th>\n",
              "      <td>INSTITUTO DE CIÊNCIAS EXATAS E BIOLÓGICAS</td>\n",
              "      <td>PUCA HUACHI VAZ PENNA</td>\n",
              "      <td>001519/19</td>\n",
              "      <td>2019-08-27</td>\n",
              "      <td>2019-09-03</td>\n",
              "      <td>0.00</td>\n",
              "      <td>0.0</td>\n",
              "      <td>0.00</td>\n",
              "    </tr>\n",
              "    <tr>\n",
              "      <th>6440</th>\n",
              "      <td>INSTITUTO DE CIÊNCIAS EXATAS E BIOLÓGICAS</td>\n",
              "      <td>PUCA HUACHI VAZ PENNA</td>\n",
              "      <td>002018/19</td>\n",
              "      <td>2019-10-21</td>\n",
              "      <td>2019-10-21</td>\n",
              "      <td>0.00</td>\n",
              "      <td>0.0</td>\n",
              "      <td>0.00</td>\n",
              "    </tr>\n",
              "    <tr>\n",
              "      <th>6441</th>\n",
              "      <td>INSTITUTO DE CIÊNCIAS EXATAS E BIOLÓGICAS</td>\n",
              "      <td>ROBERTA BARBOSA OLIVEIRA</td>\n",
              "      <td>001610/19</td>\n",
              "      <td>2019-09-05</td>\n",
              "      <td>2019-09-08</td>\n",
              "      <td>0.00</td>\n",
              "      <td>0.0</td>\n",
              "      <td>0.00</td>\n",
              "    </tr>\n",
              "    <tr>\n",
              "      <th>6442</th>\n",
              "      <td>INSTITUTO DE CIÊNCIAS EXATAS E BIOLÓGICAS</td>\n",
              "      <td>ANDREA GOMES CAMPOS BIANCHI</td>\n",
              "      <td>001921/19</td>\n",
              "      <td>2019-10-10</td>\n",
              "      <td>2019-10-31</td>\n",
              "      <td>0.00</td>\n",
              "      <td>0.0</td>\n",
              "      <td>0.00</td>\n",
              "    </tr>\n",
              "    <tr>\n",
              "      <th>6443</th>\n",
              "      <td>INSTITUTO DE CIÊNCIAS EXATAS E BIOLÓGICAS</td>\n",
              "      <td>REINALDO SILVA FORTES</td>\n",
              "      <td>001893/19</td>\n",
              "      <td>2019-10-08</td>\n",
              "      <td>2019-10-09</td>\n",
              "      <td>0.00</td>\n",
              "      <td>0.0</td>\n",
              "      <td>0.00</td>\n",
              "    </tr>\n",
              "  </tbody>\n",
              "</table>\n",
              "<p>6444 rows × 8 columns</p>\n",
              "</div>"
            ],
            "text/plain": [
              "                              Orgao_Solicitante  ... Vr_Viagem\n",
              "0       CENTRO DE EDUCAÇÃO ABERTA E A DISTÂNCIA  ...    283.11\n",
              "1       CENTRO DE EDUCAÇÃO ABERTA E A DISTÂNCIA  ...    360.50\n",
              "2       CENTRO DE EDUCAÇÃO ABERTA E A DISTÂNCIA  ...    389.37\n",
              "3       CENTRO DE EDUCAÇÃO ABERTA E A DISTÂNCIA  ...    274.11\n",
              "4       CENTRO DE EDUCAÇÃO ABERTA E A DISTÂNCIA  ...    394.98\n",
              "...                                         ...  ...       ...\n",
              "6439  INSTITUTO DE CIÊNCIAS EXATAS E BIOLÓGICAS  ...      0.00\n",
              "6440  INSTITUTO DE CIÊNCIAS EXATAS E BIOLÓGICAS  ...      0.00\n",
              "6441  INSTITUTO DE CIÊNCIAS EXATAS E BIOLÓGICAS  ...      0.00\n",
              "6442  INSTITUTO DE CIÊNCIAS EXATAS E BIOLÓGICAS  ...      0.00\n",
              "6443  INSTITUTO DE CIÊNCIAS EXATAS E BIOLÓGICAS  ...      0.00\n",
              "\n",
              "[6444 rows x 8 columns]"
            ]
          },
          "metadata": {
            "tags": []
          },
          "execution_count": 68
        }
      ]
    },
    {
      "cell_type": "code",
      "metadata": {
        "id": "n2Zzxzp2r7gP",
        "outputId": "a31c2e24-72a1-4be3-a0d1-4f32860a49c3",
        "colab": {
          "base_uri": "https://localhost:8080/",
          "height": 239
        }
      },
      "source": [
        "df.Orgao_Solicitante.value_counts()"
      ],
      "execution_count": 69,
      "outputs": [
        {
          "output_type": "execute_result",
          "data": {
            "text/plain": [
              "REITORIA                                                   3875\n",
              "DIVISÃO DE TRANSPORTES                                      532\n",
              "INSTITUTO DE CIÊNCIAS EXATAS E APLICADAS JOÃO MONLEVADE     307\n",
              "CENTRO DE EDUCAÇÃO ABERTA E A DISTÂNCIA                     276\n",
              "ESCOLA DE NUTRIÇÃO                                          228\n",
              "                                                           ... \n",
              "DEPARTAMENTO DE CIÊNCIAS BIOLOGICAS                           2\n",
              "DEPARTAMENTO DE MUSEOLOGIA                                    1\n",
              "PROGRAMA DE APOIO A POS-GRADUAÇÃO EM GEOTECNIA                1\n",
              "DEPARTAMENTO DE FILOSOFIA                                     1\n",
              "DEPARTAMENTO DE LETRAS                                        1\n",
              "Name: Orgao_Solicitante, Length: 76, dtype: int64"
            ]
          },
          "metadata": {
            "tags": []
          },
          "execution_count": 69
        }
      ]
    },
    {
      "cell_type": "markdown",
      "metadata": {
        "id": "l4GfTjTkuH4n"
      },
      "source": [
        "6 . Conferindo congruência entre contas: ver se as somas de diária + passagem conferem com valor total da viagem"
      ]
    },
    {
      "cell_type": "code",
      "metadata": {
        "id": "JpKp2KHBtpTp",
        "outputId": "bcc48cc3-4827-4b86-c54c-0cc4ef2da968",
        "colab": {
          "base_uri": "https://localhost:8080/",
          "height": 109
        }
      },
      "source": [
        "for i in range(0,len(df)):\n",
        "  df.Vr_Viagem[i] = df.Vr_Diaria[i] + df.Vr_Viagem[i]"
      ],
      "execution_count": 70,
      "outputs": [
        {
          "output_type": "stream",
          "text": [
            "/usr/local/lib/python3.6/dist-packages/ipykernel_launcher.py:2: SettingWithCopyWarning: \n",
            "A value is trying to be set on a copy of a slice from a DataFrame\n",
            "\n",
            "See the caveats in the documentation: https://pandas.pydata.org/pandas-docs/stable/user_guide/indexing.html#returning-a-view-versus-a-copy\n",
            "  \n"
          ],
          "name": "stderr"
        }
      ]
    },
    {
      "cell_type": "markdown",
      "metadata": {
        "id": "qTXsqT9cuuP1"
      },
      "source": [
        "7. Trata dados faltantes"
      ]
    },
    {
      "cell_type": "code",
      "metadata": {
        "id": "CauEKOlpusdP",
        "outputId": "9b989bbf-a552-47c2-e23e-8914d835745d",
        "colab": {
          "base_uri": "https://localhost:8080/",
          "height": 294
        }
      },
      "source": [
        "df.info()"
      ],
      "execution_count": 71,
      "outputs": [
        {
          "output_type": "stream",
          "text": [
            "<class 'pandas.core.frame.DataFrame'>\n",
            "RangeIndex: 6444 entries, 0 to 6443\n",
            "Data columns (total 8 columns):\n",
            " #   Column             Non-Null Count  Dtype         \n",
            "---  ------             --------------  -----         \n",
            " 0   Orgao_Solicitante  6444 non-null   object        \n",
            " 1   Nome_viajante      6444 non-null   object        \n",
            " 2   Numero_PCDP        6444 non-null   object        \n",
            " 3   Data_Solicitacao   6444 non-null   datetime64[ns]\n",
            " 4   Data_Inicio        6444 non-null   datetime64[ns]\n",
            " 5   Vr_Diaria          6442 non-null   float64       \n",
            " 6   Vr_Passagem        6442 non-null   float64       \n",
            " 7   Vr_Viagem          6442 non-null   float64       \n",
            "dtypes: datetime64[ns](2), float64(3), object(3)\n",
            "memory usage: 402.9+ KB\n"
          ],
          "name": "stdout"
        }
      ]
    },
    {
      "cell_type": "markdown",
      "metadata": {
        "id": "3_Xsc-cqu2nn"
      },
      "source": [
        "Há 2 dados faltantes em cada Vr. Diária, Vr. Passagem e Vr. Viagem, logo, a hipótese aqui é que há pessoas registradas sem NENHUM dado da viagem. Averiguando:"
      ]
    },
    {
      "cell_type": "code",
      "metadata": {
        "id": "dLIzKXYZu1yE"
      },
      "source": [
        "falta_viagens=df[(df.Vr_Diaria.isnull()) | (df.Vr_Passagem.isnull()) | (df.Vr_Viagem.isnull())]"
      ],
      "execution_count": 72,
      "outputs": []
    },
    {
      "cell_type": "markdown",
      "metadata": {
        "id": "lmUd8JAMv6sb"
      },
      "source": [
        "Hipótese confirmada, há 2 pessoas com registro porém se NENHUM dado dos custos de suas viagens. \n",
        "\n",
        "1. Extraír esses dados e enviar a PROPLAD para confirmação do órgão ou para uma possível auditoria\n",
        "2. Analisar se vale a pena tratar os dados faltantes ou apenas excluí-los"
      ]
    },
    {
      "cell_type": "code",
      "metadata": {
        "id": "dc8AEnOXv56V"
      },
      "source": [
        "# salva solicitantes em branco com gastos em branco\n",
        "falta_viagens.to_excel('Falta_gastos.xlsx', sheet_name='Sheet_1', index=False)"
      ],
      "execution_count": 73,
      "outputs": []
    },
    {
      "cell_type": "code",
      "metadata": {
        "id": "CAqkfUDnyM9X",
        "outputId": "1411e02c-dcb7-4d65-8575-5b16651cec87",
        "colab": {
          "base_uri": "https://localhost:8080/",
          "height": 35
        }
      },
      "source": [
        "(2/(len(df)-2))*100"
      ],
      "execution_count": 74,
      "outputs": [
        {
          "output_type": "execute_result",
          "data": {
            "text/plain": [
              "0.03104625892579944"
            ]
          },
          "metadata": {
            "tags": []
          },
          "execution_count": 74
        }
      ]
    },
    {
      "cell_type": "markdown",
      "metadata": {
        "id": "mhE4SOB5yheO"
      },
      "source": [
        "0,03% de Solicitantes com dados faltantes, quantidade insignificante, portanto exclui-se estes dados dos demais.\n"
      ]
    },
    {
      "cell_type": "code",
      "metadata": {
        "id": "WVRRsajA1SkM",
        "outputId": "9344b6e7-9075-4b74-9b12-b31b68d5167d",
        "colab": {
          "base_uri": "https://localhost:8080/",
          "height": 35
        }
      },
      "source": [
        "falta_viagens.index"
      ],
      "execution_count": 75,
      "outputs": [
        {
          "output_type": "execute_result",
          "data": {
            "text/plain": [
              "Int64Index([1197, 1205], dtype='int64')"
            ]
          },
          "metadata": {
            "tags": []
          },
          "execution_count": 75
        }
      ]
    },
    {
      "cell_type": "code",
      "metadata": {
        "id": "RdFGue6m1Yb-"
      },
      "source": [
        "df.drop([1197,1205],axis=0,inplace=True)"
      ],
      "execution_count": 76,
      "outputs": []
    },
    {
      "cell_type": "code",
      "metadata": {
        "id": "1A25hvcN1ndZ"
      },
      "source": [
        "df.reset_index(drop=True, inplace=True)"
      ],
      "execution_count": 77,
      "outputs": []
    },
    {
      "cell_type": "markdown",
      "metadata": {
        "id": "m3Jl2d3F1w1j"
      },
      "source": [
        "Dados preparados para criação de métricas"
      ]
    },
    {
      "cell_type": "code",
      "metadata": {
        "id": "l8tP13mD1shE",
        "outputId": "4d9c816c-76eb-478b-b067-1657064b1d39",
        "colab": {
          "base_uri": "https://localhost:8080/",
          "height": 294
        }
      },
      "source": [
        "df.info()"
      ],
      "execution_count": 78,
      "outputs": [
        {
          "output_type": "stream",
          "text": [
            "<class 'pandas.core.frame.DataFrame'>\n",
            "RangeIndex: 6442 entries, 0 to 6441\n",
            "Data columns (total 8 columns):\n",
            " #   Column             Non-Null Count  Dtype         \n",
            "---  ------             --------------  -----         \n",
            " 0   Orgao_Solicitante  6442 non-null   object        \n",
            " 1   Nome_viajante      6442 non-null   object        \n",
            " 2   Numero_PCDP        6442 non-null   object        \n",
            " 3   Data_Solicitacao   6442 non-null   datetime64[ns]\n",
            " 4   Data_Inicio        6442 non-null   datetime64[ns]\n",
            " 5   Vr_Diaria          6442 non-null   float64       \n",
            " 6   Vr_Passagem        6442 non-null   float64       \n",
            " 7   Vr_Viagem          6442 non-null   float64       \n",
            "dtypes: datetime64[ns](2), float64(3), object(3)\n",
            "memory usage: 402.8+ KB\n"
          ],
          "name": "stdout"
        }
      ]
    },
    {
      "cell_type": "markdown",
      "metadata": {
        "id": "Yqg_H1caA-rk"
      },
      "source": [
        "Exporta dados para a próxima etapa: Análise exploratória dos dados ou insights em Power B.I.\n"
      ]
    },
    {
      "cell_type": "code",
      "metadata": {
        "id": "ejhhfsHDA9y6"
      },
      "source": [
        "df.to_excel('Custos_passagem_diárias.xlsx', sheet_name='sheet_1', index=False)"
      ],
      "execution_count": 79,
      "outputs": []
    },
    {
      "cell_type": "markdown",
      "metadata": {
        "id": "BLKk61_7-cnJ"
      },
      "source": [
        "# Whole data has been cleaned up"
      ]
    },
    {
      "cell_type": "code",
      "metadata": {
        "id": "KFvvcasKlg81",
        "outputId": "404a68e7-ee03-454f-d3fb-311872c3edb0",
        "colab": {
          "base_uri": "https://localhost:8080/",
          "height": 293
        }
      },
      "source": [
        "df.head()"
      ],
      "execution_count": 80,
      "outputs": [
        {
          "output_type": "execute_result",
          "data": {
            "text/html": [
              "<div>\n",
              "<style scoped>\n",
              "    .dataframe tbody tr th:only-of-type {\n",
              "        vertical-align: middle;\n",
              "    }\n",
              "\n",
              "    .dataframe tbody tr th {\n",
              "        vertical-align: top;\n",
              "    }\n",
              "\n",
              "    .dataframe thead th {\n",
              "        text-align: right;\n",
              "    }\n",
              "</style>\n",
              "<table border=\"1\" class=\"dataframe\">\n",
              "  <thead>\n",
              "    <tr style=\"text-align: right;\">\n",
              "      <th></th>\n",
              "      <th>Orgao_Solicitante</th>\n",
              "      <th>Nome_viajante</th>\n",
              "      <th>Numero_PCDP</th>\n",
              "      <th>Data_Solicitacao</th>\n",
              "      <th>Data_Inicio</th>\n",
              "      <th>Vr_Diaria</th>\n",
              "      <th>Vr_Passagem</th>\n",
              "      <th>Vr_Viagem</th>\n",
              "    </tr>\n",
              "  </thead>\n",
              "  <tbody>\n",
              "    <tr>\n",
              "      <th>0</th>\n",
              "      <td>CENTRO DE EDUCAÇÃO ABERTA E A DISTÂNCIA</td>\n",
              "      <td>ADRIANO SERGIO LOPES DA GAMA CERQUEIRA</td>\n",
              "      <td>000631/17</td>\n",
              "      <td>2017-03-24</td>\n",
              "      <td>2017-03-29</td>\n",
              "      <td>283.11</td>\n",
              "      <td>0.0</td>\n",
              "      <td>566.22</td>\n",
              "    </tr>\n",
              "    <tr>\n",
              "      <th>1</th>\n",
              "      <td>CENTRO DE EDUCAÇÃO ABERTA E A DISTÂNCIA</td>\n",
              "      <td>ADRIANO SERGIO LOPES DA GAMA CERQUEIRA</td>\n",
              "      <td>000632/17</td>\n",
              "      <td>2017-03-24</td>\n",
              "      <td>2017-04-01</td>\n",
              "      <td>360.50</td>\n",
              "      <td>0.0</td>\n",
              "      <td>721.00</td>\n",
              "    </tr>\n",
              "    <tr>\n",
              "      <th>2</th>\n",
              "      <td>CENTRO DE EDUCAÇÃO ABERTA E A DISTÂNCIA</td>\n",
              "      <td>ADRIANO SERGIO LOPES DA GAMA CERQUEIRA</td>\n",
              "      <td>000664/17</td>\n",
              "      <td>2017-03-29</td>\n",
              "      <td>2017-04-07</td>\n",
              "      <td>389.37</td>\n",
              "      <td>0.0</td>\n",
              "      <td>778.74</td>\n",
              "    </tr>\n",
              "    <tr>\n",
              "      <th>3</th>\n",
              "      <td>CENTRO DE EDUCAÇÃO ABERTA E A DISTÂNCIA</td>\n",
              "      <td>ADRIANO SERGIO LOPES DA GAMA CERQUEIRA</td>\n",
              "      <td>000830/17</td>\n",
              "      <td>2017-04-20</td>\n",
              "      <td>2017-04-26</td>\n",
              "      <td>274.11</td>\n",
              "      <td>0.0</td>\n",
              "      <td>548.22</td>\n",
              "    </tr>\n",
              "    <tr>\n",
              "      <th>4</th>\n",
              "      <td>CENTRO DE EDUCAÇÃO ABERTA E A DISTÂNCIA</td>\n",
              "      <td>ADRIANO SERGIO LOPES DA GAMA CERQUEIRA</td>\n",
              "      <td>000868/17</td>\n",
              "      <td>2017-05-03</td>\n",
              "      <td>2017-05-09</td>\n",
              "      <td>394.98</td>\n",
              "      <td>0.0</td>\n",
              "      <td>789.96</td>\n",
              "    </tr>\n",
              "  </tbody>\n",
              "</table>\n",
              "</div>"
            ],
            "text/plain": [
              "                         Orgao_Solicitante  ... Vr_Viagem\n",
              "0  CENTRO DE EDUCAÇÃO ABERTA E A DISTÂNCIA  ...    566.22\n",
              "1  CENTRO DE EDUCAÇÃO ABERTA E A DISTÂNCIA  ...    721.00\n",
              "2  CENTRO DE EDUCAÇÃO ABERTA E A DISTÂNCIA  ...    778.74\n",
              "3  CENTRO DE EDUCAÇÃO ABERTA E A DISTÂNCIA  ...    548.22\n",
              "4  CENTRO DE EDUCAÇÃO ABERTA E A DISTÂNCIA  ...    789.96\n",
              "\n",
              "[5 rows x 8 columns]"
            ]
          },
          "metadata": {
            "tags": []
          },
          "execution_count": 80
        }
      ]
    }
  ]
}