{
 "cells": [
  {
   "cell_type": "code",
   "execution_count": 1,
   "metadata": {
    "id": "rJPY-xAcRcMf"
   },
   "outputs": [],
   "source": [
    "import pandas as pd\n",
    "import numpy as np"
   ]
  },
  {
   "cell_type": "code",
   "execution_count": 2,
   "metadata": {
    "id": "Ws4NPQCHRem6"
   },
   "outputs": [
    {
     "ename": "FileNotFoundError",
     "evalue": "[Errno 2] No such file or directory: '/content/drive/My Drive/Treinamentos/Python/Projetos/Despesas Passagens PROPLAD/Datasets/dados2017_acd.xlsx'",
     "output_type": "error",
     "traceback": [
      "\u001b[1;31m---------------------------------------------------------------------------\u001b[0m",
      "\u001b[1;31mFileNotFoundError\u001b[0m                         Traceback (most recent call last)",
      "\u001b[1;32m<ipython-input-2-e81c866a6996>\u001b[0m in \u001b[0;36m<module>\u001b[1;34m\u001b[0m\n\u001b[1;32m----> 1\u001b[1;33m \u001b[0mdados2017acd\u001b[0m\u001b[1;33m=\u001b[0m\u001b[0mpd\u001b[0m\u001b[1;33m.\u001b[0m\u001b[0mread_excel\u001b[0m\u001b[1;33m(\u001b[0m\u001b[1;34m'/content/drive/My Drive/Treinamentos/Python/Projetos/Despesas Passagens PROPLAD/Datasets/dados2017_acd.xlsx'\u001b[0m\u001b[1;33m)\u001b[0m\u001b[1;33m\u001b[0m\u001b[1;33m\u001b[0m\u001b[0m\n\u001b[0m\u001b[0;32m      2\u001b[0m \u001b[0mdados2017adm\u001b[0m\u001b[1;33m=\u001b[0m\u001b[0mpd\u001b[0m\u001b[1;33m.\u001b[0m\u001b[0mread_excel\u001b[0m\u001b[1;33m(\u001b[0m\u001b[1;34m'/content/drive/My Drive/Treinamentos/Python/Projetos/Despesas Passagens PROPLAD/Datasets/dados2017_adm.xlsx'\u001b[0m\u001b[1;33m)\u001b[0m\u001b[1;33m\u001b[0m\u001b[1;33m\u001b[0m\u001b[0m\n\u001b[0;32m      3\u001b[0m \u001b[0mdados2018\u001b[0m\u001b[1;33m=\u001b[0m\u001b[0mpd\u001b[0m\u001b[1;33m.\u001b[0m\u001b[0mread_excel\u001b[0m\u001b[1;33m(\u001b[0m\u001b[1;34m'/content/drive/My Drive/Treinamentos/Python/Projetos/Despesas Passagens PROPLAD/Datasets/dados2018.xlsx'\u001b[0m\u001b[1;33m)\u001b[0m\u001b[1;33m\u001b[0m\u001b[1;33m\u001b[0m\u001b[0m\n\u001b[0;32m      4\u001b[0m \u001b[0mdados2019\u001b[0m\u001b[1;33m=\u001b[0m\u001b[0mpd\u001b[0m\u001b[1;33m.\u001b[0m\u001b[0mread_excel\u001b[0m\u001b[1;33m(\u001b[0m\u001b[1;34m'/content/drive/My Drive/Treinamentos/Python/Projetos/Despesas Passagens PROPLAD/Datasets/dados2019.xlsx'\u001b[0m\u001b[1;33m)\u001b[0m\u001b[1;33m\u001b[0m\u001b[1;33m\u001b[0m\u001b[0m\n",
      "\u001b[1;32m~\\anaconda3\\lib\\site-packages\\pandas\\io\\excel\\_base.py\u001b[0m in \u001b[0;36mread_excel\u001b[1;34m(io, sheet_name, header, names, index_col, usecols, squeeze, dtype, engine, converters, true_values, false_values, skiprows, nrows, na_values, keep_default_na, verbose, parse_dates, date_parser, thousands, comment, skipfooter, convert_float, mangle_dupe_cols, **kwds)\u001b[0m\n\u001b[0;32m    302\u001b[0m \u001b[1;33m\u001b[0m\u001b[0m\n\u001b[0;32m    303\u001b[0m     \u001b[1;32mif\u001b[0m \u001b[1;32mnot\u001b[0m \u001b[0misinstance\u001b[0m\u001b[1;33m(\u001b[0m\u001b[0mio\u001b[0m\u001b[1;33m,\u001b[0m \u001b[0mExcelFile\u001b[0m\u001b[1;33m)\u001b[0m\u001b[1;33m:\u001b[0m\u001b[1;33m\u001b[0m\u001b[1;33m\u001b[0m\u001b[0m\n\u001b[1;32m--> 304\u001b[1;33m         \u001b[0mio\u001b[0m \u001b[1;33m=\u001b[0m \u001b[0mExcelFile\u001b[0m\u001b[1;33m(\u001b[0m\u001b[0mio\u001b[0m\u001b[1;33m,\u001b[0m \u001b[0mengine\u001b[0m\u001b[1;33m=\u001b[0m\u001b[0mengine\u001b[0m\u001b[1;33m)\u001b[0m\u001b[1;33m\u001b[0m\u001b[1;33m\u001b[0m\u001b[0m\n\u001b[0m\u001b[0;32m    305\u001b[0m     \u001b[1;32melif\u001b[0m \u001b[0mengine\u001b[0m \u001b[1;32mand\u001b[0m \u001b[0mengine\u001b[0m \u001b[1;33m!=\u001b[0m \u001b[0mio\u001b[0m\u001b[1;33m.\u001b[0m\u001b[0mengine\u001b[0m\u001b[1;33m:\u001b[0m\u001b[1;33m\u001b[0m\u001b[1;33m\u001b[0m\u001b[0m\n\u001b[0;32m    306\u001b[0m         raise ValueError(\n",
      "\u001b[1;32m~\\anaconda3\\lib\\site-packages\\pandas\\io\\excel\\_base.py\u001b[0m in \u001b[0;36m__init__\u001b[1;34m(self, io, engine)\u001b[0m\n\u001b[0;32m    822\u001b[0m         \u001b[0mself\u001b[0m\u001b[1;33m.\u001b[0m\u001b[0m_io\u001b[0m \u001b[1;33m=\u001b[0m \u001b[0mstringify_path\u001b[0m\u001b[1;33m(\u001b[0m\u001b[0mio\u001b[0m\u001b[1;33m)\u001b[0m\u001b[1;33m\u001b[0m\u001b[1;33m\u001b[0m\u001b[0m\n\u001b[0;32m    823\u001b[0m \u001b[1;33m\u001b[0m\u001b[0m\n\u001b[1;32m--> 824\u001b[1;33m         \u001b[0mself\u001b[0m\u001b[1;33m.\u001b[0m\u001b[0m_reader\u001b[0m \u001b[1;33m=\u001b[0m \u001b[0mself\u001b[0m\u001b[1;33m.\u001b[0m\u001b[0m_engines\u001b[0m\u001b[1;33m[\u001b[0m\u001b[0mengine\u001b[0m\u001b[1;33m]\u001b[0m\u001b[1;33m(\u001b[0m\u001b[0mself\u001b[0m\u001b[1;33m.\u001b[0m\u001b[0m_io\u001b[0m\u001b[1;33m)\u001b[0m\u001b[1;33m\u001b[0m\u001b[1;33m\u001b[0m\u001b[0m\n\u001b[0m\u001b[0;32m    825\u001b[0m \u001b[1;33m\u001b[0m\u001b[0m\n\u001b[0;32m    826\u001b[0m     \u001b[1;32mdef\u001b[0m \u001b[0m__fspath__\u001b[0m\u001b[1;33m(\u001b[0m\u001b[0mself\u001b[0m\u001b[1;33m)\u001b[0m\u001b[1;33m:\u001b[0m\u001b[1;33m\u001b[0m\u001b[1;33m\u001b[0m\u001b[0m\n",
      "\u001b[1;32m~\\anaconda3\\lib\\site-packages\\pandas\\io\\excel\\_xlrd.py\u001b[0m in \u001b[0;36m__init__\u001b[1;34m(self, filepath_or_buffer)\u001b[0m\n\u001b[0;32m     19\u001b[0m         \u001b[0merr_msg\u001b[0m \u001b[1;33m=\u001b[0m \u001b[1;34m\"Install xlrd >= 1.0.0 for Excel support\"\u001b[0m\u001b[1;33m\u001b[0m\u001b[1;33m\u001b[0m\u001b[0m\n\u001b[0;32m     20\u001b[0m         \u001b[0mimport_optional_dependency\u001b[0m\u001b[1;33m(\u001b[0m\u001b[1;34m\"xlrd\"\u001b[0m\u001b[1;33m,\u001b[0m \u001b[0mextra\u001b[0m\u001b[1;33m=\u001b[0m\u001b[0merr_msg\u001b[0m\u001b[1;33m)\u001b[0m\u001b[1;33m\u001b[0m\u001b[1;33m\u001b[0m\u001b[0m\n\u001b[1;32m---> 21\u001b[1;33m         \u001b[0msuper\u001b[0m\u001b[1;33m(\u001b[0m\u001b[1;33m)\u001b[0m\u001b[1;33m.\u001b[0m\u001b[0m__init__\u001b[0m\u001b[1;33m(\u001b[0m\u001b[0mfilepath_or_buffer\u001b[0m\u001b[1;33m)\u001b[0m\u001b[1;33m\u001b[0m\u001b[1;33m\u001b[0m\u001b[0m\n\u001b[0m\u001b[0;32m     22\u001b[0m \u001b[1;33m\u001b[0m\u001b[0m\n\u001b[0;32m     23\u001b[0m     \u001b[1;33m@\u001b[0m\u001b[0mproperty\u001b[0m\u001b[1;33m\u001b[0m\u001b[1;33m\u001b[0m\u001b[0m\n",
      "\u001b[1;32m~\\anaconda3\\lib\\site-packages\\pandas\\io\\excel\\_base.py\u001b[0m in \u001b[0;36m__init__\u001b[1;34m(self, filepath_or_buffer)\u001b[0m\n\u001b[0;32m    351\u001b[0m             \u001b[0mself\u001b[0m\u001b[1;33m.\u001b[0m\u001b[0mbook\u001b[0m \u001b[1;33m=\u001b[0m \u001b[0mself\u001b[0m\u001b[1;33m.\u001b[0m\u001b[0mload_workbook\u001b[0m\u001b[1;33m(\u001b[0m\u001b[0mfilepath_or_buffer\u001b[0m\u001b[1;33m)\u001b[0m\u001b[1;33m\u001b[0m\u001b[1;33m\u001b[0m\u001b[0m\n\u001b[0;32m    352\u001b[0m         \u001b[1;32melif\u001b[0m \u001b[0misinstance\u001b[0m\u001b[1;33m(\u001b[0m\u001b[0mfilepath_or_buffer\u001b[0m\u001b[1;33m,\u001b[0m \u001b[0mstr\u001b[0m\u001b[1;33m)\u001b[0m\u001b[1;33m:\u001b[0m\u001b[1;33m\u001b[0m\u001b[1;33m\u001b[0m\u001b[0m\n\u001b[1;32m--> 353\u001b[1;33m             \u001b[0mself\u001b[0m\u001b[1;33m.\u001b[0m\u001b[0mbook\u001b[0m \u001b[1;33m=\u001b[0m \u001b[0mself\u001b[0m\u001b[1;33m.\u001b[0m\u001b[0mload_workbook\u001b[0m\u001b[1;33m(\u001b[0m\u001b[0mfilepath_or_buffer\u001b[0m\u001b[1;33m)\u001b[0m\u001b[1;33m\u001b[0m\u001b[1;33m\u001b[0m\u001b[0m\n\u001b[0m\u001b[0;32m    354\u001b[0m         \u001b[1;32melif\u001b[0m \u001b[0misinstance\u001b[0m\u001b[1;33m(\u001b[0m\u001b[0mfilepath_or_buffer\u001b[0m\u001b[1;33m,\u001b[0m \u001b[0mbytes\u001b[0m\u001b[1;33m)\u001b[0m\u001b[1;33m:\u001b[0m\u001b[1;33m\u001b[0m\u001b[1;33m\u001b[0m\u001b[0m\n\u001b[0;32m    355\u001b[0m             \u001b[0mself\u001b[0m\u001b[1;33m.\u001b[0m\u001b[0mbook\u001b[0m \u001b[1;33m=\u001b[0m \u001b[0mself\u001b[0m\u001b[1;33m.\u001b[0m\u001b[0mload_workbook\u001b[0m\u001b[1;33m(\u001b[0m\u001b[0mBytesIO\u001b[0m\u001b[1;33m(\u001b[0m\u001b[0mfilepath_or_buffer\u001b[0m\u001b[1;33m)\u001b[0m\u001b[1;33m)\u001b[0m\u001b[1;33m\u001b[0m\u001b[1;33m\u001b[0m\u001b[0m\n",
      "\u001b[1;32m~\\anaconda3\\lib\\site-packages\\pandas\\io\\excel\\_xlrd.py\u001b[0m in \u001b[0;36mload_workbook\u001b[1;34m(self, filepath_or_buffer)\u001b[0m\n\u001b[0;32m     34\u001b[0m             \u001b[1;32mreturn\u001b[0m \u001b[0mopen_workbook\u001b[0m\u001b[1;33m(\u001b[0m\u001b[0mfile_contents\u001b[0m\u001b[1;33m=\u001b[0m\u001b[0mdata\u001b[0m\u001b[1;33m)\u001b[0m\u001b[1;33m\u001b[0m\u001b[1;33m\u001b[0m\u001b[0m\n\u001b[0;32m     35\u001b[0m         \u001b[1;32melse\u001b[0m\u001b[1;33m:\u001b[0m\u001b[1;33m\u001b[0m\u001b[1;33m\u001b[0m\u001b[0m\n\u001b[1;32m---> 36\u001b[1;33m             \u001b[1;32mreturn\u001b[0m \u001b[0mopen_workbook\u001b[0m\u001b[1;33m(\u001b[0m\u001b[0mfilepath_or_buffer\u001b[0m\u001b[1;33m)\u001b[0m\u001b[1;33m\u001b[0m\u001b[1;33m\u001b[0m\u001b[0m\n\u001b[0m\u001b[0;32m     37\u001b[0m \u001b[1;33m\u001b[0m\u001b[0m\n\u001b[0;32m     38\u001b[0m     \u001b[1;33m@\u001b[0m\u001b[0mproperty\u001b[0m\u001b[1;33m\u001b[0m\u001b[1;33m\u001b[0m\u001b[0m\n",
      "\u001b[1;32m~\\anaconda3\\lib\\site-packages\\xlrd\\__init__.py\u001b[0m in \u001b[0;36mopen_workbook\u001b[1;34m(filename, logfile, verbosity, use_mmap, file_contents, encoding_override, formatting_info, on_demand, ragged_rows)\u001b[0m\n\u001b[0;32m    109\u001b[0m     \u001b[1;32melse\u001b[0m\u001b[1;33m:\u001b[0m\u001b[1;33m\u001b[0m\u001b[1;33m\u001b[0m\u001b[0m\n\u001b[0;32m    110\u001b[0m         \u001b[0mfilename\u001b[0m \u001b[1;33m=\u001b[0m \u001b[0mos\u001b[0m\u001b[1;33m.\u001b[0m\u001b[0mpath\u001b[0m\u001b[1;33m.\u001b[0m\u001b[0mexpanduser\u001b[0m\u001b[1;33m(\u001b[0m\u001b[0mfilename\u001b[0m\u001b[1;33m)\u001b[0m\u001b[1;33m\u001b[0m\u001b[1;33m\u001b[0m\u001b[0m\n\u001b[1;32m--> 111\u001b[1;33m         \u001b[1;32mwith\u001b[0m \u001b[0mopen\u001b[0m\u001b[1;33m(\u001b[0m\u001b[0mfilename\u001b[0m\u001b[1;33m,\u001b[0m \u001b[1;34m\"rb\"\u001b[0m\u001b[1;33m)\u001b[0m \u001b[1;32mas\u001b[0m \u001b[0mf\u001b[0m\u001b[1;33m:\u001b[0m\u001b[1;33m\u001b[0m\u001b[1;33m\u001b[0m\u001b[0m\n\u001b[0m\u001b[0;32m    112\u001b[0m             \u001b[0mpeek\u001b[0m \u001b[1;33m=\u001b[0m \u001b[0mf\u001b[0m\u001b[1;33m.\u001b[0m\u001b[0mread\u001b[0m\u001b[1;33m(\u001b[0m\u001b[0mpeeksz\u001b[0m\u001b[1;33m)\u001b[0m\u001b[1;33m\u001b[0m\u001b[1;33m\u001b[0m\u001b[0m\n\u001b[0;32m    113\u001b[0m     \u001b[1;32mif\u001b[0m \u001b[0mpeek\u001b[0m \u001b[1;33m==\u001b[0m \u001b[1;34mb\"PK\\x03\\x04\"\u001b[0m\u001b[1;33m:\u001b[0m \u001b[1;31m# a ZIP file\u001b[0m\u001b[1;33m\u001b[0m\u001b[1;33m\u001b[0m\u001b[0m\n",
      "\u001b[1;31mFileNotFoundError\u001b[0m: [Errno 2] No such file or directory: '/content/drive/My Drive/Treinamentos/Python/Projetos/Despesas Passagens PROPLAD/Datasets/dados2017_acd.xlsx'"
     ]
    }
   ],
   "source": [
    "dados2017acd=pd.read_excel('/content/drive/My Drive/Treinamentos/Python/Projetos/Despesas Passagens PROPLAD/Datasets/dados2017_acd.xlsx')\n",
    "dados2017adm=pd.read_excel('/content/drive/My Drive/Treinamentos/Python/Projetos/Despesas Passagens PROPLAD/Datasets/dados2017_adm.xlsx')\n",
    "dados2018=pd.read_excel('/content/drive/My Drive/Treinamentos/Python/Projetos/Despesas Passagens PROPLAD/Datasets/dados2018.xlsx')\n",
    "dados2019=pd.read_excel('/content/drive/My Drive/Treinamentos/Python/Projetos/Despesas Passagens PROPLAD/Datasets/dados2019.xlsx')"
   ]
  },
  {
   "cell_type": "code",
   "execution_count": null,
   "metadata": {
    "id": "d9JjQsteR_S4"
   },
   "outputs": [],
   "source": [
    "dados2017acd.columns=['Orgao_Solicitante', 'Nome_viajante', 'Numero_PCDP','Data_Solicitacao', 'Data_Inicio', 'Vr_Diaria','Vr_Passagem', 'Vr_Viagem']\n",
    "dados2017adm.columns=['Orgao_Solicitante', 'Nome_viajante', 'Numero_PCDP','Data_Solicitacao', 'Data_Inicio', 'Vr_Diaria','Vr_Passagem', 'Vr_Viagem']\n",
    "dados2018.columns=['Orgao_Solicitante', 'Nome_viajante', 'Numero_PCDP','Data_Solicitacao', 'Data_Inicio', 'Vr_Diaria','Vr_Passagem', 'Vr_Viagem']\n",
    "dados2019.columns=['Orgao_Solicitante', 'Nome_viajante', 'Numero_PCDP','Data_Solicitacao', 'Data_Inicio', 'Vr_Diaria','Vr_Passagem', 'Vr_Viagem']"
   ]
  },
  {
   "cell_type": "code",
   "execution_count": null,
   "metadata": {
    "colab": {
     "base_uri": "https://localhost:8080/",
     "height": 294
    },
    "id": "sSnp1gd1oO0f",
    "outputId": "bb3d637b-d123-40b4-967e-cbd59da97c53"
   },
   "outputs": [],
   "source": [
    "dados2017acd.info()"
   ]
  },
  {
   "cell_type": "code",
   "execution_count": null,
   "metadata": {
    "colab": {
     "base_uri": "https://localhost:8080/",
     "height": 206
    },
    "id": "j5ezLziv9HV_",
    "outputId": "ed6e7b8b-c039-467d-d26a-b351313c8b96"
   },
   "outputs": [],
   "source": [
    "dados2017acd.head()"
   ]
  },
  {
   "cell_type": "code",
   "execution_count": null,
   "metadata": {
    "colab": {
     "base_uri": "https://localhost:8080/",
     "height": 608
    },
    "id": "24GFpzm1_yCu",
    "outputId": "94caf089-9a99-41d9-e697-8f2a1d67e2ae"
   },
   "outputs": [],
   "source": [
    "dados2017acd.Orgao_Solicitante.value_counts()"
   ]
  },
  {
   "cell_type": "markdown",
   "metadata": {
    "id": "pw--MZI2hz6e"
   },
   "source": [
    "Transforma textos em Title"
   ]
  },
  {
   "cell_type": "code",
   "execution_count": null,
   "metadata": {
    "colab": {
     "base_uri": "https://localhost:8080/",
     "height": 202
    },
    "id": "25elhagAhnEG",
    "outputId": "e38f1f55-de83-4604-d721-4d923f8998ba"
   },
   "outputs": [],
   "source": [
    "for i in range(0,len(dados2017acd)):\n",
    "  dados2017acd.Nome_viajante[i]=dados2017acd.Nome_viajante[i].upper()\n",
    "  dados2017acd.Orgao_Solicitante[i]=dados2017acd.Orgao_Solicitante[i].upper()"
   ]
  },
  {
   "cell_type": "markdown",
   "metadata": {
    "id": "Je7Y_OUpi9bX"
   },
   "source": [
    "Corrige encoding e acentuações"
   ]
  },
  {
   "cell_type": "code",
   "execution_count": null,
   "metadata": {
    "colab": {
     "base_uri": "https://localhost:8080/",
     "height": 608
    },
    "id": "_QBLrL-lidQ6",
    "outputId": "dee81f53-8b9a-4416-d8ea-bcce58aa1d99"
   },
   "outputs": [],
   "source": [
    "dados2017acd.Orgao_Solicitante.value_counts()"
   ]
  },
  {
   "cell_type": "markdown",
   "metadata": {
    "id": "r8JEGG3i8GSN"
   },
   "source": [
    "# **ATENÇÃO: TESTE RÁPIDO**"
   ]
  },
  {
   "cell_type": "code",
   "execution_count": null,
   "metadata": {
    "colab": {
     "base_uri": "https://localhost:8080/",
     "height": 36
    },
    "id": "lp9cjWO87kfE",
    "outputId": "def7c569-837a-4c08-e088-45ff9dac2edd"
   },
   "outputs": [],
   "source": [
    "dados2017acd.iloc[16,0]"
   ]
  },
  {
   "cell_type": "code",
   "execution_count": null,
   "metadata": {
    "colab": {
     "base_uri": "https://localhost:8080/",
     "height": 35
    },
    "id": "mKOL7BOf7sWL",
    "outputId": "949a2d0e-33b4-4848-80ac-c042b3ada723"
   },
   "outputs": [],
   "source": [
    "dados2017acd.iloc[5,0].split()"
   ]
  },
  {
   "cell_type": "code",
   "execution_count": null,
   "metadata": {
    "id": "AjYQDjunNlb8"
   },
   "outputs": [],
   "source": [
    "dados2017acd.reset_index(drop=True, inplace=True)"
   ]
  },
  {
   "cell_type": "code",
   "execution_count": null,
   "metadata": {
    "colab": {
     "base_uri": "https://localhost:8080/",
     "height": 294
    },
    "id": "9su2ymk0jesd",
    "outputId": "72f6323c-70f7-4f8f-8ad6-19336045d949"
   },
   "outputs": [],
   "source": [
    "# Alterar:\n",
    "# EDUCACAO, DIST?NCIA, CIENCIAS, JOAO, NUTRICAO, CLINICA, CIENCIAS, COMPUTACAO, QUIMICA, CIENCIAS\n",
    "# FARM˜CIA, DEPARTAMENTO DE ENGENHARIA DE CONTROLE E AUTOMACAO E E FUNDAMENTAIS, INSTITUTO DE CIENCIAS SOCIAIS MARIANA - CAMPUS II,\n",
    "# METAL?RGICA, HISTORIA, PRODUCAO,ADMINISTRACAO, MATEM˜TICA, MATEMATICA\n",
    "# Tentar com uma lista\n",
    "# LÓGICA: SE alguma das palavras que está no dado \"dados2017acd.Orgao_Solicitante\" na posição \"i\" se encontram em alguma destas palavras... \n",
    "# ...da lista \"corrige\" ENTÃO substitui-se a palavra que está em  \"dados2017acd.Orgao_Solicitante\" na posição \"i\" pela que está em \"corrige\"\n",
    "# Resumindo, compara-se duas listas e vê se termos de uma se encontram em termos d\n",
    "# tira '?' de metalúrgica e distância - fatiar strings\n",
    "for i in range(0,len(dados2017acd)):\n",
    "  if dados2017acd.Orgao_Solicitante[i] == 'CENTRO DE EDUCACAO ABERTA E A DIST?NCIA':\n",
    "    dados2017acd.Orgao_Solicitante[i]=dados2017acd.Orgao_Solicitante[i].replace('?','Â')\n",
    "  if dados2017acd.Orgao_Solicitante[i] == 'DEPARTAMENTO DE ENGENHARIA METAL?RGICA E DE MATERIAIS':\n",
    "    dados2017acd.Orgao_Solicitante[i]=dados2017acd.Orgao_Solicitante[i].replace('?','Ú')\n",
    "  if dados2017acd.Orgao_Solicitante[i]== 'DEPARTAMENTO DE ENGENHARIA DE CONTROLE E AUTOMACAO E E FUNDAMENTAIS':\n",
    "    dados2017acd.Orgao_Solicitante[i]='DEPARTAMENTO DE ENGENHARIA DE CONTROLE E AUTOMAÇÃO'\n",
    "\n",
    "dados2017acd.Orgao_Solicitante.replace({'EDUCACAO':'EDUCAÇÃO','CIENCIAS':'CIÊNCIAS','JOAO':'JOÃO','NUTRICAO':'NUTRIÇÃO','CLINICA':'CLÍNICA','CIENCIAS':'CIÊNCIAS',\n",
    "                      'COMPUTACAO':'COMPUTAÇÃO','QUIMICA':'QUÍMICA','FARM˜CIA':'FARMÁCIA','HISTORIA':'HISTÓRIA','PRODUCAO':'PRODUÇÃO',\n",
    "                      'ADMINISTRACAO':'ADMINISTRAÇÃO','MATEM˜TICA':'MATEMÁTICA','MATEMATICA':'MATEMÁTICA'}, regex=True, inplace=True)"
   ]
  },
  {
   "cell_type": "code",
   "execution_count": null,
   "metadata": {
    "colab": {
     "base_uri": "https://localhost:8080/",
     "height": 589
    },
    "id": "NA7WintCVIQA",
    "outputId": "94f42a5f-d82a-41b1-dfa0-feee469539fa"
   },
   "outputs": [],
   "source": [
    "dados2017acd.Orgao_Solicitante.value_counts()"
   ]
  },
  {
   "cell_type": "code",
   "execution_count": null,
   "metadata": {
    "colab": {
     "base_uri": "https://localhost:8080/",
     "height": 294
    },
    "id": "ZHofqUI9dv5M",
    "outputId": "d164312a-ea5e-47ec-f594-c200f6d13405"
   },
   "outputs": [],
   "source": [
    "dados2017acd.info()"
   ]
  },
  {
   "cell_type": "markdown",
   "metadata": {
    "id": "VjcXyxrtd2xw"
   },
   "source": [
    "Dados 2017 acadêmicos - OK\n",
    "\n",
    "Limpar dados2017adm"
   ]
  },
  {
   "cell_type": "code",
   "execution_count": null,
   "metadata": {
    "colab": {
     "base_uri": "https://localhost:8080/",
     "height": 206
    },
    "id": "GxGCmZHkd2EP",
    "outputId": "daab255d-97be-43a0-91f3-eef14bc39bba"
   },
   "outputs": [],
   "source": [
    "dados2017adm.head()"
   ]
  },
  {
   "cell_type": "code",
   "execution_count": null,
   "metadata": {
    "colab": {
     "base_uri": "https://localhost:8080/",
     "height": 294
    },
    "id": "wtM6EjbLeRGk",
    "outputId": "7beb13da-9846-454b-ef69-46fc98100452"
   },
   "outputs": [],
   "source": [
    "dados2017adm.info()"
   ]
  },
  {
   "cell_type": "code",
   "execution_count": null,
   "metadata": {
    "colab": {
     "base_uri": "https://localhost:8080/",
     "height": 109
    },
    "id": "ysPU_wcFeppS",
    "outputId": "5099d967-f2d7-47e3-f431-a1df68368bc7"
   },
   "outputs": [],
   "source": [
    "# Transforma Orgao Solicitante em upper()\n",
    "for i in range(0,len(dados2017adm)):\n",
    "  dados2017adm.Orgao_Solicitante[i]=dados2017adm.Orgao_Solicitante[i].upper()"
   ]
  },
  {
   "cell_type": "code",
   "execution_count": null,
   "metadata": {
    "colab": {
     "base_uri": "https://localhost:8080/",
     "height": 774
    },
    "id": "G_LWCTqChJWj",
    "outputId": "0db5f903-a4b5-497e-c6dc-49c1f7cf1dfe"
   },
   "outputs": [],
   "source": [
    "dados2017adm.Orgao_Solicitante.value_counts()"
   ]
  },
  {
   "cell_type": "code",
   "execution_count": null,
   "metadata": {
    "id": "5M-cb_n0fPpH"
   },
   "outputs": [],
   "source": [
    "# Corrige textos\n",
    "# encoding? Não\n",
    "# Acentuação? sim\n",
    "# DIVISAO, GESTAO, GRADUACAO,COORDENACAO, UNIVERSITARIA, FARMACIA, EXTENSAO, NUCLEO, INFORMACAO, ORCAMENTO, FINANCAS,\n",
    "# MINERACAO, COMUNICACAO, COMUNITARIOS, CIENCIAS, COMPUTACAO, CENICAS, ADMINISTRACAO, ORGAOS, HISTORIA, QUIMICA,\n",
    "# EDUCACAO, MATEMATICA, JURIDICA, FISICA, SAUDE, NUTRICAO\n",
    "dados2017adm.Orgao_Solicitante.replace({'DIVISAO':'DIVISÃO', 'GESTAO':'GESTÃO', 'GRADUACAO':'GRADUAÇÃO', 'COORDENACAO':'COORDENAÇÃO', \n",
    "                                        'UNIVERSITARIA':'UNIVERSITÁRIA', 'FARMACIA':'FARMÁCIA', 'EXTENSAO':'EXTENSÃO', 'NUCLEO':'NÚCLEO', \n",
    "                                        'INFORMACAO':'INFORMAÇÃO', 'ORCAMENTO':'ORÇAMENTO', 'FINANCAS':'FINANÇAS', 'MINERACAO':'MINERAÇÃO', \n",
    "                                        'COMUNICACAO':'COMUNICAÇÃO', 'COMUNITARIOS':'COMUNITÁRIOS', 'CIENCIAS':'CIÊNCIAS', 'COMPUTACAO':'COMPUTAÇÃO', \n",
    "                                        'CENICAS':'CÊNICAS', 'ADMINISTRACAO':'ADMINISTRAÇÃO', 'ORGAOS':'ORGÃOS', 'HISTORIA':'HISTÓRIA', \n",
    "                                        'QUIMICA':'QUÍMICA', 'EDUCACAO':'EDUCAÇÃO', 'MATEMATICA':'MATEMÁTICA', 'JURIDICA':'JURÍDICA', 'FISICA':'FÍSICA', \n",
    "                                        'SAUDE':'SAÚDE', 'NUTRICAO':'NUTRIÇÃO'}, regex=True, inplace=True)"
   ]
  },
  {
   "cell_type": "code",
   "execution_count": null,
   "metadata": {
    "colab": {
     "base_uri": "https://localhost:8080/",
     "height": 774
    },
    "id": "mHV0xWtQnZCv",
    "outputId": "fa5b147d-c4c2-4a36-c8a5-972cb6474cc0"
   },
   "outputs": [],
   "source": [
    "dados2017adm.Orgao_Solicitante.value_counts()"
   ]
  },
  {
   "cell_type": "markdown",
   "metadata": {
    "id": "BOSSTnS3oahg"
   },
   "source": [
    "dados2017adm - OK\n",
    "\n",
    "dados2018"
   ]
  },
  {
   "cell_type": "code",
   "execution_count": null,
   "metadata": {
    "colab": {
     "base_uri": "https://localhost:8080/",
     "height": 206
    },
    "id": "a9lC4XKPno7d",
    "outputId": "140a2f56-2112-4480-e5f0-76f1ce7c8984"
   },
   "outputs": [],
   "source": [
    "dados2018.head()"
   ]
  },
  {
   "cell_type": "code",
   "execution_count": null,
   "metadata": {
    "colab": {
     "base_uri": "https://localhost:8080/",
     "height": 294
    },
    "id": "NhizwBblokRv",
    "outputId": "81930010-21b2-4bb9-8546-3c394c116bdb"
   },
   "outputs": [],
   "source": [
    "dados2018.info()"
   ]
  },
  {
   "cell_type": "code",
   "execution_count": null,
   "metadata": {
    "colab": {
     "base_uri": "https://localhost:8080/",
     "height": 257
    },
    "id": "B4FN0_o6os8A",
    "outputId": "f04afc17-bcd4-413a-dd48-be4fbb651f96"
   },
   "outputs": [],
   "source": [
    "dados2018.Orgao_Solicitante.value_counts()"
   ]
  },
  {
   "cell_type": "markdown",
   "metadata": {
    "id": "ZrLeYFZrpLlO"
   },
   "source": [
    "dados2018 - OK\n",
    "\n",
    "dados2019"
   ]
  },
  {
   "cell_type": "code",
   "execution_count": null,
   "metadata": {
    "colab": {
     "base_uri": "https://localhost:8080/",
     "height": 206
    },
    "id": "lrApHoCxpH3b",
    "outputId": "1791abe9-6e59-451c-beb7-ef912db545f9"
   },
   "outputs": [],
   "source": [
    "dados2019.head()"
   ]
  },
  {
   "cell_type": "code",
   "execution_count": null,
   "metadata": {
    "colab": {
     "base_uri": "https://localhost:8080/",
     "height": 294
    },
    "id": "rrIN1UAYphsc",
    "outputId": "2963babb-78b7-4025-de7d-da98f68a01d1"
   },
   "outputs": [],
   "source": [
    "dados2019.info()"
   ]
  },
  {
   "cell_type": "code",
   "execution_count": null,
   "metadata": {
    "colab": {
     "base_uri": "https://localhost:8080/",
     "height": 257
    },
    "id": "-mbkG6Jlpp4M",
    "outputId": "4d6b31aa-13d3-4b6f-cbce-e4bd1b250ef7"
   },
   "outputs": [],
   "source": [
    "dados2019.Orgao_Solicitante.value_counts()"
   ]
  },
  {
   "cell_type": "markdown",
   "metadata": {
    "id": "eVTffZaFqvM-"
   },
   "source": [
    "Concatena dados 2017, 2018, 2019"
   ]
  },
  {
   "cell_type": "code",
   "execution_count": null,
   "metadata": {
    "colab": {
     "base_uri": "https://localhost:8080/",
     "height": 597
    },
    "id": "6s7sh-Cfp8ex",
    "outputId": "b1b82cb6-a589-4dc9-a2bd-ae6dc0a01d47"
   },
   "outputs": [],
   "source": [
    "df=pd.concat([dados2017acd,dados2017adm,dados2018,dados2019], axis=0, ignore_index=True)\n",
    "df"
   ]
  },
  {
   "cell_type": "code",
   "execution_count": null,
   "metadata": {
    "colab": {
     "base_uri": "https://localhost:8080/",
     "height": 239
    },
    "id": "n2Zzxzp2r7gP",
    "outputId": "a31c2e24-72a1-4be3-a0d1-4f32860a49c3"
   },
   "outputs": [],
   "source": [
    "df.Orgao_Solicitante.value_counts()"
   ]
  },
  {
   "cell_type": "markdown",
   "metadata": {
    "id": "l4GfTjTkuH4n"
   },
   "source": [
    "6 . Conferindo congruência entre contas: ver se as somas de diária + passagem conferem com valor total da viagem"
   ]
  },
  {
   "cell_type": "code",
   "execution_count": 1,
   "metadata": {
    "colab": {
     "base_uri": "https://localhost:8080/",
     "height": 109
    },
    "collapsed": true,
    "id": "JpKp2KHBtpTp",
    "outputId": "bcc48cc3-4827-4b86-c54c-0cc4ef2da968"
   },
   "outputs": [
    {
     "ename": "NameError",
     "evalue": "name 'np' is not defined",
     "output_type": "error",
     "traceback": [
      "\u001b[1;31m---------------------------------------------------------------------------\u001b[0m",
      "\u001b[1;31mNameError\u001b[0m                                 Traceback (most recent call last)",
      "\u001b[1;32m<ipython-input-1-2139b513a8eb>\u001b[0m in \u001b[0;36m<module>\u001b[1;34m\u001b[0m\n\u001b[1;32m----> 1\u001b[1;33m \u001b[0mdf\u001b[0m\u001b[1;33m[\u001b[0m\u001b[1;34m'Vr_Viagem'\u001b[0m\u001b[1;33m]\u001b[0m\u001b[1;33m=\u001b[0m\u001b[0mnp\u001b[0m\u001b[1;33m.\u001b[0m\u001b[0mNaN\u001b[0m\u001b[1;33m\u001b[0m\u001b[1;33m\u001b[0m\u001b[0m\n\u001b[0m",
      "\u001b[1;31mNameError\u001b[0m: name 'np' is not defined"
     ]
    }
   ],
   "source": [
    "df['Vr_Viagem']=np.NaN"
   ]
  },
  {
   "cell_type": "code",
   "execution_count": null,
   "metadata": {},
   "outputs": [],
   "source": [
    "df.Vr_Viagem = df.Vr_Diaria + df.Vr_Passagem"
   ]
  },
  {
   "cell_type": "markdown",
   "metadata": {
    "id": "qTXsqT9cuuP1"
   },
   "source": [
    "7. Trata dados faltantes"
   ]
  },
  {
   "cell_type": "code",
   "execution_count": null,
   "metadata": {
    "colab": {
     "base_uri": "https://localhost:8080/",
     "height": 294
    },
    "id": "CauEKOlpusdP",
    "outputId": "9b989bbf-a552-47c2-e23e-8914d835745d"
   },
   "outputs": [],
   "source": [
    "df.info()"
   ]
  },
  {
   "cell_type": "markdown",
   "metadata": {
    "id": "3_Xsc-cqu2nn"
   },
   "source": [
    "Há 2 dados faltantes em cada Vr. Diária, Vr. Passagem e Vr. Viagem, logo, a hipótese aqui é que há pessoas registradas sem NENHUM dado da viagem. Averiguando:"
   ]
  },
  {
   "cell_type": "code",
   "execution_count": null,
   "metadata": {
    "id": "dLIzKXYZu1yE"
   },
   "outputs": [],
   "source": [
    "falta_viagens=df[(df.Vr_Diaria.isnull()) | (df.Vr_Passagem.isnull()) | (df.Vr_Viagem.isnull())]"
   ]
  },
  {
   "cell_type": "markdown",
   "metadata": {
    "id": "lmUd8JAMv6sb"
   },
   "source": [
    "Hipótese confirmada, há 2 pessoas com registro porém se NENHUM dado dos custos de suas viagens. \n",
    "\n",
    "1. Extraír esses dados e enviar a PROPLAD para confirmação do órgão ou para uma possível auditoria\n",
    "2. Analisar se vale a pena tratar os dados faltantes ou apenas excluí-los"
   ]
  },
  {
   "cell_type": "code",
   "execution_count": null,
   "metadata": {
    "id": "dc8AEnOXv56V"
   },
   "outputs": [],
   "source": [
    "# salva solicitantes em branco com gastos em branco\n",
    "falta_viagens.to_excel('Falta_gastos.xlsx', sheet_name='Sheet_1', index=False)"
   ]
  },
  {
   "cell_type": "code",
   "execution_count": null,
   "metadata": {
    "colab": {
     "base_uri": "https://localhost:8080/",
     "height": 35
    },
    "id": "CAqkfUDnyM9X",
    "outputId": "1411e02c-dcb7-4d65-8575-5b16651cec87"
   },
   "outputs": [],
   "source": [
    "(2/(len(df)-2))*100"
   ]
  },
  {
   "cell_type": "markdown",
   "metadata": {
    "id": "mhE4SOB5yheO"
   },
   "source": [
    "0,03% de Solicitantes com dados faltantes, quantidade insignificante, portanto exclui-se estes dados dos demais.\n"
   ]
  },
  {
   "cell_type": "code",
   "execution_count": null,
   "metadata": {
    "colab": {
     "base_uri": "https://localhost:8080/",
     "height": 35
    },
    "id": "WVRRsajA1SkM",
    "outputId": "9344b6e7-9075-4b74-9b12-b31b68d5167d"
   },
   "outputs": [],
   "source": [
    "falta_viagens.index"
   ]
  },
  {
   "cell_type": "code",
   "execution_count": null,
   "metadata": {
    "id": "RdFGue6m1Yb-"
   },
   "outputs": [],
   "source": [
    "df.drop([1197,1205],axis=0,inplace=True)"
   ]
  },
  {
   "cell_type": "code",
   "execution_count": null,
   "metadata": {
    "id": "1A25hvcN1ndZ"
   },
   "outputs": [],
   "source": [
    "df.reset_index(drop=True, inplace=True)"
   ]
  },
  {
   "cell_type": "markdown",
   "metadata": {
    "id": "m3Jl2d3F1w1j"
   },
   "source": [
    "Dados preparados para criação de métricas"
   ]
  },
  {
   "cell_type": "code",
   "execution_count": null,
   "metadata": {
    "colab": {
     "base_uri": "https://localhost:8080/",
     "height": 294
    },
    "id": "l8tP13mD1shE",
    "outputId": "4d9c816c-76eb-478b-b067-1657064b1d39"
   },
   "outputs": [],
   "source": [
    "df.info()"
   ]
  },
  {
   "cell_type": "markdown",
   "metadata": {
    "id": "Yqg_H1caA-rk"
   },
   "source": [
    "Exporta dados para a próxima etapa: Análise exploratória dos dados ou insights em Power B.I.\n"
   ]
  },
  {
   "cell_type": "code",
   "execution_count": null,
   "metadata": {
    "id": "ejhhfsHDA9y6"
   },
   "outputs": [],
   "source": [
    "df.to_excel('Custos_passagem_diárias.xlsx', sheet_name='sheet_1', index=False)"
   ]
  },
  {
   "cell_type": "markdown",
   "metadata": {
    "id": "BLKk61_7-cnJ"
   },
   "source": [
    "# Whole data has been cleaned up"
   ]
  },
  {
   "cell_type": "code",
   "execution_count": null,
   "metadata": {
    "colab": {
     "base_uri": "https://localhost:8080/",
     "height": 293
    },
    "id": "KFvvcasKlg81",
    "outputId": "404a68e7-ee03-454f-d3fb-311872c3edb0"
   },
   "outputs": [],
   "source": [
    "df.head()"
   ]
  }
 ],
 "metadata": {
  "colab": {
   "collapsed_sections": [],
   "name": "data_wrg.ipynb",
   "provenance": []
  },
  "kernelspec": {
   "display_name": "Python 3",
   "language": "python",
   "name": "python3"
  },
  "language_info": {
   "codemirror_mode": {
    "name": "ipython",
    "version": 3
   },
   "file_extension": ".py",
   "mimetype": "text/x-python",
   "name": "python",
   "nbconvert_exporter": "python",
   "pygments_lexer": "ipython3",
   "version": "3.8.3"
  }
 },
 "nbformat": 4,
 "nbformat_minor": 1
}
