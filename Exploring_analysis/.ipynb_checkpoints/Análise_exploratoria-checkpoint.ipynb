{
 "cells": [
  {
   "cell_type": "markdown",
   "metadata": {},
   "source": [
    "# Análise Exploratória\n",
    "Nesta etapa, os dados de custos de viagem serão analisados estatisticamente mais a fundo, aqui sairão as respostas para as seguintes perguntas relacionadas aos problemas do negócio por meio de insights."
   ]
  },
  {
   "cell_type": "code",
   "execution_count": 1,
   "metadata": {},
   "outputs": [
    {
     "data": {
      "text/html": [
       "<div>\n",
       "<style scoped>\n",
       "    .dataframe tbody tr th:only-of-type {\n",
       "        vertical-align: middle;\n",
       "    }\n",
       "\n",
       "    .dataframe tbody tr th {\n",
       "        vertical-align: top;\n",
       "    }\n",
       "\n",
       "    .dataframe thead th {\n",
       "        text-align: right;\n",
       "    }\n",
       "</style>\n",
       "<table border=\"1\" class=\"dataframe\">\n",
       "  <thead>\n",
       "    <tr style=\"text-align: right;\">\n",
       "      <th></th>\n",
       "      <th>Orgao_Solicitante</th>\n",
       "      <th>Nome_Solicitante</th>\n",
       "      <th>Numero_PCDP</th>\n",
       "      <th>Solicitacao_Viagem</th>\n",
       "      <th>Inicio_Viagem</th>\n",
       "      <th>Vr_Diaria</th>\n",
       "      <th>Vr_Passagem</th>\n",
       "      <th>Vr_Viagem</th>\n",
       "      <th>Ano</th>\n",
       "      <th>Demora</th>\n",
       "      <th>Temporada</th>\n",
       "    </tr>\n",
       "  </thead>\n",
       "  <tbody>\n",
       "    <tr>\n",
       "      <th>0</th>\n",
       "      <td>ASSESSORIA DE COMUNICAÇÃO INSTITUCIONAL</td>\n",
       "      <td>ADRIANO MEDEIROS DA ROCHA</td>\n",
       "      <td>000223/17</td>\n",
       "      <td>2017-02-10</td>\n",
       "      <td>2017-02-15</td>\n",
       "      <td>330.77</td>\n",
       "      <td>0.00</td>\n",
       "      <td>330.77</td>\n",
       "      <td>2017</td>\n",
       "      <td>5</td>\n",
       "      <td>Alta</td>\n",
       "    </tr>\n",
       "    <tr>\n",
       "      <th>1</th>\n",
       "      <td>ASSESSORIA DE COMUNICAÇÃO INSTITUCIONAL</td>\n",
       "      <td>FRANCISCO JOSE DAHER JUNIOR</td>\n",
       "      <td>001051/17</td>\n",
       "      <td>2017-05-17</td>\n",
       "      <td>2017-05-24</td>\n",
       "      <td>186.28</td>\n",
       "      <td>1288.54</td>\n",
       "      <td>1474.82</td>\n",
       "      <td>2017</td>\n",
       "      <td>7</td>\n",
       "      <td>Baixa</td>\n",
       "    </tr>\n",
       "    <tr>\n",
       "      <th>2</th>\n",
       "      <td>CENTRO DESPORTIVO</td>\n",
       "      <td>HEBER EUSTAQUIO DE PAULA</td>\n",
       "      <td>000480/17</td>\n",
       "      <td>2017-03-10</td>\n",
       "      <td>2017-03-20</td>\n",
       "      <td>12.49</td>\n",
       "      <td>0.00</td>\n",
       "      <td>12.49</td>\n",
       "      <td>2017</td>\n",
       "      <td>10</td>\n",
       "      <td>Baixa</td>\n",
       "    </tr>\n",
       "    <tr>\n",
       "      <th>3</th>\n",
       "      <td>CENTRO DESPORTIVO</td>\n",
       "      <td>HEBER EUSTAQUIO DE PAULA</td>\n",
       "      <td>001040/17</td>\n",
       "      <td>2017-05-17</td>\n",
       "      <td>2017-06-28</td>\n",
       "      <td>125.93</td>\n",
       "      <td>396.32</td>\n",
       "      <td>522.25</td>\n",
       "      <td>2017</td>\n",
       "      <td>42</td>\n",
       "      <td>Baixa</td>\n",
       "    </tr>\n",
       "    <tr>\n",
       "      <th>4</th>\n",
       "      <td>GABINETE DO REITOR</td>\n",
       "      <td>ALESSANDRA RODRIGUES KOZOVITS</td>\n",
       "      <td>001265/17</td>\n",
       "      <td>2017-06-12</td>\n",
       "      <td>2017-06-14</td>\n",
       "      <td>101.89</td>\n",
       "      <td>0.00</td>\n",
       "      <td>101.89</td>\n",
       "      <td>2017</td>\n",
       "      <td>2</td>\n",
       "      <td>Baixa</td>\n",
       "    </tr>\n",
       "  </tbody>\n",
       "</table>\n",
       "</div>"
      ],
      "text/plain": [
       "                         Orgao_Solicitante               Nome_Solicitante  \\\n",
       "0  ASSESSORIA DE COMUNICAÇÃO INSTITUCIONAL      ADRIANO MEDEIROS DA ROCHA   \n",
       "1  ASSESSORIA DE COMUNICAÇÃO INSTITUCIONAL    FRANCISCO JOSE DAHER JUNIOR   \n",
       "2                        CENTRO DESPORTIVO       HEBER EUSTAQUIO DE PAULA   \n",
       "3                        CENTRO DESPORTIVO       HEBER EUSTAQUIO DE PAULA   \n",
       "4                       GABINETE DO REITOR  ALESSANDRA RODRIGUES KOZOVITS   \n",
       "\n",
       "  Numero_PCDP Solicitacao_Viagem Inicio_Viagem  Vr_Diaria  Vr_Passagem  \\\n",
       "0   000223/17         2017-02-10    2017-02-15     330.77         0.00   \n",
       "1   001051/17         2017-05-17    2017-05-24     186.28      1288.54   \n",
       "2   000480/17         2017-03-10    2017-03-20      12.49         0.00   \n",
       "3   001040/17         2017-05-17    2017-06-28     125.93       396.32   \n",
       "4   001265/17         2017-06-12    2017-06-14     101.89         0.00   \n",
       "\n",
       "   Vr_Viagem   Ano  Demora Temporada  \n",
       "0     330.77  2017       5      Alta  \n",
       "1    1474.82  2017       7     Baixa  \n",
       "2      12.49  2017      10     Baixa  \n",
       "3     522.25  2017      42     Baixa  \n",
       "4     101.89  2017       2     Baixa  "
      ]
     },
     "execution_count": 1,
     "metadata": {},
     "output_type": "execute_result"
    }
   ],
   "source": [
    "import pandas as pd\n",
    "\n",
    "df = pd.read_excel('C:/Users/Pedro Fernandes/Desktop/Github/Traveling-Costs-Issue/Data Cleaning/Passagens_Diárias_transf.xlsx')\n",
    "df.head()"
   ]
  },
  {
   "cell_type": "markdown",
   "metadata": {},
   "source": [
    "### 1) Sobre os gastos:"
   ]
  },
  {
   "cell_type": "markdown",
   "metadata": {},
   "source": [
    "#### a) Qual órgão demandou o maior gasto em 2017? Qual o solicitante desse órgão foi o maior responsável pelo gasto?"
   ]
  },
  {
   "cell_type": "code",
   "execution_count": 2,
   "metadata": {},
   "outputs": [
    {
     "data": {
      "text/plain": [
       "DIVISÃO DE TRANSPORTES                                     532\n",
       "CENTRO DE EDUCAÇÃO ABERTA E A DISTÂNCIA                    129\n",
       "INSTITUTO DE CIÊNCIAS EXATAS E APLICADAS JOÃO MONLEVADE     63\n",
       "GABINETE DO REITOR                                          46\n",
       "ESCOLA DE MEDICINA                                          44\n",
       "                                                          ... \n",
       "DEPARTAMENTO DE ENGENHARIA METALÚRGICA E DE MATERIAIS        2\n",
       "PROGRAMA DE APOIO A POS-GRADUAÇÃO EM GEOTECNIA               1\n",
       "DEPARTAMENTO DE LETRAS                                       1\n",
       "DEPARTAMENTO DE FILOSOFIA                                    1\n",
       "DEPARTAMENTO DE MUSEOLOGIA                                   1\n",
       "Name: Orgao_Solicitante, Length: 71, dtype: int64"
      ]
     },
     "execution_count": 2,
     "metadata": {},
     "output_type": "execute_result"
    }
   ],
   "source": [
    "import seaborn as sns\n",
    "import matplotlib.pyplot as plt\n",
    "\n",
    "df.Orgao_Solicitante[df.Ano == 2017].value_counts()"
   ]
  },
  {
   "cell_type": "markdown",
   "metadata": {},
   "source": [
    "#### b) E em 2018?"
   ]
  },
  {
   "cell_type": "markdown",
   "metadata": {},
   "source": [
    "#### c) E em 2019?"
   ]
  },
  {
   "cell_type": "markdown",
   "metadata": {},
   "source": [
    "### 2) Qual o tipo mais solicitado, diárias ou passagens? Qual dos dois demandou os maiores gastos e quanto?"
   ]
  },
  {
   "cell_type": "markdown",
   "metadata": {},
   "source": [
    "### 3) Fazer uma análise de boxplot para cada ano e para o total de solicitações:"
   ]
  },
  {
   "cell_type": "markdown",
   "metadata": {},
   "source": [
    "#### a) Analisar e fazer uma comparação dos outliers de cada ano e discorrer sobre."
   ]
  },
  {
   "cell_type": "markdown",
   "metadata": {},
   "source": [
    "#### b) Analisar os limites inferiores e superiores discorrer sobre."
   ]
  },
  {
   "cell_type": "markdown",
   "metadata": {},
   "source": [
    "#### c) Analisar as assimetrias discorrer sobre."
   ]
  },
  {
   "cell_type": "markdown",
   "metadata": {},
   "source": [
    "#### d) Comparar o comportamento destes parâmetros dos anos individuais com os parâmetros do gráfico do total (Valor Viagem) discorrer sobre. "
   ]
  },
  {
   "cell_type": "markdown",
   "metadata": {},
   "source": [
    "### 4) Qual o desvio padrão para cada ano? Comparar os desvios padrão de cada entre si e entre o total."
   ]
  },
  {
   "cell_type": "markdown",
   "metadata": {},
   "source": [
    "### 5) Há correlação entre os dados? Quais são as correlações?"
   ]
  },
  {
   "cell_type": "markdown",
   "metadata": {},
   "source": [
    "### 6) Fazer uma análise de Time Series."
   ]
  },
  {
   "cell_type": "markdown",
   "metadata": {},
   "source": [
    "### 7) Fazer uma previsão de futuras demandas usando ARIMA, para 2020, 2021, 2022 e 2023? "
   ]
  },
  {
   "cell_type": "markdown",
   "metadata": {},
   "source": [
    "### 8) Há relação de Pareto entre os dados? Fazer um gráfico de Pareto e analisar."
   ]
  }
 ],
 "metadata": {
  "kernelspec": {
   "display_name": "Python 3",
   "language": "python",
   "name": "python3"
  },
  "language_info": {
   "codemirror_mode": {
    "name": "ipython",
    "version": 3
   },
   "file_extension": ".py",
   "mimetype": "text/x-python",
   "name": "python",
   "nbconvert_exporter": "python",
   "pygments_lexer": "ipython3",
   "version": "3.8.5"
  }
 },
 "nbformat": 4,
 "nbformat_minor": 4
}
